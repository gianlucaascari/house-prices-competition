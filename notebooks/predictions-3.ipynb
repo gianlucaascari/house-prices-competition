{
 "cells": [
  {
   "cell_type": "code",
   "execution_count": 2,
   "id": "1dca2bbc",
   "metadata": {},
   "outputs": [
    {
     "name": "stderr",
     "output_type": "stream",
     "text": [
      "/opt/miniconda3/envs/torch_study/lib/python3.11/site-packages/tqdm/auto.py:21: TqdmWarning: IProgress not found. Please update jupyter and ipywidgets. See https://ipywidgets.readthedocs.io/en/stable/user_install.html\n",
      "  from .autonotebook import tqdm as notebook_tqdm\n"
     ]
    }
   ],
   "source": [
    "%load_ext autoreload\n",
    "%autoreload 2\n",
    "\n",
    "import sys\n",
    "sys.path.append(\"..\")   # se notebook sta in notebooks/ e src/ è a fianco\n",
    "\n",
    "import src.data as dt\n",
    "import src.models as md\n",
    "import src.features as ft\n",
    "import src.predict as pd\n",
    "import src.preprocessing as pp\n",
    "import mlflow"
   ]
  },
  {
   "cell_type": "code",
   "execution_count": null,
   "id": "f84dffa2",
   "metadata": {},
   "outputs": [],
   "source": [
    "X_train, X_val, y_train, y_val, full_df = dt.load_train_data()\n",
    "\n",
    "print('X_train shape: ', X_train.shape)\n",
    "print('y_train shape: ', y_train.shape)\n",
    "print('X_val shape: ', X_val.shape)\n",
    "print('y_val shape: ', y_val.shape)\n",
    "\n",
    "print('Full dataframe shape: ', full_df.shape)\n",
    "full_df.head()"
   ]
  },
  {
   "cell_type": "code",
   "execution_count": 11,
   "id": "85cc3e34",
   "metadata": {},
   "outputs": [],
   "source": [
    "mlflow.set_tracking_uri('http://127.0.0.1:8080')\n",
    "experiment = mlflow.set_experiment('Kaggle_Ames_Housing')\n",
    "\n",
    "dataset = mlflow.data.from_pandas(full_df, name='93_features_log_attr_targ')"
   ]
  },
  {
   "cell_type": "markdown",
   "id": "db9ec6b8",
   "metadata": {},
   "source": [
    "## 2. Feature Importance"
   ]
  },
  {
   "cell_type": "code",
   "execution_count": 8,
   "id": "8115cdb1",
   "metadata": {},
   "outputs": [
    {
     "name": "stdout",
     "output_type": "stream",
     "text": [
      "Values to compute: .\n",
      "(92, 7)\n",
      "92\n"
     ]
    },
    {
     "data": {
      "text/html": [
       "<div>\n",
       "<style scoped>\n",
       "    .dataframe tbody tr th:only-of-type {\n",
       "        vertical-align: middle;\n",
       "    }\n",
       "\n",
       "    .dataframe tbody tr th {\n",
       "        vertical-align: top;\n",
       "    }\n",
       "\n",
       "    .dataframe thead th {\n",
       "        text-align: right;\n",
       "    }\n",
       "</style>\n",
       "<table border=\"1\" class=\"dataframe\">\n",
       "  <thead>\n",
       "    <tr style=\"text-align: right;\">\n",
       "      <th></th>\n",
       "      <th>feature</th>\n",
       "      <th>importance_xgb</th>\n",
       "      <th>importance_ctb</th>\n",
       "      <th>importance_lgb</th>\n",
       "      <th>importance_svr</th>\n",
       "      <th>importance_mlp</th>\n",
       "      <th>importance_knn</th>\n",
       "    </tr>\n",
       "  </thead>\n",
       "  <tbody>\n",
       "    <tr>\n",
       "      <th>42</th>\n",
       "      <td>1stFlrSF</td>\n",
       "      <td>0.011525</td>\n",
       "      <td>0.021607</td>\n",
       "      <td>0.012634</td>\n",
       "      <td>0.032836</td>\n",
       "      <td>0.016621</td>\n",
       "      <td>0.016313</td>\n",
       "    </tr>\n",
       "    <tr>\n",
       "      <th>43</th>\n",
       "      <td>2ndFlrSF</td>\n",
       "      <td>0.005384</td>\n",
       "      <td>0.012723</td>\n",
       "      <td>0.004331</td>\n",
       "      <td>0.001088</td>\n",
       "      <td>0.070467</td>\n",
       "      <td>0.006724</td>\n",
       "    </tr>\n",
       "    <tr>\n",
       "      <th>68</th>\n",
       "      <td>3SsnPorch</td>\n",
       "      <td>0.001234</td>\n",
       "      <td>0.000409</td>\n",
       "      <td>0.000158</td>\n",
       "      <td>0.003090</td>\n",
       "      <td>0.003583</td>\n",
       "      <td>0.006563</td>\n",
       "    </tr>\n",
       "    <tr>\n",
       "      <th>5</th>\n",
       "      <td>Alley</td>\n",
       "      <td>0.003834</td>\n",
       "      <td>0.000392</td>\n",
       "      <td>0.000185</td>\n",
       "      <td>0.003206</td>\n",
       "      <td>0.003025</td>\n",
       "      <td>0.006928</td>\n",
       "    </tr>\n",
       "    <tr>\n",
       "      <th>50</th>\n",
       "      <td>BedroomAbvGr</td>\n",
       "      <td>0.004635</td>\n",
       "      <td>0.001634</td>\n",
       "      <td>0.001630</td>\n",
       "      <td>0.000683</td>\n",
       "      <td>0.005438</td>\n",
       "      <td>0.000832</td>\n",
       "    </tr>\n",
       "  </tbody>\n",
       "</table>\n",
       "</div>"
      ],
      "text/plain": [
       "         feature  importance_xgb  importance_ctb  importance_lgb  \\\n",
       "42      1stFlrSF        0.011525        0.021607        0.012634   \n",
       "43      2ndFlrSF        0.005384        0.012723        0.004331   \n",
       "68     3SsnPorch        0.001234        0.000409        0.000158   \n",
       "5          Alley        0.003834        0.000392        0.000185   \n",
       "50  BedroomAbvGr        0.004635        0.001634        0.001630   \n",
       "\n",
       "    importance_svr  importance_mlp  importance_knn  \n",
       "42        0.032836        0.016621        0.016313  \n",
       "43        0.001088        0.070467        0.006724  \n",
       "68        0.003090        0.003583        0.006563  \n",
       "5         0.003206        0.003025        0.006928  \n",
       "50        0.000683        0.005438        0.000832  "
      ]
     },
     "execution_count": 8,
     "metadata": {},
     "output_type": "execute_result"
    }
   ],
   "source": [
    "importance_dfs = ft.get_feature_importances(md.MODELS, X_train, y_train)\n",
    "importance_df = ft.combine_feature_importances(importance_dfs)\n",
    "\n",
    "print(importance_df.shape)\n",
    "print(len(importance_df))\n",
    "importance_df.head()"
   ]
  },
  {
   "cell_type": "code",
   "execution_count": 9,
   "id": "0b845898",
   "metadata": {},
   "outputs": [
    {
     "data": {
      "application/vnd.plotly.v1+json": {
       "config": {
        "plotlyServerURL": "https://plot.ly"
       },
       "data": [
        {
         "alignmentgroup": "True",
         "hovertemplate": "model=xgb<br>feature=%{x}<br>importance=%{y}<extra></extra>",
         "legendgroup": "xgb",
         "marker": {
          "color": "#636efa",
          "pattern": {
           "shape": ""
          }
         },
         "name": "xgb",
         "offsetgroup": "xgb",
         "orientation": "v",
         "showlegend": true,
         "textposition": "auto",
         "type": "bar",
         "x": [
          "QualArea",
          "TotalSF",
          "Neighborhood",
          "CondArea",
          "OverallQual",
          "GarageCars",
          "YearBuilt",
          "LotArea",
          "BsmtFinSF1",
          "KitchenQual",
          "GrLivArea",
          "OverallGrade",
          "TotalBath",
          "TotalBsmtSF",
          "1stFlrSF"
         ],
         "xaxis": "x",
         "y": {
          "bdata": "DEy4oXNI2z/fUu8lZFK0P5OE6SBUTrw/hM+cFjiwpz+Li8SA/NejPwR1Z3lg+KE/TajdOPTZlz9rjR1hDD2iP0VkmuHt3qQ/swk6nvKPnj9CROV8/GB3PzhhJZMRH5U/3NzNkICKiD+kYozdeFahP99Fz5VXmoc/",
          "dtype": "f8"
         },
         "yaxis": "y"
        },
        {
         "alignmentgroup": "True",
         "hovertemplate": "model=ctb<br>feature=%{x}<br>importance=%{y}<extra></extra>",
         "legendgroup": "ctb",
         "marker": {
          "color": "#EF553B",
          "pattern": {
           "shape": ""
          }
         },
         "name": "ctb",
         "offsetgroup": "ctb",
         "orientation": "v",
         "showlegend": true,
         "textposition": "auto",
         "type": "bar",
         "x": [
          "QualArea",
          "TotalSF",
          "Neighborhood",
          "CondArea",
          "OverallQual",
          "GarageCars",
          "YearBuilt",
          "LotArea",
          "BsmtFinSF1",
          "KitchenQual",
          "GrLivArea",
          "OverallGrade",
          "TotalBath",
          "TotalBsmtSF",
          "1stFlrSF"
         ],
         "xaxis": "x",
         "y": {
          "bdata": "wLVuSwzlvj8PjlE5hMe+P5QRRnSEIbg/YXixBYRCrz8GuxWOsDOrP0QW9CX9RKE/B+GjO0gbmj9SL637sSWfP+Lp/VhWcJc//Ac634KsoT/PHFYXOaGaPw5SBcJwt6U/aX9YQGm0qz9mwz72q1qbP2dZnYEFIJY/",
          "dtype": "f8"
         },
         "yaxis": "y"
        },
        {
         "alignmentgroup": "True",
         "hovertemplate": "model=lgb<br>feature=%{x}<br>importance=%{y}<extra></extra>",
         "legendgroup": "lgb",
         "marker": {
          "color": "#00cc96",
          "pattern": {
           "shape": ""
          }
         },
         "name": "lgb",
         "offsetgroup": "lgb",
         "orientation": "v",
         "showlegend": true,
         "textposition": "auto",
         "type": "bar",
         "x": [
          "QualArea",
          "TotalSF",
          "Neighborhood",
          "CondArea",
          "OverallQual",
          "GarageCars",
          "YearBuilt",
          "LotArea",
          "BsmtFinSF1",
          "KitchenQual",
          "GrLivArea",
          "OverallGrade",
          "TotalBath",
          "TotalBsmtSF",
          "1stFlrSF"
         ],
         "xaxis": "x",
         "y": {
          "bdata": "T5GE0Rn41j8k2WBYPHC4P+lsVoL8lMA/fs6odQnKqj8LklQGSPWqP0UHKGkI7ps/1h+RumQ9mD8GkFn1UTicP2b0g15lgaI/XgQdbzlZoD+7/u8lKkp5PyL6t0cDRp0/Vx4mrrLGij+bgis7/hyfPzaoMt8L4Ik/",
          "dtype": "f8"
         },
         "yaxis": "y"
        },
        {
         "alignmentgroup": "True",
         "hovertemplate": "model=svr<br>feature=%{x}<br>importance=%{y}<extra></extra>",
         "legendgroup": "svr",
         "marker": {
          "color": "#ab63fa",
          "pattern": {
           "shape": ""
          }
         },
         "name": "svr",
         "offsetgroup": "svr",
         "orientation": "v",
         "showlegend": true,
         "textposition": "auto",
         "type": "bar",
         "x": [
          "QualArea",
          "TotalSF",
          "Neighborhood",
          "CondArea",
          "OverallQual",
          "GarageCars",
          "YearBuilt",
          "LotArea",
          "BsmtFinSF1",
          "KitchenQual",
          "GrLivArea",
          "OverallGrade",
          "TotalBath",
          "TotalBsmtSF",
          "1stFlrSF"
         ],
         "xaxis": "x",
         "y": {
          "bdata": "RnQIhs+UsT/rOoNJkyO0P+fQ6kmfgpg/uO3Xc7h1sT/O7jAqWSKmP220iJDei6A/MDcqMgWbkj9WeUT8n+igP1S8FClohJk/Hv7k7qJMkj8dGh5UYUSwPzoCaICAmp0/fXZklFn1cj9tfPg9jv9zP0KtWnHXz6A/",
          "dtype": "f8"
         },
         "yaxis": "y"
        },
        {
         "alignmentgroup": "True",
         "hovertemplate": "model=mlp<br>feature=%{x}<br>importance=%{y}<extra></extra>",
         "legendgroup": "mlp",
         "marker": {
          "color": "#FFA15A",
          "pattern": {
           "shape": ""
          }
         },
         "name": "mlp",
         "offsetgroup": "mlp",
         "orientation": "v",
         "showlegend": true,
         "textposition": "auto",
         "type": "bar",
         "x": [
          "QualArea",
          "TotalSF",
          "Neighborhood",
          "CondArea",
          "OverallQual",
          "GarageCars",
          "YearBuilt",
          "LotArea",
          "BsmtFinSF1",
          "KitchenQual",
          "GrLivArea",
          "OverallGrade",
          "TotalBath",
          "TotalBsmtSF",
          "1stFlrSF"
         ],
         "xaxis": "x",
         "y": {
          "bdata": "uANFwo8sxj8P1DhLpdeuP5seJ7vrMJ8/ePcE7uZMsj80RZlgT8iDP2LL6BUKqp4/SjqT29IftD+86FrPOTSkP7qC/kX024M/KmP0GgpRgj/N8GIPwNd8P1pg0bEyAl8/kWTB/Xr0Vz/PSjZC2uyBP8MX8+4VBZE/",
          "dtype": "f8"
         },
         "yaxis": "y"
        },
        {
         "alignmentgroup": "True",
         "hovertemplate": "model=knn<br>feature=%{x}<br>importance=%{y}<extra></extra>",
         "legendgroup": "knn",
         "marker": {
          "color": "#19d3f3",
          "pattern": {
           "shape": ""
          }
         },
         "name": "knn",
         "offsetgroup": "knn",
         "orientation": "v",
         "showlegend": true,
         "textposition": "auto",
         "type": "bar",
         "x": [
          "QualArea",
          "TotalSF",
          "Neighborhood",
          "CondArea",
          "OverallQual",
          "GarageCars",
          "YearBuilt",
          "LotArea",
          "BsmtFinSF1",
          "KitchenQual",
          "GrLivArea",
          "OverallGrade",
          "TotalBath",
          "TotalBsmtSF",
          "1stFlrSF"
         ],
         "xaxis": "x",
         "y": {
          "bdata": "hgngb0GnoD8og9Ldiu2ZPwMY8j+2mZQ/tvTbVrZsmT+X2JoX/86YPzMp8EGopJg/3CbLsN5zcz9IvssMkSx8P5KALHpY04c/Tv9Yov06lD8CtXLeK4mgP+vhIpUS64Q/gxRNEUGznD+okxD9nEF9Px6LPv5ytJA/",
          "dtype": "f8"
         },
         "yaxis": "y"
        }
       ],
       "layout": {
        "barmode": "group",
        "legend": {
         "title": {
          "text": "model"
         },
         "tracegroupgap": 0
        },
        "margin": {
         "t": 60
        },
        "template": {
         "data": {
          "bar": [
           {
            "error_x": {
             "color": "#2a3f5f"
            },
            "error_y": {
             "color": "#2a3f5f"
            },
            "marker": {
             "line": {
              "color": "#E5ECF6",
              "width": 0.5
             },
             "pattern": {
              "fillmode": "overlay",
              "size": 10,
              "solidity": 0.2
             }
            },
            "type": "bar"
           }
          ],
          "barpolar": [
           {
            "marker": {
             "line": {
              "color": "#E5ECF6",
              "width": 0.5
             },
             "pattern": {
              "fillmode": "overlay",
              "size": 10,
              "solidity": 0.2
             }
            },
            "type": "barpolar"
           }
          ],
          "carpet": [
           {
            "aaxis": {
             "endlinecolor": "#2a3f5f",
             "gridcolor": "white",
             "linecolor": "white",
             "minorgridcolor": "white",
             "startlinecolor": "#2a3f5f"
            },
            "baxis": {
             "endlinecolor": "#2a3f5f",
             "gridcolor": "white",
             "linecolor": "white",
             "minorgridcolor": "white",
             "startlinecolor": "#2a3f5f"
            },
            "type": "carpet"
           }
          ],
          "choropleth": [
           {
            "colorbar": {
             "outlinewidth": 0,
             "ticks": ""
            },
            "type": "choropleth"
           }
          ],
          "contour": [
           {
            "colorbar": {
             "outlinewidth": 0,
             "ticks": ""
            },
            "colorscale": [
             [
              0,
              "#0d0887"
             ],
             [
              0.1111111111111111,
              "#46039f"
             ],
             [
              0.2222222222222222,
              "#7201a8"
             ],
             [
              0.3333333333333333,
              "#9c179e"
             ],
             [
              0.4444444444444444,
              "#bd3786"
             ],
             [
              0.5555555555555556,
              "#d8576b"
             ],
             [
              0.6666666666666666,
              "#ed7953"
             ],
             [
              0.7777777777777778,
              "#fb9f3a"
             ],
             [
              0.8888888888888888,
              "#fdca26"
             ],
             [
              1,
              "#f0f921"
             ]
            ],
            "type": "contour"
           }
          ],
          "contourcarpet": [
           {
            "colorbar": {
             "outlinewidth": 0,
             "ticks": ""
            },
            "type": "contourcarpet"
           }
          ],
          "heatmap": [
           {
            "colorbar": {
             "outlinewidth": 0,
             "ticks": ""
            },
            "colorscale": [
             [
              0,
              "#0d0887"
             ],
             [
              0.1111111111111111,
              "#46039f"
             ],
             [
              0.2222222222222222,
              "#7201a8"
             ],
             [
              0.3333333333333333,
              "#9c179e"
             ],
             [
              0.4444444444444444,
              "#bd3786"
             ],
             [
              0.5555555555555556,
              "#d8576b"
             ],
             [
              0.6666666666666666,
              "#ed7953"
             ],
             [
              0.7777777777777778,
              "#fb9f3a"
             ],
             [
              0.8888888888888888,
              "#fdca26"
             ],
             [
              1,
              "#f0f921"
             ]
            ],
            "type": "heatmap"
           }
          ],
          "histogram": [
           {
            "marker": {
             "pattern": {
              "fillmode": "overlay",
              "size": 10,
              "solidity": 0.2
             }
            },
            "type": "histogram"
           }
          ],
          "histogram2d": [
           {
            "colorbar": {
             "outlinewidth": 0,
             "ticks": ""
            },
            "colorscale": [
             [
              0,
              "#0d0887"
             ],
             [
              0.1111111111111111,
              "#46039f"
             ],
             [
              0.2222222222222222,
              "#7201a8"
             ],
             [
              0.3333333333333333,
              "#9c179e"
             ],
             [
              0.4444444444444444,
              "#bd3786"
             ],
             [
              0.5555555555555556,
              "#d8576b"
             ],
             [
              0.6666666666666666,
              "#ed7953"
             ],
             [
              0.7777777777777778,
              "#fb9f3a"
             ],
             [
              0.8888888888888888,
              "#fdca26"
             ],
             [
              1,
              "#f0f921"
             ]
            ],
            "type": "histogram2d"
           }
          ],
          "histogram2dcontour": [
           {
            "colorbar": {
             "outlinewidth": 0,
             "ticks": ""
            },
            "colorscale": [
             [
              0,
              "#0d0887"
             ],
             [
              0.1111111111111111,
              "#46039f"
             ],
             [
              0.2222222222222222,
              "#7201a8"
             ],
             [
              0.3333333333333333,
              "#9c179e"
             ],
             [
              0.4444444444444444,
              "#bd3786"
             ],
             [
              0.5555555555555556,
              "#d8576b"
             ],
             [
              0.6666666666666666,
              "#ed7953"
             ],
             [
              0.7777777777777778,
              "#fb9f3a"
             ],
             [
              0.8888888888888888,
              "#fdca26"
             ],
             [
              1,
              "#f0f921"
             ]
            ],
            "type": "histogram2dcontour"
           }
          ],
          "mesh3d": [
           {
            "colorbar": {
             "outlinewidth": 0,
             "ticks": ""
            },
            "type": "mesh3d"
           }
          ],
          "parcoords": [
           {
            "line": {
             "colorbar": {
              "outlinewidth": 0,
              "ticks": ""
             }
            },
            "type": "parcoords"
           }
          ],
          "pie": [
           {
            "automargin": true,
            "type": "pie"
           }
          ],
          "scatter": [
           {
            "fillpattern": {
             "fillmode": "overlay",
             "size": 10,
             "solidity": 0.2
            },
            "type": "scatter"
           }
          ],
          "scatter3d": [
           {
            "line": {
             "colorbar": {
              "outlinewidth": 0,
              "ticks": ""
             }
            },
            "marker": {
             "colorbar": {
              "outlinewidth": 0,
              "ticks": ""
             }
            },
            "type": "scatter3d"
           }
          ],
          "scattercarpet": [
           {
            "marker": {
             "colorbar": {
              "outlinewidth": 0,
              "ticks": ""
             }
            },
            "type": "scattercarpet"
           }
          ],
          "scattergeo": [
           {
            "marker": {
             "colorbar": {
              "outlinewidth": 0,
              "ticks": ""
             }
            },
            "type": "scattergeo"
           }
          ],
          "scattergl": [
           {
            "marker": {
             "colorbar": {
              "outlinewidth": 0,
              "ticks": ""
             }
            },
            "type": "scattergl"
           }
          ],
          "scattermap": [
           {
            "marker": {
             "colorbar": {
              "outlinewidth": 0,
              "ticks": ""
             }
            },
            "type": "scattermap"
           }
          ],
          "scattermapbox": [
           {
            "marker": {
             "colorbar": {
              "outlinewidth": 0,
              "ticks": ""
             }
            },
            "type": "scattermapbox"
           }
          ],
          "scatterpolar": [
           {
            "marker": {
             "colorbar": {
              "outlinewidth": 0,
              "ticks": ""
             }
            },
            "type": "scatterpolar"
           }
          ],
          "scatterpolargl": [
           {
            "marker": {
             "colorbar": {
              "outlinewidth": 0,
              "ticks": ""
             }
            },
            "type": "scatterpolargl"
           }
          ],
          "scatterternary": [
           {
            "marker": {
             "colorbar": {
              "outlinewidth": 0,
              "ticks": ""
             }
            },
            "type": "scatterternary"
           }
          ],
          "surface": [
           {
            "colorbar": {
             "outlinewidth": 0,
             "ticks": ""
            },
            "colorscale": [
             [
              0,
              "#0d0887"
             ],
             [
              0.1111111111111111,
              "#46039f"
             ],
             [
              0.2222222222222222,
              "#7201a8"
             ],
             [
              0.3333333333333333,
              "#9c179e"
             ],
             [
              0.4444444444444444,
              "#bd3786"
             ],
             [
              0.5555555555555556,
              "#d8576b"
             ],
             [
              0.6666666666666666,
              "#ed7953"
             ],
             [
              0.7777777777777778,
              "#fb9f3a"
             ],
             [
              0.8888888888888888,
              "#fdca26"
             ],
             [
              1,
              "#f0f921"
             ]
            ],
            "type": "surface"
           }
          ],
          "table": [
           {
            "cells": {
             "fill": {
              "color": "#EBF0F8"
             },
             "line": {
              "color": "white"
             }
            },
            "header": {
             "fill": {
              "color": "#C8D4E3"
             },
             "line": {
              "color": "white"
             }
            },
            "type": "table"
           }
          ]
         },
         "layout": {
          "annotationdefaults": {
           "arrowcolor": "#2a3f5f",
           "arrowhead": 0,
           "arrowwidth": 1
          },
          "autotypenumbers": "strict",
          "coloraxis": {
           "colorbar": {
            "outlinewidth": 0,
            "ticks": ""
           }
          },
          "colorscale": {
           "diverging": [
            [
             0,
             "#8e0152"
            ],
            [
             0.1,
             "#c51b7d"
            ],
            [
             0.2,
             "#de77ae"
            ],
            [
             0.3,
             "#f1b6da"
            ],
            [
             0.4,
             "#fde0ef"
            ],
            [
             0.5,
             "#f7f7f7"
            ],
            [
             0.6,
             "#e6f5d0"
            ],
            [
             0.7,
             "#b8e186"
            ],
            [
             0.8,
             "#7fbc41"
            ],
            [
             0.9,
             "#4d9221"
            ],
            [
             1,
             "#276419"
            ]
           ],
           "sequential": [
            [
             0,
             "#0d0887"
            ],
            [
             0.1111111111111111,
             "#46039f"
            ],
            [
             0.2222222222222222,
             "#7201a8"
            ],
            [
             0.3333333333333333,
             "#9c179e"
            ],
            [
             0.4444444444444444,
             "#bd3786"
            ],
            [
             0.5555555555555556,
             "#d8576b"
            ],
            [
             0.6666666666666666,
             "#ed7953"
            ],
            [
             0.7777777777777778,
             "#fb9f3a"
            ],
            [
             0.8888888888888888,
             "#fdca26"
            ],
            [
             1,
             "#f0f921"
            ]
           ],
           "sequentialminus": [
            [
             0,
             "#0d0887"
            ],
            [
             0.1111111111111111,
             "#46039f"
            ],
            [
             0.2222222222222222,
             "#7201a8"
            ],
            [
             0.3333333333333333,
             "#9c179e"
            ],
            [
             0.4444444444444444,
             "#bd3786"
            ],
            [
             0.5555555555555556,
             "#d8576b"
            ],
            [
             0.6666666666666666,
             "#ed7953"
            ],
            [
             0.7777777777777778,
             "#fb9f3a"
            ],
            [
             0.8888888888888888,
             "#fdca26"
            ],
            [
             1,
             "#f0f921"
            ]
           ]
          },
          "colorway": [
           "#636efa",
           "#EF553B",
           "#00cc96",
           "#ab63fa",
           "#FFA15A",
           "#19d3f3",
           "#FF6692",
           "#B6E880",
           "#FF97FF",
           "#FECB52"
          ],
          "font": {
           "color": "#2a3f5f"
          },
          "geo": {
           "bgcolor": "white",
           "lakecolor": "white",
           "landcolor": "#E5ECF6",
           "showlakes": true,
           "showland": true,
           "subunitcolor": "white"
          },
          "hoverlabel": {
           "align": "left"
          },
          "hovermode": "closest",
          "mapbox": {
           "style": "light"
          },
          "paper_bgcolor": "white",
          "plot_bgcolor": "#E5ECF6",
          "polar": {
           "angularaxis": {
            "gridcolor": "white",
            "linecolor": "white",
            "ticks": ""
           },
           "bgcolor": "#E5ECF6",
           "radialaxis": {
            "gridcolor": "white",
            "linecolor": "white",
            "ticks": ""
           }
          },
          "scene": {
           "xaxis": {
            "backgroundcolor": "#E5ECF6",
            "gridcolor": "white",
            "gridwidth": 2,
            "linecolor": "white",
            "showbackground": true,
            "ticks": "",
            "zerolinecolor": "white"
           },
           "yaxis": {
            "backgroundcolor": "#E5ECF6",
            "gridcolor": "white",
            "gridwidth": 2,
            "linecolor": "white",
            "showbackground": true,
            "ticks": "",
            "zerolinecolor": "white"
           },
           "zaxis": {
            "backgroundcolor": "#E5ECF6",
            "gridcolor": "white",
            "gridwidth": 2,
            "linecolor": "white",
            "showbackground": true,
            "ticks": "",
            "zerolinecolor": "white"
           }
          },
          "shapedefaults": {
           "line": {
            "color": "#2a3f5f"
           }
          },
          "ternary": {
           "aaxis": {
            "gridcolor": "white",
            "linecolor": "white",
            "ticks": ""
           },
           "baxis": {
            "gridcolor": "white",
            "linecolor": "white",
            "ticks": ""
           },
           "bgcolor": "#E5ECF6",
           "caxis": {
            "gridcolor": "white",
            "linecolor": "white",
            "ticks": ""
           }
          },
          "title": {
           "x": 0.05
          },
          "xaxis": {
           "automargin": true,
           "gridcolor": "white",
           "linecolor": "white",
           "ticks": "",
           "title": {
            "standoff": 15
           },
           "zerolinecolor": "white",
           "zerolinewidth": 2
          },
          "yaxis": {
           "automargin": true,
           "gridcolor": "white",
           "linecolor": "white",
           "ticks": "",
           "title": {
            "standoff": 15
           },
           "zerolinecolor": "white",
           "zerolinewidth": 2
          }
         }
        },
        "xaxis": {
         "anchor": "y",
         "domain": [
          0,
          1
         ],
         "title": {
          "text": "feature"
         }
        },
        "yaxis": {
         "anchor": "x",
         "domain": [
          0,
          1
         ],
         "title": {
          "text": "importance"
         }
        }
       }
      }
     },
     "metadata": {},
     "output_type": "display_data"
    },
    {
     "data": {
      "application/vnd.plotly.v1+json": {
       "config": {
        "plotlyServerURL": "https://plot.ly"
       },
       "data": [
        {
         "alignmentgroup": "True",
         "hovertemplate": "model=xgb<br>feature=%{x}<br>rank=%{y}<extra></extra>",
         "legendgroup": "xgb",
         "marker": {
          "color": "#636efa",
          "pattern": {
           "shape": ""
          }
         },
         "name": "xgb",
         "offsetgroup": "xgb",
         "orientation": "v",
         "showlegend": true,
         "textposition": "auto",
         "type": "bar",
         "x": [
          "QualArea",
          "TotalSF",
          "CondArea",
          "Neighborhood",
          "OverallQual",
          "GarageCars",
          "LotArea",
          "KitchenQual",
          "BsmtFinSF1",
          "1stFlrSF",
          "GarageArea",
          "BsmtFinType1",
          "YearBuilt",
          "TotalBsmtSF",
          "GrLivArea"
         ],
         "xaxis": "x",
         "y": {
          "bdata": "AAAAAAAA8D8AAAAAAAAIQAAAAAAAABBAAAAAAAAAAEAAAAAAAAAYQAAAAAAAACBAAAAAAAAAHEAAAAAAAAAkQAAAAAAAABRAAAAAAAAAO0AAAAAAAAAwQAAAAAAAACpAAAAAAAAALEAAAAAAAAAiQAAAAAAAgERA",
          "dtype": "f8"
         },
         "yaxis": "y"
        },
        {
         "alignmentgroup": "True",
         "hovertemplate": "model=ctb<br>feature=%{x}<br>rank=%{y}<extra></extra>",
         "legendgroup": "ctb",
         "marker": {
          "color": "#EF553B",
          "pattern": {
           "shape": ""
          }
         },
         "name": "ctb",
         "offsetgroup": "ctb",
         "orientation": "v",
         "showlegend": true,
         "textposition": "auto",
         "type": "bar",
         "x": [
          "QualArea",
          "TotalSF",
          "CondArea",
          "Neighborhood",
          "OverallQual",
          "GarageCars",
          "LotArea",
          "KitchenQual",
          "BsmtFinSF1",
          "1stFlrSF",
          "GarageArea",
          "BsmtFinType1",
          "YearBuilt",
          "TotalBsmtSF",
          "GrLivArea"
         ],
         "xaxis": "x",
         "y": {
          "bdata": "AAAAAAAA8D8AAAAAAAAAQAAAAAAAABBAAAAAAAAACEAAAAAAAAAYQAAAAAAAACRAAAAAAAAAKEAAAAAAAAAiQAAAAAAAADVAAAAAAAAAOUAAAAAAAAA4QAAAAAAAADJAAAAAAAAAMUAAAAAAAAAsQAAAAAAAAC5A",
          "dtype": "f8"
         },
         "yaxis": "y"
        },
        {
         "alignmentgroup": "True",
         "hovertemplate": "model=lgb<br>feature=%{x}<br>rank=%{y}<extra></extra>",
         "legendgroup": "lgb",
         "marker": {
          "color": "#00cc96",
          "pattern": {
           "shape": ""
          }
         },
         "name": "lgb",
         "offsetgroup": "lgb",
         "orientation": "v",
         "showlegend": true,
         "textposition": "auto",
         "type": "bar",
         "x": [
          "QualArea",
          "TotalSF",
          "CondArea",
          "Neighborhood",
          "OverallQual",
          "GarageCars",
          "LotArea",
          "KitchenQual",
          "BsmtFinSF1",
          "1stFlrSF",
          "GarageArea",
          "BsmtFinType1",
          "YearBuilt",
          "TotalBsmtSF",
          "GrLivArea"
         ],
         "xaxis": "x",
         "y": {
          "bdata": "AAAAAAAA8D8AAAAAAAAIQAAAAAAAABRAAAAAAAAAAEAAAAAAAAAQQAAAAAAAAChAAAAAAAAAJkAAAAAAAAAcQAAAAAAAABhAAAAAAAAAO0AAAAAAAAA1QAAAAAAAACpAAAAAAAAALEAAAAAAAAAgQAAAAAAAAEVA",
          "dtype": "f8"
         },
         "yaxis": "y"
        },
        {
         "alignmentgroup": "True",
         "hovertemplate": "model=svr<br>feature=%{x}<br>rank=%{y}<extra></extra>",
         "legendgroup": "svr",
         "marker": {
          "color": "#ab63fa",
          "pattern": {
           "shape": ""
          }
         },
         "name": "svr",
         "offsetgroup": "svr",
         "orientation": "v",
         "showlegend": true,
         "textposition": "auto",
         "type": "bar",
         "x": [
          "QualArea",
          "TotalSF",
          "CondArea",
          "Neighborhood",
          "OverallQual",
          "GarageCars",
          "LotArea",
          "KitchenQual",
          "BsmtFinSF1",
          "1stFlrSF",
          "GarageArea",
          "BsmtFinType1",
          "YearBuilt",
          "TotalBsmtSF",
          "GrLivArea"
         ],
         "xaxis": "x",
         "y": {
          "bdata": "AAAAAAAAAEAAAAAAAADwPwAAAAAAAAhAAAAAAAAAJkAAAAAAAAAUQAAAAAAAACBAAAAAAAAAGEAAAAAAAAAxQAAAAAAAACRAAAAAAAAAHEAAAAAAAAAoQAAAAAAAADVAAAAAAAAAMEAAAAAAAIBAQAAAAAAAABBA",
          "dtype": "f8"
         },
         "yaxis": "y"
        },
        {
         "alignmentgroup": "True",
         "hovertemplate": "model=mlp<br>feature=%{x}<br>rank=%{y}<extra></extra>",
         "legendgroup": "mlp",
         "marker": {
          "color": "#FFA15A",
          "pattern": {
           "shape": ""
          }
         },
         "name": "mlp",
         "offsetgroup": "mlp",
         "orientation": "v",
         "showlegend": true,
         "textposition": "auto",
         "type": "bar",
         "x": [
          "QualArea",
          "TotalSF",
          "CondArea",
          "Neighborhood",
          "OverallQual",
          "GarageCars",
          "LotArea",
          "KitchenQual",
          "BsmtFinSF1",
          "1stFlrSF",
          "GarageArea",
          "BsmtFinType1",
          "YearBuilt",
          "TotalBsmtSF",
          "GrLivArea"
         ],
         "xaxis": "x",
         "y": {
          "bdata": "AAAAAAAA8D8AAAAAAAAUQAAAAAAAAAhAAAAAAAAAIEAAAAAAAAA7QAAAAAAAACRAAAAAAAAAHEAAAAAAAAA8QAAAAAAAADpAAAAAAAAALkAAAAAAAAA+QAAAAAAAADVAAAAAAAAAAEAAAAAAAAA9QAAAAAAAgEFA",
          "dtype": "f8"
         },
         "yaxis": "y"
        },
        {
         "alignmentgroup": "True",
         "hovertemplate": "model=knn<br>feature=%{x}<br>rank=%{y}<extra></extra>",
         "legendgroup": "knn",
         "marker": {
          "color": "#19d3f3",
          "pattern": {
           "shape": ""
          }
         },
         "name": "knn",
         "offsetgroup": "knn",
         "orientation": "v",
         "showlegend": true,
         "textposition": "auto",
         "type": "bar",
         "x": [
          "QualArea",
          "TotalSF",
          "CondArea",
          "Neighborhood",
          "OverallQual",
          "GarageCars",
          "LotArea",
          "KitchenQual",
          "BsmtFinSF1",
          "1stFlrSF",
          "GarageArea",
          "BsmtFinType1",
          "YearBuilt",
          "TotalBsmtSF",
          "GrLivArea"
         ],
         "xaxis": "x",
         "y": {
          "bdata": "AAAAAAAA8D8AAAAAAAAQQAAAAAAAABRAAAAAAAAAIkAAAAAAAAAYQAAAAAAAABxAAAAAAACAQ0AAAAAAAAAmQAAAAAAAADVAAAAAAAAAKkAAAAAAAAAoQAAAAAAAAD9AAAAAAAAAS0AAAAAAAIBBQAAAAAAAAABA",
          "dtype": "f8"
         },
         "yaxis": "y"
        }
       ],
       "layout": {
        "barmode": "group",
        "legend": {
         "title": {
          "text": "model"
         },
         "tracegroupgap": 0
        },
        "margin": {
         "t": 60
        },
        "template": {
         "data": {
          "bar": [
           {
            "error_x": {
             "color": "#2a3f5f"
            },
            "error_y": {
             "color": "#2a3f5f"
            },
            "marker": {
             "line": {
              "color": "#E5ECF6",
              "width": 0.5
             },
             "pattern": {
              "fillmode": "overlay",
              "size": 10,
              "solidity": 0.2
             }
            },
            "type": "bar"
           }
          ],
          "barpolar": [
           {
            "marker": {
             "line": {
              "color": "#E5ECF6",
              "width": 0.5
             },
             "pattern": {
              "fillmode": "overlay",
              "size": 10,
              "solidity": 0.2
             }
            },
            "type": "barpolar"
           }
          ],
          "carpet": [
           {
            "aaxis": {
             "endlinecolor": "#2a3f5f",
             "gridcolor": "white",
             "linecolor": "white",
             "minorgridcolor": "white",
             "startlinecolor": "#2a3f5f"
            },
            "baxis": {
             "endlinecolor": "#2a3f5f",
             "gridcolor": "white",
             "linecolor": "white",
             "minorgridcolor": "white",
             "startlinecolor": "#2a3f5f"
            },
            "type": "carpet"
           }
          ],
          "choropleth": [
           {
            "colorbar": {
             "outlinewidth": 0,
             "ticks": ""
            },
            "type": "choropleth"
           }
          ],
          "contour": [
           {
            "colorbar": {
             "outlinewidth": 0,
             "ticks": ""
            },
            "colorscale": [
             [
              0,
              "#0d0887"
             ],
             [
              0.1111111111111111,
              "#46039f"
             ],
             [
              0.2222222222222222,
              "#7201a8"
             ],
             [
              0.3333333333333333,
              "#9c179e"
             ],
             [
              0.4444444444444444,
              "#bd3786"
             ],
             [
              0.5555555555555556,
              "#d8576b"
             ],
             [
              0.6666666666666666,
              "#ed7953"
             ],
             [
              0.7777777777777778,
              "#fb9f3a"
             ],
             [
              0.8888888888888888,
              "#fdca26"
             ],
             [
              1,
              "#f0f921"
             ]
            ],
            "type": "contour"
           }
          ],
          "contourcarpet": [
           {
            "colorbar": {
             "outlinewidth": 0,
             "ticks": ""
            },
            "type": "contourcarpet"
           }
          ],
          "heatmap": [
           {
            "colorbar": {
             "outlinewidth": 0,
             "ticks": ""
            },
            "colorscale": [
             [
              0,
              "#0d0887"
             ],
             [
              0.1111111111111111,
              "#46039f"
             ],
             [
              0.2222222222222222,
              "#7201a8"
             ],
             [
              0.3333333333333333,
              "#9c179e"
             ],
             [
              0.4444444444444444,
              "#bd3786"
             ],
             [
              0.5555555555555556,
              "#d8576b"
             ],
             [
              0.6666666666666666,
              "#ed7953"
             ],
             [
              0.7777777777777778,
              "#fb9f3a"
             ],
             [
              0.8888888888888888,
              "#fdca26"
             ],
             [
              1,
              "#f0f921"
             ]
            ],
            "type": "heatmap"
           }
          ],
          "histogram": [
           {
            "marker": {
             "pattern": {
              "fillmode": "overlay",
              "size": 10,
              "solidity": 0.2
             }
            },
            "type": "histogram"
           }
          ],
          "histogram2d": [
           {
            "colorbar": {
             "outlinewidth": 0,
             "ticks": ""
            },
            "colorscale": [
             [
              0,
              "#0d0887"
             ],
             [
              0.1111111111111111,
              "#46039f"
             ],
             [
              0.2222222222222222,
              "#7201a8"
             ],
             [
              0.3333333333333333,
              "#9c179e"
             ],
             [
              0.4444444444444444,
              "#bd3786"
             ],
             [
              0.5555555555555556,
              "#d8576b"
             ],
             [
              0.6666666666666666,
              "#ed7953"
             ],
             [
              0.7777777777777778,
              "#fb9f3a"
             ],
             [
              0.8888888888888888,
              "#fdca26"
             ],
             [
              1,
              "#f0f921"
             ]
            ],
            "type": "histogram2d"
           }
          ],
          "histogram2dcontour": [
           {
            "colorbar": {
             "outlinewidth": 0,
             "ticks": ""
            },
            "colorscale": [
             [
              0,
              "#0d0887"
             ],
             [
              0.1111111111111111,
              "#46039f"
             ],
             [
              0.2222222222222222,
              "#7201a8"
             ],
             [
              0.3333333333333333,
              "#9c179e"
             ],
             [
              0.4444444444444444,
              "#bd3786"
             ],
             [
              0.5555555555555556,
              "#d8576b"
             ],
             [
              0.6666666666666666,
              "#ed7953"
             ],
             [
              0.7777777777777778,
              "#fb9f3a"
             ],
             [
              0.8888888888888888,
              "#fdca26"
             ],
             [
              1,
              "#f0f921"
             ]
            ],
            "type": "histogram2dcontour"
           }
          ],
          "mesh3d": [
           {
            "colorbar": {
             "outlinewidth": 0,
             "ticks": ""
            },
            "type": "mesh3d"
           }
          ],
          "parcoords": [
           {
            "line": {
             "colorbar": {
              "outlinewidth": 0,
              "ticks": ""
             }
            },
            "type": "parcoords"
           }
          ],
          "pie": [
           {
            "automargin": true,
            "type": "pie"
           }
          ],
          "scatter": [
           {
            "fillpattern": {
             "fillmode": "overlay",
             "size": 10,
             "solidity": 0.2
            },
            "type": "scatter"
           }
          ],
          "scatter3d": [
           {
            "line": {
             "colorbar": {
              "outlinewidth": 0,
              "ticks": ""
             }
            },
            "marker": {
             "colorbar": {
              "outlinewidth": 0,
              "ticks": ""
             }
            },
            "type": "scatter3d"
           }
          ],
          "scattercarpet": [
           {
            "marker": {
             "colorbar": {
              "outlinewidth": 0,
              "ticks": ""
             }
            },
            "type": "scattercarpet"
           }
          ],
          "scattergeo": [
           {
            "marker": {
             "colorbar": {
              "outlinewidth": 0,
              "ticks": ""
             }
            },
            "type": "scattergeo"
           }
          ],
          "scattergl": [
           {
            "marker": {
             "colorbar": {
              "outlinewidth": 0,
              "ticks": ""
             }
            },
            "type": "scattergl"
           }
          ],
          "scattermap": [
           {
            "marker": {
             "colorbar": {
              "outlinewidth": 0,
              "ticks": ""
             }
            },
            "type": "scattermap"
           }
          ],
          "scattermapbox": [
           {
            "marker": {
             "colorbar": {
              "outlinewidth": 0,
              "ticks": ""
             }
            },
            "type": "scattermapbox"
           }
          ],
          "scatterpolar": [
           {
            "marker": {
             "colorbar": {
              "outlinewidth": 0,
              "ticks": ""
             }
            },
            "type": "scatterpolar"
           }
          ],
          "scatterpolargl": [
           {
            "marker": {
             "colorbar": {
              "outlinewidth": 0,
              "ticks": ""
             }
            },
            "type": "scatterpolargl"
           }
          ],
          "scatterternary": [
           {
            "marker": {
             "colorbar": {
              "outlinewidth": 0,
              "ticks": ""
             }
            },
            "type": "scatterternary"
           }
          ],
          "surface": [
           {
            "colorbar": {
             "outlinewidth": 0,
             "ticks": ""
            },
            "colorscale": [
             [
              0,
              "#0d0887"
             ],
             [
              0.1111111111111111,
              "#46039f"
             ],
             [
              0.2222222222222222,
              "#7201a8"
             ],
             [
              0.3333333333333333,
              "#9c179e"
             ],
             [
              0.4444444444444444,
              "#bd3786"
             ],
             [
              0.5555555555555556,
              "#d8576b"
             ],
             [
              0.6666666666666666,
              "#ed7953"
             ],
             [
              0.7777777777777778,
              "#fb9f3a"
             ],
             [
              0.8888888888888888,
              "#fdca26"
             ],
             [
              1,
              "#f0f921"
             ]
            ],
            "type": "surface"
           }
          ],
          "table": [
           {
            "cells": {
             "fill": {
              "color": "#EBF0F8"
             },
             "line": {
              "color": "white"
             }
            },
            "header": {
             "fill": {
              "color": "#C8D4E3"
             },
             "line": {
              "color": "white"
             }
            },
            "type": "table"
           }
          ]
         },
         "layout": {
          "annotationdefaults": {
           "arrowcolor": "#2a3f5f",
           "arrowhead": 0,
           "arrowwidth": 1
          },
          "autotypenumbers": "strict",
          "coloraxis": {
           "colorbar": {
            "outlinewidth": 0,
            "ticks": ""
           }
          },
          "colorscale": {
           "diverging": [
            [
             0,
             "#8e0152"
            ],
            [
             0.1,
             "#c51b7d"
            ],
            [
             0.2,
             "#de77ae"
            ],
            [
             0.3,
             "#f1b6da"
            ],
            [
             0.4,
             "#fde0ef"
            ],
            [
             0.5,
             "#f7f7f7"
            ],
            [
             0.6,
             "#e6f5d0"
            ],
            [
             0.7,
             "#b8e186"
            ],
            [
             0.8,
             "#7fbc41"
            ],
            [
             0.9,
             "#4d9221"
            ],
            [
             1,
             "#276419"
            ]
           ],
           "sequential": [
            [
             0,
             "#0d0887"
            ],
            [
             0.1111111111111111,
             "#46039f"
            ],
            [
             0.2222222222222222,
             "#7201a8"
            ],
            [
             0.3333333333333333,
             "#9c179e"
            ],
            [
             0.4444444444444444,
             "#bd3786"
            ],
            [
             0.5555555555555556,
             "#d8576b"
            ],
            [
             0.6666666666666666,
             "#ed7953"
            ],
            [
             0.7777777777777778,
             "#fb9f3a"
            ],
            [
             0.8888888888888888,
             "#fdca26"
            ],
            [
             1,
             "#f0f921"
            ]
           ],
           "sequentialminus": [
            [
             0,
             "#0d0887"
            ],
            [
             0.1111111111111111,
             "#46039f"
            ],
            [
             0.2222222222222222,
             "#7201a8"
            ],
            [
             0.3333333333333333,
             "#9c179e"
            ],
            [
             0.4444444444444444,
             "#bd3786"
            ],
            [
             0.5555555555555556,
             "#d8576b"
            ],
            [
             0.6666666666666666,
             "#ed7953"
            ],
            [
             0.7777777777777778,
             "#fb9f3a"
            ],
            [
             0.8888888888888888,
             "#fdca26"
            ],
            [
             1,
             "#f0f921"
            ]
           ]
          },
          "colorway": [
           "#636efa",
           "#EF553B",
           "#00cc96",
           "#ab63fa",
           "#FFA15A",
           "#19d3f3",
           "#FF6692",
           "#B6E880",
           "#FF97FF",
           "#FECB52"
          ],
          "font": {
           "color": "#2a3f5f"
          },
          "geo": {
           "bgcolor": "white",
           "lakecolor": "white",
           "landcolor": "#E5ECF6",
           "showlakes": true,
           "showland": true,
           "subunitcolor": "white"
          },
          "hoverlabel": {
           "align": "left"
          },
          "hovermode": "closest",
          "mapbox": {
           "style": "light"
          },
          "paper_bgcolor": "white",
          "plot_bgcolor": "#E5ECF6",
          "polar": {
           "angularaxis": {
            "gridcolor": "white",
            "linecolor": "white",
            "ticks": ""
           },
           "bgcolor": "#E5ECF6",
           "radialaxis": {
            "gridcolor": "white",
            "linecolor": "white",
            "ticks": ""
           }
          },
          "scene": {
           "xaxis": {
            "backgroundcolor": "#E5ECF6",
            "gridcolor": "white",
            "gridwidth": 2,
            "linecolor": "white",
            "showbackground": true,
            "ticks": "",
            "zerolinecolor": "white"
           },
           "yaxis": {
            "backgroundcolor": "#E5ECF6",
            "gridcolor": "white",
            "gridwidth": 2,
            "linecolor": "white",
            "showbackground": true,
            "ticks": "",
            "zerolinecolor": "white"
           },
           "zaxis": {
            "backgroundcolor": "#E5ECF6",
            "gridcolor": "white",
            "gridwidth": 2,
            "linecolor": "white",
            "showbackground": true,
            "ticks": "",
            "zerolinecolor": "white"
           }
          },
          "shapedefaults": {
           "line": {
            "color": "#2a3f5f"
           }
          },
          "ternary": {
           "aaxis": {
            "gridcolor": "white",
            "linecolor": "white",
            "ticks": ""
           },
           "baxis": {
            "gridcolor": "white",
            "linecolor": "white",
            "ticks": ""
           },
           "bgcolor": "#E5ECF6",
           "caxis": {
            "gridcolor": "white",
            "linecolor": "white",
            "ticks": ""
           }
          },
          "title": {
           "x": 0.05
          },
          "xaxis": {
           "automargin": true,
           "gridcolor": "white",
           "linecolor": "white",
           "ticks": "",
           "title": {
            "standoff": 15
           },
           "zerolinecolor": "white",
           "zerolinewidth": 2
          },
          "yaxis": {
           "automargin": true,
           "gridcolor": "white",
           "linecolor": "white",
           "ticks": "",
           "title": {
            "standoff": 15
           },
           "zerolinecolor": "white",
           "zerolinewidth": 2
          }
         }
        },
        "xaxis": {
         "anchor": "y",
         "domain": [
          0,
          1
         ],
         "title": {
          "text": "feature"
         }
        },
        "yaxis": {
         "anchor": "x",
         "domain": [
          0,
          1
         ],
         "title": {
          "text": "rank"
         }
        }
       }
      }
     },
     "metadata": {},
     "output_type": "display_data"
    }
   ],
   "source": [
    "comparison_df = ft.get_feature_comparison(importance_df)\n",
    "\n",
    "ft.plot_importance_comparison(comparison_df)\n",
    "ft.plot_rank_comparison(comparison_df)"
   ]
  },
  {
   "cell_type": "markdown",
   "id": "d825650b",
   "metadata": {},
   "source": [
    "## 3. Outliers"
   ]
  },
  {
   "cell_type": "code",
   "execution_count": 92,
   "id": "06ea536d",
   "metadata": {},
   "outputs": [
    {
     "data": {
      "application/vnd.plotly.v1+json": {
       "config": {
        "plotlyServerURL": "https://plot.ly"
       },
       "data": [
        {
         "marker": {
          "color": "blue"
         },
         "opacity": 0.75,
         "type": "histogram",
         "x": {
          "bdata": "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",
          "dtype": "f8"
         },
         "xaxis": "x",
         "yaxis": "y"
        },
        {
         "marker": {
          "color": "red"
         },
         "opacity": 0.75,
         "type": "histogram",
         "x": {
          "bdata": "u5EPr/PdF0AQM7s925IVQKwSo9mo1hVAnai7YV8hE0A=",
          "dtype": "f8"
         },
         "xaxis": "x",
         "yaxis": "y"
        },
        {
         "marker": {
          "color": "blue"
         },
         "opacity": 0.75,
         "type": "histogram",
         "x": {
          "bdata": "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",
          "dtype": "f8"
         },
         "xaxis": "x2",
         "yaxis": "y2"
        },
        {
         "marker": {
          "color": "red"
         },
         "opacity": 0.75,
         "type": "histogram",
         "x": {
          "bdata": "ug22ZbhmGcBmpCfw590RwA==",
          "dtype": "f8"
         },
         "xaxis": "x2",
         "yaxis": "y2"
        },
        {
         "marker": {
          "color": "blue"
         },
         "opacity": 0.75,
         "type": "histogram",
         "x": {
          "bdata": "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",
          "dtype": "f8"
         },
         "xaxis": "x3",
         "yaxis": "y3"
        },
        {
         "marker": {
          "color": "red"
         },
         "opacity": 0.75,
         "type": "histogram",
         "x": {
          "bdata": "BPFKcA59EEAE8UpwDn0QQATxSnAOfRBAW/RJ0phQGEBb9EnSmFAYQA==",
          "dtype": "f8"
         },
         "xaxis": "x3",
         "yaxis": "y3"
        },
        {
         "marker": {
          "color": "blue"
         },
         "opacity": 0.75,
         "type": "histogram",
         "x": {
          "bdata": "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",
          "dtype": "f8"
         },
         "xaxis": "x4",
         "yaxis": "y4"
        },
        {
         "marker": {
          "color": "red"
         },
         "opacity": 0.75,
         "type": "histogram",
         "x": {
          "bdata": "DNJmk2B5FsA=",
          "dtype": "f8"
         },
         "xaxis": "x4",
         "yaxis": "y4"
        },
        {
         "marker": {
          "color": "blue"
         },
         "opacity": 0.75,
         "type": "histogram",
         "x": {
          "bdata": "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",
          "dtype": "f8"
         },
         "xaxis": "x5",
         "yaxis": "y5"
        },
        {
         "marker": {
          "color": "red"
         },
         "opacity": 0.75,
         "type": "histogram",
         "x": {
          "bdata": "iDn3e622GcDv1Hq2NCkUQA==",
          "dtype": "f8"
         },
         "xaxis": "x5",
         "yaxis": "y5"
        }
       ],
       "layout": {
        "annotations": [
         {
          "font": {
           "size": 16
          },
          "showarrow": false,
          "text": "LotArea",
          "x": 0.06944444444444445,
          "xanchor": "center",
          "xref": "paper",
          "y": 1,
          "yanchor": "bottom",
          "yref": "paper"
         },
         {
          "font": {
           "size": 16
          },
          "showarrow": false,
          "text": "QualArea",
          "x": 0.24166666666666667,
          "xanchor": "center",
          "xref": "paper",
          "y": 1,
          "yanchor": "bottom",
          "yref": "paper"
         },
         {
          "font": {
           "size": 16
          },
          "showarrow": false,
          "text": "OverallGrade",
          "x": 0.41388888888888886,
          "xanchor": "center",
          "xref": "paper",
          "y": 1,
          "yanchor": "bottom",
          "yref": "paper"
         },
         {
          "font": {
           "size": 16
          },
          "showarrow": false,
          "text": "CondArea",
          "x": 0.5861111111111112,
          "xanchor": "center",
          "xref": "paper",
          "y": 1,
          "yanchor": "bottom",
          "yref": "paper"
         },
         {
          "font": {
           "size": 16
          },
          "showarrow": false,
          "text": "TotalSF",
          "x": 0.7583333333333333,
          "xanchor": "center",
          "xref": "paper",
          "y": 1,
          "yanchor": "bottom",
          "yref": "paper"
         }
        ],
        "height": 250,
        "showlegend": false,
        "template": {
         "data": {
          "bar": [
           {
            "error_x": {
             "color": "#2a3f5f"
            },
            "error_y": {
             "color": "#2a3f5f"
            },
            "marker": {
             "line": {
              "color": "#E5ECF6",
              "width": 0.5
             },
             "pattern": {
              "fillmode": "overlay",
              "size": 10,
              "solidity": 0.2
             }
            },
            "type": "bar"
           }
          ],
          "barpolar": [
           {
            "marker": {
             "line": {
              "color": "#E5ECF6",
              "width": 0.5
             },
             "pattern": {
              "fillmode": "overlay",
              "size": 10,
              "solidity": 0.2
             }
            },
            "type": "barpolar"
           }
          ],
          "carpet": [
           {
            "aaxis": {
             "endlinecolor": "#2a3f5f",
             "gridcolor": "white",
             "linecolor": "white",
             "minorgridcolor": "white",
             "startlinecolor": "#2a3f5f"
            },
            "baxis": {
             "endlinecolor": "#2a3f5f",
             "gridcolor": "white",
             "linecolor": "white",
             "minorgridcolor": "white",
             "startlinecolor": "#2a3f5f"
            },
            "type": "carpet"
           }
          ],
          "choropleth": [
           {
            "colorbar": {
             "outlinewidth": 0,
             "ticks": ""
            },
            "type": "choropleth"
           }
          ],
          "contour": [
           {
            "colorbar": {
             "outlinewidth": 0,
             "ticks": ""
            },
            "colorscale": [
             [
              0,
              "#0d0887"
             ],
             [
              0.1111111111111111,
              "#46039f"
             ],
             [
              0.2222222222222222,
              "#7201a8"
             ],
             [
              0.3333333333333333,
              "#9c179e"
             ],
             [
              0.4444444444444444,
              "#bd3786"
             ],
             [
              0.5555555555555556,
              "#d8576b"
             ],
             [
              0.6666666666666666,
              "#ed7953"
             ],
             [
              0.7777777777777778,
              "#fb9f3a"
             ],
             [
              0.8888888888888888,
              "#fdca26"
             ],
             [
              1,
              "#f0f921"
             ]
            ],
            "type": "contour"
           }
          ],
          "contourcarpet": [
           {
            "colorbar": {
             "outlinewidth": 0,
             "ticks": ""
            },
            "type": "contourcarpet"
           }
          ],
          "heatmap": [
           {
            "colorbar": {
             "outlinewidth": 0,
             "ticks": ""
            },
            "colorscale": [
             [
              0,
              "#0d0887"
             ],
             [
              0.1111111111111111,
              "#46039f"
             ],
             [
              0.2222222222222222,
              "#7201a8"
             ],
             [
              0.3333333333333333,
              "#9c179e"
             ],
             [
              0.4444444444444444,
              "#bd3786"
             ],
             [
              0.5555555555555556,
              "#d8576b"
             ],
             [
              0.6666666666666666,
              "#ed7953"
             ],
             [
              0.7777777777777778,
              "#fb9f3a"
             ],
             [
              0.8888888888888888,
              "#fdca26"
             ],
             [
              1,
              "#f0f921"
             ]
            ],
            "type": "heatmap"
           }
          ],
          "histogram": [
           {
            "marker": {
             "pattern": {
              "fillmode": "overlay",
              "size": 10,
              "solidity": 0.2
             }
            },
            "type": "histogram"
           }
          ],
          "histogram2d": [
           {
            "colorbar": {
             "outlinewidth": 0,
             "ticks": ""
            },
            "colorscale": [
             [
              0,
              "#0d0887"
             ],
             [
              0.1111111111111111,
              "#46039f"
             ],
             [
              0.2222222222222222,
              "#7201a8"
             ],
             [
              0.3333333333333333,
              "#9c179e"
             ],
             [
              0.4444444444444444,
              "#bd3786"
             ],
             [
              0.5555555555555556,
              "#d8576b"
             ],
             [
              0.6666666666666666,
              "#ed7953"
             ],
             [
              0.7777777777777778,
              "#fb9f3a"
             ],
             [
              0.8888888888888888,
              "#fdca26"
             ],
             [
              1,
              "#f0f921"
             ]
            ],
            "type": "histogram2d"
           }
          ],
          "histogram2dcontour": [
           {
            "colorbar": {
             "outlinewidth": 0,
             "ticks": ""
            },
            "colorscale": [
             [
              0,
              "#0d0887"
             ],
             [
              0.1111111111111111,
              "#46039f"
             ],
             [
              0.2222222222222222,
              "#7201a8"
             ],
             [
              0.3333333333333333,
              "#9c179e"
             ],
             [
              0.4444444444444444,
              "#bd3786"
             ],
             [
              0.5555555555555556,
              "#d8576b"
             ],
             [
              0.6666666666666666,
              "#ed7953"
             ],
             [
              0.7777777777777778,
              "#fb9f3a"
             ],
             [
              0.8888888888888888,
              "#fdca26"
             ],
             [
              1,
              "#f0f921"
             ]
            ],
            "type": "histogram2dcontour"
           }
          ],
          "mesh3d": [
           {
            "colorbar": {
             "outlinewidth": 0,
             "ticks": ""
            },
            "type": "mesh3d"
           }
          ],
          "parcoords": [
           {
            "line": {
             "colorbar": {
              "outlinewidth": 0,
              "ticks": ""
             }
            },
            "type": "parcoords"
           }
          ],
          "pie": [
           {
            "automargin": true,
            "type": "pie"
           }
          ],
          "scatter": [
           {
            "fillpattern": {
             "fillmode": "overlay",
             "size": 10,
             "solidity": 0.2
            },
            "type": "scatter"
           }
          ],
          "scatter3d": [
           {
            "line": {
             "colorbar": {
              "outlinewidth": 0,
              "ticks": ""
             }
            },
            "marker": {
             "colorbar": {
              "outlinewidth": 0,
              "ticks": ""
             }
            },
            "type": "scatter3d"
           }
          ],
          "scattercarpet": [
           {
            "marker": {
             "colorbar": {
              "outlinewidth": 0,
              "ticks": ""
             }
            },
            "type": "scattercarpet"
           }
          ],
          "scattergeo": [
           {
            "marker": {
             "colorbar": {
              "outlinewidth": 0,
              "ticks": ""
             }
            },
            "type": "scattergeo"
           }
          ],
          "scattergl": [
           {
            "marker": {
             "colorbar": {
              "outlinewidth": 0,
              "ticks": ""
             }
            },
            "type": "scattergl"
           }
          ],
          "scattermap": [
           {
            "marker": {
             "colorbar": {
              "outlinewidth": 0,
              "ticks": ""
             }
            },
            "type": "scattermap"
           }
          ],
          "scattermapbox": [
           {
            "marker": {
             "colorbar": {
              "outlinewidth": 0,
              "ticks": ""
             }
            },
            "type": "scattermapbox"
           }
          ],
          "scatterpolar": [
           {
            "marker": {
             "colorbar": {
              "outlinewidth": 0,
              "ticks": ""
             }
            },
            "type": "scatterpolar"
           }
          ],
          "scatterpolargl": [
           {
            "marker": {
             "colorbar": {
              "outlinewidth": 0,
              "ticks": ""
             }
            },
            "type": "scatterpolargl"
           }
          ],
          "scatterternary": [
           {
            "marker": {
             "colorbar": {
              "outlinewidth": 0,
              "ticks": ""
             }
            },
            "type": "scatterternary"
           }
          ],
          "surface": [
           {
            "colorbar": {
             "outlinewidth": 0,
             "ticks": ""
            },
            "colorscale": [
             [
              0,
              "#0d0887"
             ],
             [
              0.1111111111111111,
              "#46039f"
             ],
             [
              0.2222222222222222,
              "#7201a8"
             ],
             [
              0.3333333333333333,
              "#9c179e"
             ],
             [
              0.4444444444444444,
              "#bd3786"
             ],
             [
              0.5555555555555556,
              "#d8576b"
             ],
             [
              0.6666666666666666,
              "#ed7953"
             ],
             [
              0.7777777777777778,
              "#fb9f3a"
             ],
             [
              0.8888888888888888,
              "#fdca26"
             ],
             [
              1,
              "#f0f921"
             ]
            ],
            "type": "surface"
           }
          ],
          "table": [
           {
            "cells": {
             "fill": {
              "color": "#EBF0F8"
             },
             "line": {
              "color": "white"
             }
            },
            "header": {
             "fill": {
              "color": "#C8D4E3"
             },
             "line": {
              "color": "white"
             }
            },
            "type": "table"
           }
          ]
         },
         "layout": {
          "annotationdefaults": {
           "arrowcolor": "#2a3f5f",
           "arrowhead": 0,
           "arrowwidth": 1
          },
          "autotypenumbers": "strict",
          "coloraxis": {
           "colorbar": {
            "outlinewidth": 0,
            "ticks": ""
           }
          },
          "colorscale": {
           "diverging": [
            [
             0,
             "#8e0152"
            ],
            [
             0.1,
             "#c51b7d"
            ],
            [
             0.2,
             "#de77ae"
            ],
            [
             0.3,
             "#f1b6da"
            ],
            [
             0.4,
             "#fde0ef"
            ],
            [
             0.5,
             "#f7f7f7"
            ],
            [
             0.6,
             "#e6f5d0"
            ],
            [
             0.7,
             "#b8e186"
            ],
            [
             0.8,
             "#7fbc41"
            ],
            [
             0.9,
             "#4d9221"
            ],
            [
             1,
             "#276419"
            ]
           ],
           "sequential": [
            [
             0,
             "#0d0887"
            ],
            [
             0.1111111111111111,
             "#46039f"
            ],
            [
             0.2222222222222222,
             "#7201a8"
            ],
            [
             0.3333333333333333,
             "#9c179e"
            ],
            [
             0.4444444444444444,
             "#bd3786"
            ],
            [
             0.5555555555555556,
             "#d8576b"
            ],
            [
             0.6666666666666666,
             "#ed7953"
            ],
            [
             0.7777777777777778,
             "#fb9f3a"
            ],
            [
             0.8888888888888888,
             "#fdca26"
            ],
            [
             1,
             "#f0f921"
            ]
           ],
           "sequentialminus": [
            [
             0,
             "#0d0887"
            ],
            [
             0.1111111111111111,
             "#46039f"
            ],
            [
             0.2222222222222222,
             "#7201a8"
            ],
            [
             0.3333333333333333,
             "#9c179e"
            ],
            [
             0.4444444444444444,
             "#bd3786"
            ],
            [
             0.5555555555555556,
             "#d8576b"
            ],
            [
             0.6666666666666666,
             "#ed7953"
            ],
            [
             0.7777777777777778,
             "#fb9f3a"
            ],
            [
             0.8888888888888888,
             "#fdca26"
            ],
            [
             1,
             "#f0f921"
            ]
           ]
          },
          "colorway": [
           "#636efa",
           "#EF553B",
           "#00cc96",
           "#ab63fa",
           "#FFA15A",
           "#19d3f3",
           "#FF6692",
           "#B6E880",
           "#FF97FF",
           "#FECB52"
          ],
          "font": {
           "color": "#2a3f5f"
          },
          "geo": {
           "bgcolor": "white",
           "lakecolor": "white",
           "landcolor": "#E5ECF6",
           "showlakes": true,
           "showland": true,
           "subunitcolor": "white"
          },
          "hoverlabel": {
           "align": "left"
          },
          "hovermode": "closest",
          "mapbox": {
           "style": "light"
          },
          "paper_bgcolor": "white",
          "plot_bgcolor": "#E5ECF6",
          "polar": {
           "angularaxis": {
            "gridcolor": "white",
            "linecolor": "white",
            "ticks": ""
           },
           "bgcolor": "#E5ECF6",
           "radialaxis": {
            "gridcolor": "white",
            "linecolor": "white",
            "ticks": ""
           }
          },
          "scene": {
           "xaxis": {
            "backgroundcolor": "#E5ECF6",
            "gridcolor": "white",
            "gridwidth": 2,
            "linecolor": "white",
            "showbackground": true,
            "ticks": "",
            "zerolinecolor": "white"
           },
           "yaxis": {
            "backgroundcolor": "#E5ECF6",
            "gridcolor": "white",
            "gridwidth": 2,
            "linecolor": "white",
            "showbackground": true,
            "ticks": "",
            "zerolinecolor": "white"
           },
           "zaxis": {
            "backgroundcolor": "#E5ECF6",
            "gridcolor": "white",
            "gridwidth": 2,
            "linecolor": "white",
            "showbackground": true,
            "ticks": "",
            "zerolinecolor": "white"
           }
          },
          "shapedefaults": {
           "line": {
            "color": "#2a3f5f"
           }
          },
          "ternary": {
           "aaxis": {
            "gridcolor": "white",
            "linecolor": "white",
            "ticks": ""
           },
           "baxis": {
            "gridcolor": "white",
            "linecolor": "white",
            "ticks": ""
           },
           "bgcolor": "#E5ECF6",
           "caxis": {
            "gridcolor": "white",
            "linecolor": "white",
            "ticks": ""
           }
          },
          "title": {
           "x": 0.05
          },
          "xaxis": {
           "automargin": true,
           "gridcolor": "white",
           "linecolor": "white",
           "ticks": "",
           "title": {
            "standoff": 15
           },
           "zerolinecolor": "white",
           "zerolinewidth": 2
          },
          "yaxis": {
           "automargin": true,
           "gridcolor": "white",
           "linecolor": "white",
           "ticks": "",
           "title": {
            "standoff": 15
           },
           "zerolinecolor": "white",
           "zerolinewidth": 2
          }
         }
        },
        "title": {
         "text": "Outliers per attributo"
        },
        "width": 1500,
        "xaxis": {
         "anchor": "y",
         "domain": [
          0,
          0.1388888888888889
         ]
        },
        "xaxis2": {
         "anchor": "y2",
         "domain": [
          0.17222222222222222,
          0.3111111111111111
         ]
        },
        "xaxis3": {
         "anchor": "y3",
         "domain": [
          0.34444444444444444,
          0.48333333333333334
         ]
        },
        "xaxis4": {
         "anchor": "y4",
         "domain": [
          0.5166666666666667,
          0.6555555555555557
         ]
        },
        "xaxis5": {
         "anchor": "y5",
         "domain": [
          0.6888888888888889,
          0.8277777777777777
         ]
        },
        "xaxis6": {
         "anchor": "y6",
         "domain": [
          0.861111111111111,
          1
         ]
        },
        "yaxis": {
         "anchor": "x",
         "domain": [
          0,
          1
         ]
        },
        "yaxis2": {
         "anchor": "x2",
         "domain": [
          0,
          1
         ]
        },
        "yaxis3": {
         "anchor": "x3",
         "domain": [
          0,
          1
         ]
        },
        "yaxis4": {
         "anchor": "x4",
         "domain": [
          0,
          1
         ]
        },
        "yaxis5": {
         "anchor": "x5",
         "domain": [
          0,
          1
         ]
        },
        "yaxis6": {
         "anchor": "x6",
         "domain": [
          0,
          1
         ]
        }
       }
      }
     },
     "metadata": {},
     "output_type": "display_data"
    }
   ],
   "source": [
    "pp.hist_matrix_with_outliers(X_train[['LotArea', 'QualArea', 'OverallGrade', 'CondArea', 'TotalSF']], z_thresh=4)"
   ]
  },
  {
   "cell_type": "code",
   "execution_count": null,
   "id": "e061cf01",
   "metadata": {},
   "outputs": [
    {
     "name": "stdout",
     "output_type": "stream",
     "text": [
      "Found outliers: 13\n",
      "X_train shape: (1082, 92)\n",
      "y_train shape: (1082,)\n"
     ]
    }
   ],
   "source": [
    "# discared for not improving performance\n",
    "\n",
    "# outliers = pp.find_outliers_all(X_train[['LotArea', 'LotFrontage', 'QualArea', 'OverallGrade', 'CondArea', 'TotalSF']], z_thresh=4)\n",
    "\n",
    "# X_train = X_train.drop(outliers)\n",
    "# y_train = y_train.drop(outliers)\n",
    "\n",
    "# print(f'Found outliers: {len(outliers)}')\n",
    "# print(f'X_train shape: {X_train.shape}')\n",
    "# print(f'y_train shape: {y_train.shape}')"
   ]
  },
  {
   "cell_type": "code",
   "execution_count": null,
   "id": "860c1d0c",
   "metadata": {},
   "outputs": [],
   "source": [
    "# full_df = X_train.copy()\n",
    "# full_df['SalePrice'] = y_train\n",
    "\n",
    "# dataset = mlflow.data.from_pandas(full_df, name='93_features_log_attr_targ-no_out_z=4')"
   ]
  },
  {
   "cell_type": "markdown",
   "id": "05afa6d5",
   "metadata": {},
   "source": [
    "## 5. Model optimization"
   ]
  },
  {
   "cell_type": "code",
   "execution_count": 21,
   "id": "c548fbbc",
   "metadata": {},
   "outputs": [],
   "source": [
    "feature_numbers = [20, 50, 92]\n",
    "features_by_importance = ft.get_features_by_importance(comparison_df)"
   ]
  },
  {
   "cell_type": "markdown",
   "id": "1d3d8789",
   "metadata": {},
   "source": [
    "### 3.1 Single models"
   ]
  },
  {
   "cell_type": "code",
   "execution_count": 31,
   "id": "ee102245",
   "metadata": {},
   "outputs": [
    {
     "name": "stdout",
     "output_type": "stream",
     "text": [
      "processsing number 20\n",
      "cv_score: 0.3158938174519052, val_score: 0.34229612975122364, param: {'C': 47.10268491460695, 'gamma': 0.004149431773993826, 'epsilon': 0.2352323791698288}\n",
      "processsing number 50\n",
      "cv_score: 0.30199697527158553, val_score: 0.32892468838935335, param: {'C': 3.7328767364637137, 'gamma': 0.0035455818568278876, 'epsilon': 0.05852217090073111}\n",
      "processsing number 92\n",
      "cv_score: 0.30586149998173734, val_score: 0.32832633374542264, param: {'C': 4.518296525789322, 'gamma': 0.0011599330580039158, 'epsilon': 0.07078311463770695}\n"
     ]
    }
   ],
   "source": [
    "params = {}\n",
    "cv_scores = {}\n",
    "val_scores = {}\n",
    "studies = {}\n",
    "\n",
    "features_by_importance = ft.get_features_by_importance(comparison_df)\n",
    "\n",
    "for key in {'svr': md.SVR}:\n",
    "    # with mlflow.start_run(run_name=key):\n",
    "        # mlflow.set_tag('model', md.MODELS[key]['name'])\n",
    "        # mlflow.log_input(dataset)\n",
    "    \n",
    "        # print(f'\\nEvaulating: {md.MODELS[key][\"name\"]}')\n",
    "        params[key], cv_scores[key], val_scores[key], studies[key] = md.evaluate_best_feature_number(\n",
    "            md.MODELS[key],\n",
    "            features_by_importance,\n",
    "            feature_numbers,\n",
    "            X_train,\n",
    "            y_train,\n",
    "            X_val,\n",
    "            y_val,\n",
    "        )\n",
    "        \n",
    "        best_par_num = min(val_scores[key], key=lambda x: val_scores[key][x])\n",
    "        # mlflow.log_params(params[key][best_par_num])\n",
    "        # mlflow.log_param('best_par_num', best_par_num)\n",
    "        # mlflow.log_metric('best_avg_cv_score', cv_scores[key][best_par_num].mean())\n",
    "        # mlflow.log_metric('best_std_cv_score', cv_scores[key][best_par_num].std())\n",
    "        # mlflow.log_metric('best_val_scores', val_scores[key][best_par_num])\n",
    "        \n",
    "        # mlflow.end_run()\n",
    "        \n",
    "# md.save_models_values(params, cv_scores, val_scores)"
   ]
  },
  {
   "cell_type": "code",
   "execution_count": 10,
   "id": "4a758173",
   "metadata": {},
   "outputs": [],
   "source": [
    "features_by_importance = ft.get_features_by_importance(comparison_df)\n",
    "params, cv_scores, val_scores = md.load_models_values('model_optimization_new')"
   ]
  },
  {
   "cell_type": "code",
   "execution_count": 163,
   "id": "6ee62f6c",
   "metadata": {},
   "outputs": [
    {
     "name": "stdout",
     "output_type": "stream",
     "text": [
      "{'xgb': {'10': 0.34425525979359695, '20': 0.32759764231132343, '30': 0.32277901242449925, '40': 0.3175528177055372, '50': 0.3215509232606985, '60': 0.32253902887402747, '70': 0.32074504002718374, '80': 0.33057336191246184, '92': 0.3155689712243389}, 'ctb': {'10': 0.31723443143951696, '20': 0.30665500841963517, '30': 0.30512470112702833, '40': 0.30433995168619365, '50': 0.2972380279700994, '60': 0.3109702199491518, '70': 0.3042264152451372, '80': 0.3054649596868193, '92': 0.3088723214099789}, 'lgb': {'10': 0.3363639728314142, '20': 0.32926558506784626, '30': 0.3415427778038509, '40': 0.3390883065536448, '50': 0.32662085345300507, '60': 0.32242828395601175, '70': 0.32916505983028765, '80': 0.32452100593127536, '92': 0.3257991589014514}, 'svr': {'10': 0.3363786251651471, '20': 0.325778918842096, '30': 0.32011752053729425, '40': 0.3172427161249423, '50': 0.31206525299277793, '60': 0.32180851009698636, '70': 0.3276431727763828, '80': 0.3204252131699736, '92': 0.31395451541085057}, 'mlp': {'10': 0.3307684230397756, '20': 0.3251692672352253, '30': 0.32008380881406256, '40': 0.3240841656297238, '50': 0.3154250097407238, '60': 0.3196847857648745, '70': 0.3476795307646036, '80': 0.3591302385470224, '92': 0.34430465111535924}, 'knn': {'10': 0.3720935238979834, '20': 0.3827825095537937, '30': 0.37270417961812363, '40': 0.38366423155759144, '50': 0.4031740356169465, '60': 0.41700731387091605, '70': 0.42458693388730834, '80': 0.43039733747006664, '92': 0.4469285684063479}}\n"
     ]
    }
   ],
   "source": [
    "print(val_scores)"
   ]
  },
  {
   "cell_type": "code",
   "execution_count": 164,
   "id": "805adba6",
   "metadata": {},
   "outputs": [
    {
     "data": {
      "application/vnd.plotly.v1+json": {
       "config": {
        "plotlyServerURL": "https://plot.ly"
       },
       "data": [
        {
         "error_y": {
          "array": {
           "bdata": "GIOP3UfZqj+aFIKrseasPw0Jde7SMa0/qGBy9JNXrj9MmC5TgUStP+ayh1ma860/hS2qPcQYrj/td/usi0CsPyu52H9t/q0/",
           "dtype": "f8"
          },
          "type": "data"
         },
         "name": "xgb CV",
         "type": "bar",
         "x": [
          "10",
          "20",
          "30",
          "40",
          "50",
          "60",
          "70",
          "80",
          "92"
         ],
         "xaxis": "x",
         "y": {
          "bdata": "ot0g/CL31T9IfsSV1+nUPzIByF/tO9Q/dmo1v4Ba1D+FfurpZwfUP0DXRI4FDdQ/L8ywZbkL1D9K6aCNbR7UPxVuqzppJtQ/",
          "dtype": "f8"
         },
         "yaxis": "y"
        },
        {
         "name": "xgb Validation",
         "type": "bar",
         "x": [
          "10",
          "20",
          "30",
          "40",
          "50",
          "60",
          "70",
          "80",
          "92"
         ],
         "xaxis": "x",
         "y": {
          "bdata": "4oaSNkcI1j9lU/4ZXPfUP56yjE1pqNQ/UhGzDclS1D/Dz9lSSpTUP5+kLL16pNQ/fldRNBaH1D9d8JUsHSjVPx6ewjJIMtQ/",
          "dtype": "f8"
         },
         "yaxis": "y"
        },
        {
         "error_y": {
          "array": {
           "bdata": "n7woATkvpj/ZoTZRVw+qP7iQ30K7p64/qYyEA6xorT9f42dGVrWsP0lBrc6Qta0/VqxLfWr9rT81R5qda3isPyBxoXMaCaw/",
           "dtype": "f8"
          },
          "type": "data"
         },
         "name": "ctb CV",
         "type": "bar",
         "x": [
          "10",
          "20",
          "30",
          "40",
          "50",
          "60",
          "70",
          "80",
          "92"
         ],
         "xaxis": "x2",
         "y": {
          "bdata": "6xiDXFMS1T8zEqWUkgTUP0VvTCQ5ZNM/y32yoGFN0z9eK9zKaRTTP88aSwnlGdM/rrvi11U60z9Dbf8ojEjTP3EgVotHUtM/",
          "dtype": "f8"
         },
         "yaxis": "y2"
        },
        {
         "name": "ctb Validation",
         "type": "bar",
         "x": [
          "10",
          "20",
          "30",
          "40",
          "50",
          "60",
          "70",
          "80",
          "92"
         ],
         "xaxis": "x2",
         "y": {
          "bdata": "D6oMpZFN1D+1SBRUPKDTPwu2IsEph9M/YvDWRk560z9DlVCm8gXTP8WJLaPv5tM/16gDEnJ40z88cvvmvIzTPwQcxmmQxNM/",
          "dtype": "f8"
         },
         "yaxis": "y2"
        },
        {
         "error_y": {
          "array": {
           "bdata": "Ig102vQdpj8PcTSqh9CoPzd9TTlK0Ks/DUjLmFwZqj/K6sLhuSKqP6mDwGAnD6w/3yKvAWYZqj8VRbWKJWirPwC5iOaGuKs/",
           "dtype": "f8"
          },
          "type": "data"
         },
         "name": "lgb CV",
         "type": "bar",
         "x": [
          "10",
          "20",
          "30",
          "40",
          "50",
          "60",
          "70",
          "80",
          "92"
         ],
         "xaxis": "x3",
         "y": {
          "bdata": "SE77OpfD1T+3u3eLHwnVP0m4behGgdQ/vYWpKOl71D9o+/iVuynUP+9jSQHBPtQ/1sFWwww81D/cFBEA4z3UP/XWV81xUNQ/",
          "dtype": "f8"
         },
         "yaxis": "y3"
        },
        {
         "name": "lgb Validation",
         "type": "bar",
         "x": [
          "10",
          "20",
          "30",
          "40",
          "50",
          "60",
          "70",
          "80",
          "92"
         ],
         "xaxis": "x3",
         "y": {
          "bdata": "g0S3wfyG1T8jJOT1rxLVP+yPNj3W29U/vabGcJ+z1T/MbPEmW+fUP8xfuT2qotQ/+j69UwoR1T8ZwNXA88TUP1byIrfk2dQ/",
          "dtype": "f8"
         },
         "yaxis": "y3"
        },
        {
         "error_y": {
          "array": {
           "bdata": "5e+vd6e4oD+LU8jHDXGiP0uBLyX2LaY/5k004A5Jpz+MeC6NaKunP/YLRiY7cqg/zoW4hAS8qz+j2ETN7Z6qP3edrHY9L60/",
           "dtype": "f8"
          },
          "type": "data"
         },
         "name": "svr CV",
         "type": "bar",
         "x": [
          "10",
          "20",
          "30",
          "40",
          "50",
          "60",
          "70",
          "80",
          "92"
         ],
         "xaxis": "x4",
         "y": {
          "bdata": "mK9i0oU31D8Hs9wwgeTTP1A+LoGmCdM/YZIhaD8D0z9lif5r7CnTP9EFGh+wWdM/s5GFPaEo0z+mriWYV0DTP0ItV3JJTtM/",
          "dtype": "f8"
         },
         "yaxis": "y4"
        },
        {
         "name": "svr Validation",
         "type": "bar",
         "x": [
          "10",
          "20",
          "30",
          "40",
          "50",
          "60",
          "70",
          "80",
          "92"
         ],
         "xaxis": "x4",
         "y": {
          "bdata": "kRiKNjqH1T9qy4nSj9nUP/ZkZTLOfNQ/WaepZLRN1D/JmvSJ4PjTPwk6nLiCmNQ/ckP1ERv41D9TP9jA2IHUP53AB67UF9Q/",
          "dtype": "f8"
         },
         "yaxis": "y4"
        },
        {
         "error_y": {
          "array": {
           "bdata": "RzSgRGOAtT89yNSyFL21P31TFFTH/LQ/33ODNCE3tj/pQ+DL25a1P0y88bJs6rQ/HK610UPntj9k5BVM6OO1P6He9FIKIrU/",
           "dtype": "f8"
          },
          "type": "data"
         },
         "name": "mlp CV",
         "type": "bar",
         "x": [
          "10",
          "20",
          "30",
          "40",
          "50",
          "60",
          "70",
          "80",
          "92"
         ],
         "xaxis": "x5",
         "y": {
          "bdata": "w9hT/n+d1T9DZAPv55vVPzLMqoCxhNQ/z0hh5P761D/DLyykyOnUP7QGEHTtttY/5vr4jwZA1T/E8WBSA5vWP6ukCivYO9U/",
          "dtype": "f8"
         },
         "yaxis": "y5"
        },
        {
         "name": "mlp Validation",
         "type": "bar",
         "x": [
          "10",
          "20",
          "30",
          "40",
          "50",
          "60",
          "70",
          "80",
          "92"
         ],
         "xaxis": "x5",
         "y": {
          "bdata": "UFfgUU8r1T8IIhzCks/UPxV5tcxAfNQ/uf0hg8u91D8rUkth7C/UP8fj+Cy3ddQ/p9iHpWFA1j/eGmRl/fvWP5KsGWAWCdY/",
          "dtype": "f8"
         },
         "yaxis": "y5"
        },
        {
         "error_y": {
          "array": {
           "bdata": "P4KQn9Pzoz//iAsXJ2emP/C2PhetU6o/u2lXa/x3qT8t9+I7qOOoP1jv+kZEV6k/NTsn66Nxpj9koMK19OqkPwSeZg5d4KU/",
           "dtype": "f8"
          },
          "type": "data"
         },
         "name": "knn CV",
         "type": "bar",
         "x": [
          "10",
          "20",
          "30",
          "40",
          "50",
          "60",
          "70",
          "80",
          "92"
         ],
         "xaxis": "x6",
         "y": {
          "bdata": "HkcALxIy1z8vQKQXYHDXP4I+Sqacgtc/pfdHqVNU2D/SFaK+6tnYPxWI5vD96Nk/kPlZyyQ+2j8rZHJDJVbaP62wE3s1Dds/",
          "dtype": "f8"
         },
         "yaxis": "y6"
        },
        {
         "name": "knn Validation",
         "type": "bar",
         "x": [
          "10",
          "20",
          "30",
          "40",
          "50",
          "60",
          "70",
          "80",
          "92"
         ],
         "xaxis": "x6",
         "y": {
          "bdata": "s34MW2HQ1z8j6wA2gn/YP+C1oqFi2tc/MtTLa/SN2D9NjWR4ms3ZP1Qt0XE/sNo/vbbWrG4s2z/XCi5GoYvbP+cDPUh6mtw/",
          "dtype": "f8"
         },
         "yaxis": "y6"
        }
       ],
       "layout": {
        "annotations": [
         {
          "font": {
           "size": 16
          },
          "showarrow": false,
          "text": "xgb",
          "x": 0.14444444444444446,
          "xanchor": "center",
          "xref": "paper",
          "y": 1,
          "yanchor": "bottom",
          "yref": "paper"
         },
         {
          "font": {
           "size": 16
          },
          "showarrow": false,
          "text": "ctb",
          "x": 0.5,
          "xanchor": "center",
          "xref": "paper",
          "y": 1,
          "yanchor": "bottom",
          "yref": "paper"
         },
         {
          "font": {
           "size": 16
          },
          "showarrow": false,
          "text": "lgb",
          "x": 0.8555555555555556,
          "xanchor": "center",
          "xref": "paper",
          "y": 1,
          "yanchor": "bottom",
          "yref": "paper"
         },
         {
          "font": {
           "size": 16
          },
          "showarrow": false,
          "text": "svr",
          "x": 0.14444444444444446,
          "xanchor": "center",
          "xref": "paper",
          "y": 0.375,
          "yanchor": "bottom",
          "yref": "paper"
         },
         {
          "font": {
           "size": 16
          },
          "showarrow": false,
          "text": "mlp",
          "x": 0.5,
          "xanchor": "center",
          "xref": "paper",
          "y": 0.375,
          "yanchor": "bottom",
          "yref": "paper"
         },
         {
          "font": {
           "size": 16
          },
          "showarrow": false,
          "text": "knn",
          "x": 0.8555555555555556,
          "xanchor": "center",
          "xref": "paper",
          "y": 0.375,
          "yanchor": "bottom",
          "yref": "paper"
         }
        ],
        "barmode": "group",
        "height": 800,
        "showlegend": true,
        "template": {
         "data": {
          "bar": [
           {
            "error_x": {
             "color": "#2a3f5f"
            },
            "error_y": {
             "color": "#2a3f5f"
            },
            "marker": {
             "line": {
              "color": "#E5ECF6",
              "width": 0.5
             },
             "pattern": {
              "fillmode": "overlay",
              "size": 10,
              "solidity": 0.2
             }
            },
            "type": "bar"
           }
          ],
          "barpolar": [
           {
            "marker": {
             "line": {
              "color": "#E5ECF6",
              "width": 0.5
             },
             "pattern": {
              "fillmode": "overlay",
              "size": 10,
              "solidity": 0.2
             }
            },
            "type": "barpolar"
           }
          ],
          "carpet": [
           {
            "aaxis": {
             "endlinecolor": "#2a3f5f",
             "gridcolor": "white",
             "linecolor": "white",
             "minorgridcolor": "white",
             "startlinecolor": "#2a3f5f"
            },
            "baxis": {
             "endlinecolor": "#2a3f5f",
             "gridcolor": "white",
             "linecolor": "white",
             "minorgridcolor": "white",
             "startlinecolor": "#2a3f5f"
            },
            "type": "carpet"
           }
          ],
          "choropleth": [
           {
            "colorbar": {
             "outlinewidth": 0,
             "ticks": ""
            },
            "type": "choropleth"
           }
          ],
          "contour": [
           {
            "colorbar": {
             "outlinewidth": 0,
             "ticks": ""
            },
            "colorscale": [
             [
              0,
              "#0d0887"
             ],
             [
              0.1111111111111111,
              "#46039f"
             ],
             [
              0.2222222222222222,
              "#7201a8"
             ],
             [
              0.3333333333333333,
              "#9c179e"
             ],
             [
              0.4444444444444444,
              "#bd3786"
             ],
             [
              0.5555555555555556,
              "#d8576b"
             ],
             [
              0.6666666666666666,
              "#ed7953"
             ],
             [
              0.7777777777777778,
              "#fb9f3a"
             ],
             [
              0.8888888888888888,
              "#fdca26"
             ],
             [
              1,
              "#f0f921"
             ]
            ],
            "type": "contour"
           }
          ],
          "contourcarpet": [
           {
            "colorbar": {
             "outlinewidth": 0,
             "ticks": ""
            },
            "type": "contourcarpet"
           }
          ],
          "heatmap": [
           {
            "colorbar": {
             "outlinewidth": 0,
             "ticks": ""
            },
            "colorscale": [
             [
              0,
              "#0d0887"
             ],
             [
              0.1111111111111111,
              "#46039f"
             ],
             [
              0.2222222222222222,
              "#7201a8"
             ],
             [
              0.3333333333333333,
              "#9c179e"
             ],
             [
              0.4444444444444444,
              "#bd3786"
             ],
             [
              0.5555555555555556,
              "#d8576b"
             ],
             [
              0.6666666666666666,
              "#ed7953"
             ],
             [
              0.7777777777777778,
              "#fb9f3a"
             ],
             [
              0.8888888888888888,
              "#fdca26"
             ],
             [
              1,
              "#f0f921"
             ]
            ],
            "type": "heatmap"
           }
          ],
          "histogram": [
           {
            "marker": {
             "pattern": {
              "fillmode": "overlay",
              "size": 10,
              "solidity": 0.2
             }
            },
            "type": "histogram"
           }
          ],
          "histogram2d": [
           {
            "colorbar": {
             "outlinewidth": 0,
             "ticks": ""
            },
            "colorscale": [
             [
              0,
              "#0d0887"
             ],
             [
              0.1111111111111111,
              "#46039f"
             ],
             [
              0.2222222222222222,
              "#7201a8"
             ],
             [
              0.3333333333333333,
              "#9c179e"
             ],
             [
              0.4444444444444444,
              "#bd3786"
             ],
             [
              0.5555555555555556,
              "#d8576b"
             ],
             [
              0.6666666666666666,
              "#ed7953"
             ],
             [
              0.7777777777777778,
              "#fb9f3a"
             ],
             [
              0.8888888888888888,
              "#fdca26"
             ],
             [
              1,
              "#f0f921"
             ]
            ],
            "type": "histogram2d"
           }
          ],
          "histogram2dcontour": [
           {
            "colorbar": {
             "outlinewidth": 0,
             "ticks": ""
            },
            "colorscale": [
             [
              0,
              "#0d0887"
             ],
             [
              0.1111111111111111,
              "#46039f"
             ],
             [
              0.2222222222222222,
              "#7201a8"
             ],
             [
              0.3333333333333333,
              "#9c179e"
             ],
             [
              0.4444444444444444,
              "#bd3786"
             ],
             [
              0.5555555555555556,
              "#d8576b"
             ],
             [
              0.6666666666666666,
              "#ed7953"
             ],
             [
              0.7777777777777778,
              "#fb9f3a"
             ],
             [
              0.8888888888888888,
              "#fdca26"
             ],
             [
              1,
              "#f0f921"
             ]
            ],
            "type": "histogram2dcontour"
           }
          ],
          "mesh3d": [
           {
            "colorbar": {
             "outlinewidth": 0,
             "ticks": ""
            },
            "type": "mesh3d"
           }
          ],
          "parcoords": [
           {
            "line": {
             "colorbar": {
              "outlinewidth": 0,
              "ticks": ""
             }
            },
            "type": "parcoords"
           }
          ],
          "pie": [
           {
            "automargin": true,
            "type": "pie"
           }
          ],
          "scatter": [
           {
            "fillpattern": {
             "fillmode": "overlay",
             "size": 10,
             "solidity": 0.2
            },
            "type": "scatter"
           }
          ],
          "scatter3d": [
           {
            "line": {
             "colorbar": {
              "outlinewidth": 0,
              "ticks": ""
             }
            },
            "marker": {
             "colorbar": {
              "outlinewidth": 0,
              "ticks": ""
             }
            },
            "type": "scatter3d"
           }
          ],
          "scattercarpet": [
           {
            "marker": {
             "colorbar": {
              "outlinewidth": 0,
              "ticks": ""
             }
            },
            "type": "scattercarpet"
           }
          ],
          "scattergeo": [
           {
            "marker": {
             "colorbar": {
              "outlinewidth": 0,
              "ticks": ""
             }
            },
            "type": "scattergeo"
           }
          ],
          "scattergl": [
           {
            "marker": {
             "colorbar": {
              "outlinewidth": 0,
              "ticks": ""
             }
            },
            "type": "scattergl"
           }
          ],
          "scattermap": [
           {
            "marker": {
             "colorbar": {
              "outlinewidth": 0,
              "ticks": ""
             }
            },
            "type": "scattermap"
           }
          ],
          "scattermapbox": [
           {
            "marker": {
             "colorbar": {
              "outlinewidth": 0,
              "ticks": ""
             }
            },
            "type": "scattermapbox"
           }
          ],
          "scatterpolar": [
           {
            "marker": {
             "colorbar": {
              "outlinewidth": 0,
              "ticks": ""
             }
            },
            "type": "scatterpolar"
           }
          ],
          "scatterpolargl": [
           {
            "marker": {
             "colorbar": {
              "outlinewidth": 0,
              "ticks": ""
             }
            },
            "type": "scatterpolargl"
           }
          ],
          "scatterternary": [
           {
            "marker": {
             "colorbar": {
              "outlinewidth": 0,
              "ticks": ""
             }
            },
            "type": "scatterternary"
           }
          ],
          "surface": [
           {
            "colorbar": {
             "outlinewidth": 0,
             "ticks": ""
            },
            "colorscale": [
             [
              0,
              "#0d0887"
             ],
             [
              0.1111111111111111,
              "#46039f"
             ],
             [
              0.2222222222222222,
              "#7201a8"
             ],
             [
              0.3333333333333333,
              "#9c179e"
             ],
             [
              0.4444444444444444,
              "#bd3786"
             ],
             [
              0.5555555555555556,
              "#d8576b"
             ],
             [
              0.6666666666666666,
              "#ed7953"
             ],
             [
              0.7777777777777778,
              "#fb9f3a"
             ],
             [
              0.8888888888888888,
              "#fdca26"
             ],
             [
              1,
              "#f0f921"
             ]
            ],
            "type": "surface"
           }
          ],
          "table": [
           {
            "cells": {
             "fill": {
              "color": "#EBF0F8"
             },
             "line": {
              "color": "white"
             }
            },
            "header": {
             "fill": {
              "color": "#C8D4E3"
             },
             "line": {
              "color": "white"
             }
            },
            "type": "table"
           }
          ]
         },
         "layout": {
          "annotationdefaults": {
           "arrowcolor": "#2a3f5f",
           "arrowhead": 0,
           "arrowwidth": 1
          },
          "autotypenumbers": "strict",
          "coloraxis": {
           "colorbar": {
            "outlinewidth": 0,
            "ticks": ""
           }
          },
          "colorscale": {
           "diverging": [
            [
             0,
             "#8e0152"
            ],
            [
             0.1,
             "#c51b7d"
            ],
            [
             0.2,
             "#de77ae"
            ],
            [
             0.3,
             "#f1b6da"
            ],
            [
             0.4,
             "#fde0ef"
            ],
            [
             0.5,
             "#f7f7f7"
            ],
            [
             0.6,
             "#e6f5d0"
            ],
            [
             0.7,
             "#b8e186"
            ],
            [
             0.8,
             "#7fbc41"
            ],
            [
             0.9,
             "#4d9221"
            ],
            [
             1,
             "#276419"
            ]
           ],
           "sequential": [
            [
             0,
             "#0d0887"
            ],
            [
             0.1111111111111111,
             "#46039f"
            ],
            [
             0.2222222222222222,
             "#7201a8"
            ],
            [
             0.3333333333333333,
             "#9c179e"
            ],
            [
             0.4444444444444444,
             "#bd3786"
            ],
            [
             0.5555555555555556,
             "#d8576b"
            ],
            [
             0.6666666666666666,
             "#ed7953"
            ],
            [
             0.7777777777777778,
             "#fb9f3a"
            ],
            [
             0.8888888888888888,
             "#fdca26"
            ],
            [
             1,
             "#f0f921"
            ]
           ],
           "sequentialminus": [
            [
             0,
             "#0d0887"
            ],
            [
             0.1111111111111111,
             "#46039f"
            ],
            [
             0.2222222222222222,
             "#7201a8"
            ],
            [
             0.3333333333333333,
             "#9c179e"
            ],
            [
             0.4444444444444444,
             "#bd3786"
            ],
            [
             0.5555555555555556,
             "#d8576b"
            ],
            [
             0.6666666666666666,
             "#ed7953"
            ],
            [
             0.7777777777777778,
             "#fb9f3a"
            ],
            [
             0.8888888888888888,
             "#fdca26"
            ],
            [
             1,
             "#f0f921"
            ]
           ]
          },
          "colorway": [
           "#636efa",
           "#EF553B",
           "#00cc96",
           "#ab63fa",
           "#FFA15A",
           "#19d3f3",
           "#FF6692",
           "#B6E880",
           "#FF97FF",
           "#FECB52"
          ],
          "font": {
           "color": "#2a3f5f"
          },
          "geo": {
           "bgcolor": "white",
           "lakecolor": "white",
           "landcolor": "#E5ECF6",
           "showlakes": true,
           "showland": true,
           "subunitcolor": "white"
          },
          "hoverlabel": {
           "align": "left"
          },
          "hovermode": "closest",
          "mapbox": {
           "style": "light"
          },
          "paper_bgcolor": "white",
          "plot_bgcolor": "#E5ECF6",
          "polar": {
           "angularaxis": {
            "gridcolor": "white",
            "linecolor": "white",
            "ticks": ""
           },
           "bgcolor": "#E5ECF6",
           "radialaxis": {
            "gridcolor": "white",
            "linecolor": "white",
            "ticks": ""
           }
          },
          "scene": {
           "xaxis": {
            "backgroundcolor": "#E5ECF6",
            "gridcolor": "white",
            "gridwidth": 2,
            "linecolor": "white",
            "showbackground": true,
            "ticks": "",
            "zerolinecolor": "white"
           },
           "yaxis": {
            "backgroundcolor": "#E5ECF6",
            "gridcolor": "white",
            "gridwidth": 2,
            "linecolor": "white",
            "showbackground": true,
            "ticks": "",
            "zerolinecolor": "white"
           },
           "zaxis": {
            "backgroundcolor": "#E5ECF6",
            "gridcolor": "white",
            "gridwidth": 2,
            "linecolor": "white",
            "showbackground": true,
            "ticks": "",
            "zerolinecolor": "white"
           }
          },
          "shapedefaults": {
           "line": {
            "color": "#2a3f5f"
           }
          },
          "ternary": {
           "aaxis": {
            "gridcolor": "white",
            "linecolor": "white",
            "ticks": ""
           },
           "baxis": {
            "gridcolor": "white",
            "linecolor": "white",
            "ticks": ""
           },
           "bgcolor": "#E5ECF6",
           "caxis": {
            "gridcolor": "white",
            "linecolor": "white",
            "ticks": ""
           }
          },
          "title": {
           "x": 0.05
          },
          "xaxis": {
           "automargin": true,
           "gridcolor": "white",
           "linecolor": "white",
           "ticks": "",
           "title": {
            "standoff": 15
           },
           "zerolinecolor": "white",
           "zerolinewidth": 2
          },
          "yaxis": {
           "automargin": true,
           "gridcolor": "white",
           "linecolor": "white",
           "ticks": "",
           "title": {
            "standoff": 15
           },
           "zerolinecolor": "white",
           "zerolinewidth": 2
          }
         }
        },
        "width": 1500,
        "xaxis": {
         "anchor": "y",
         "domain": [
          0,
          0.2888888888888889
         ]
        },
        "xaxis2": {
         "anchor": "y2",
         "domain": [
          0.35555555555555557,
          0.6444444444444445
         ]
        },
        "xaxis3": {
         "anchor": "y3",
         "domain": [
          0.7111111111111111,
          1
         ]
        },
        "xaxis4": {
         "anchor": "y4",
         "domain": [
          0,
          0.2888888888888889
         ]
        },
        "xaxis5": {
         "anchor": "y5",
         "domain": [
          0.35555555555555557,
          0.6444444444444445
         ]
        },
        "xaxis6": {
         "anchor": "y6",
         "domain": [
          0.7111111111111111,
          1
         ]
        },
        "yaxis": {
         "anchor": "x",
         "domain": [
          0.625,
          1
         ],
         "range": [
          0.23,
          0.46
         ]
        },
        "yaxis2": {
         "anchor": "x2",
         "domain": [
          0.625,
          1
         ],
         "range": [
          0.23,
          0.46
         ]
        },
        "yaxis3": {
         "anchor": "x3",
         "domain": [
          0.625,
          1
         ],
         "range": [
          0.23,
          0.46
         ]
        },
        "yaxis4": {
         "anchor": "x4",
         "domain": [
          0,
          0.375
         ],
         "range": [
          0.23,
          0.46
         ]
        },
        "yaxis5": {
         "anchor": "x5",
         "domain": [
          0,
          0.375
         ],
         "range": [
          0.23,
          0.46
         ]
        },
        "yaxis6": {
         "anchor": "x6",
         "domain": [
          0,
          0.375
         ],
         "range": [
          0.23,
          0.46
         ]
        }
       }
      }
     },
     "metadata": {},
     "output_type": "display_data"
    }
   ],
   "source": [
    "md.plot_model_scores(cv_scores, val_scores, [10, 20, 30, 40, 50, 60, 70, 80, 92], 3)"
   ]
  },
  {
   "cell_type": "markdown",
   "id": "f84d6b76",
   "metadata": {},
   "source": [
    "### 3.2 Stacking"
   ]
  },
  {
   "cell_type": "code",
   "execution_count": 5,
   "id": "2b260ae8",
   "metadata": {},
   "outputs": [],
   "source": [
    "from sklearn.metrics import root_mean_squared_error\n",
    "from sklearn.linear_model import Ridge\n",
    "\n",
    "model_selection = {\n",
    "    'xgb': 92,\n",
    "    'ctb': 50,\n",
    "    'lgb': 60,\n",
    "    'svr': 50,\n",
    "    'mlp': 50,\n",
    "    # 'knn': 20,\n",
    "}"
   ]
  },
  {
   "cell_type": "code",
   "execution_count": 120,
   "id": "f8cb2d74",
   "metadata": {},
   "outputs": [],
   "source": [
    "oof_predictions_train, oof_predictions_val = md.get_oof_predictions(model_selection, X_train, y_train, X_val)"
   ]
  },
  {
   "cell_type": "code",
   "execution_count": 121,
   "id": "b1ac715e",
   "metadata": {},
   "outputs": [
    {
     "name": "stdout",
     "output_type": "stream",
     "text": [
      "Processing Lasso.\n"
     ]
    },
    {
     "name": "stderr",
     "output_type": "stream",
     "text": [
      "/opt/miniconda3/envs/torch_study/lib/python3.11/site-packages/mlflow/tracking/metric_value_conversion_utils.py:53: FutureWarning:\n",
      "\n",
      "Calling float on a single element Series is deprecated and will raise a TypeError in the future. Use float(ser.iloc[0]) instead\n",
      "\n"
     ]
    },
    {
     "name": "stdout",
     "output_type": "stream",
     "text": [
      "🏃 View run Lasso at: http://127.0.0.1:8080/#/experiments/341249612524648412/runs/a78258c54d7c4607ac97211041761913\n",
      "🧪 View experiment at: http://127.0.0.1:8080/#/experiments/341249612524648412\n",
      "Processing Ridge.\n"
     ]
    },
    {
     "name": "stderr",
     "output_type": "stream",
     "text": [
      "/opt/miniconda3/envs/torch_study/lib/python3.11/site-packages/mlflow/tracking/metric_value_conversion_utils.py:53: FutureWarning:\n",
      "\n",
      "Calling float on a single element Series is deprecated and will raise a TypeError in the future. Use float(ser.iloc[0]) instead\n",
      "\n"
     ]
    },
    {
     "name": "stdout",
     "output_type": "stream",
     "text": [
      "🏃 View run Ridge at: http://127.0.0.1:8080/#/experiments/341249612524648412/runs/e060b7a686ab4884bba99f42c13f963e\n",
      "🧪 View experiment at: http://127.0.0.1:8080/#/experiments/341249612524648412\n",
      "Processing Elastic Net.\n"
     ]
    },
    {
     "name": "stderr",
     "output_type": "stream",
     "text": [
      "/opt/miniconda3/envs/torch_study/lib/python3.11/site-packages/mlflow/tracking/metric_value_conversion_utils.py:53: FutureWarning:\n",
      "\n",
      "Calling float on a single element Series is deprecated and will raise a TypeError in the future. Use float(ser.iloc[0]) instead\n",
      "\n"
     ]
    },
    {
     "name": "stdout",
     "output_type": "stream",
     "text": [
      "🏃 View run Elastic Net at: http://127.0.0.1:8080/#/experiments/341249612524648412/runs/ccc4b82a60034d5ab4e3f88b9f79e532\n",
      "🧪 View experiment at: http://127.0.0.1:8080/#/experiments/341249612524648412\n",
      "Processing Support Vector Regressor.\n",
      "🏃 View run Support Vector Regressor at: http://127.0.0.1:8080/#/experiments/341249612524648412/runs/265e123819eb4f39b776f3ded7761686\n",
      "🧪 View experiment at: http://127.0.0.1:8080/#/experiments/341249612524648412\n",
      "🏃 View run div3 at: http://127.0.0.1:8080/#/experiments/341249612524648412/runs/630fec5c3655456a88fc443d08438d0f\n",
      "🧪 View experiment at: http://127.0.0.1:8080/#/experiments/341249612524648412\n"
     ]
    },
    {
     "name": "stderr",
     "output_type": "stream",
     "text": [
      "/opt/miniconda3/envs/torch_study/lib/python3.11/site-packages/mlflow/tracking/metric_value_conversion_utils.py:53: FutureWarning:\n",
      "\n",
      "Calling float on a single element Series is deprecated and will raise a TypeError in the future. Use float(ser.iloc[0]) instead\n",
      "\n"
     ]
    }
   ],
   "source": [
    "st_params = {}\n",
    "st_cv_scores = {}\n",
    "st_val_scores = {}\n",
    "st_studies = {}\n",
    "\n",
    "\n",
    "with mlflow.start_run(run_name='div3'):\n",
    "    mlflow.set_tag('model', 'Stacking Regressor')\n",
    "    mlflow.log_input(dataset)\n",
    "    mlflow.log_params(model_selection)\n",
    "    \n",
    "    for key in md.META_MODELS:\n",
    "        with mlflow.start_run(nested=True, run_name=md.META_MODELS[key]['name']):\n",
    "            print(f\"Processing {md.META_MODELS[key]['name']}.\")\n",
    "\n",
    "            st_params[key], st_cv_scores[key], st_val_scores[key], st_studies[key] = (\n",
    "                md.optimize_and_evaluate_model(\n",
    "                    md.META_MODELS[key],\n",
    "                    oof_predictions_train,\n",
    "                    y_train,\n",
    "                    oof_predictions_val,\n",
    "                    y_val,\n",
    "                    model_selection,\n",
    "                    features_by_importance,\n",
    "                )\n",
    "            )\n",
    "            \n",
    "            mlflow.log_params(st_params[key])\n",
    "            mlflow.log_metric('best_avg_cv_score', st_cv_scores[key].mean())\n",
    "            mlflow.log_metric('best_std_cv_score', st_cv_scores[key].std())\n",
    "            mlflow.log_metric('best_val_scores', st_val_scores[key])\n",
    "            \n",
    "            mlflow.end_run()\n",
    "            \n",
    "    best_key = min(st_val_scores, key=lambda x: st_val_scores[x])\n",
    "    mlflow.log_param('best_final_estimator', md.META_MODELS[best_key]['name'])\n",
    "    mlflow.log_metric('best_avg_cv_score', st_cv_scores[best_key].mean())\n",
    "    mlflow.log_metric('best_std_cv_score', st_cv_scores[best_key].std())\n",
    "    mlflow.log_metric('best_val_scores', st_val_scores[best_key])    "
   ]
  },
  {
   "cell_type": "code",
   "execution_count": 118,
   "id": "3fc02325",
   "metadata": {},
   "outputs": [
    {
     "data": {
      "application/vnd.plotly.v1+json": {
       "config": {
        "plotlyServerURL": "https://plot.ly"
       },
       "data": [
        {
         "error_y": {
          "array": [
           0.04085230511491707
          ],
          "type": "data"
         },
         "name": "lasso CV",
         "type": "bar",
         "x": [
          "CV mean"
         ],
         "xaxis": "x",
         "y": [
          0.2828029818366563
         ],
         "yaxis": "y"
        },
        {
         "name": "lasso Validation",
         "type": "bar",
         "x": [
          "Validation"
         ],
         "xaxis": "x",
         "y": [
          0.32249089497509587
         ],
         "yaxis": "y"
        },
        {
         "error_y": {
          "array": [
           0.03966945995088713
          ],
          "type": "data"
         },
         "name": "ridge CV",
         "type": "bar",
         "x": [
          "CV mean"
         ],
         "xaxis": "x2",
         "y": [
          0.28243979976921996
         ],
         "yaxis": "y2"
        },
        {
         "name": "ridge Validation",
         "type": "bar",
         "x": [
          "Validation"
         ],
         "xaxis": "x2",
         "y": [
          0.3216904720319683
         ],
         "yaxis": "y2"
        },
        {
         "error_y": {
          "array": [
           0.039637391732846396
          ],
          "type": "data"
         },
         "name": "elNet CV",
         "type": "bar",
         "x": [
          "CV mean"
         ],
         "xaxis": "x3",
         "y": [
          0.28244664995705293
         ],
         "yaxis": "y3"
        },
        {
         "name": "elNet Validation",
         "type": "bar",
         "x": [
          "Validation"
         ],
         "xaxis": "x3",
         "y": [
          0.32173489880751344
         ],
         "yaxis": "y3"
        },
        {
         "error_y": {
          "array": [
           0.03871211251475977
          ],
          "type": "data"
         },
         "name": "svr CV",
         "type": "bar",
         "x": [
          "CV mean"
         ],
         "xaxis": "x4",
         "y": [
          0.28327113162761713
         ],
         "yaxis": "y4"
        },
        {
         "name": "svr Validation",
         "type": "bar",
         "x": [
          "Validation"
         ],
         "xaxis": "x4",
         "y": [
          0.32367910281958273
         ],
         "yaxis": "y4"
        }
       ],
       "layout": {
        "annotations": [
         {
          "font": {
           "size": 16
          },
          "showarrow": false,
          "text": "lasso",
          "x": 0.10625,
          "xanchor": "center",
          "xref": "paper",
          "y": 1,
          "yanchor": "bottom",
          "yref": "paper"
         },
         {
          "font": {
           "size": 16
          },
          "showarrow": false,
          "text": "ridge",
          "x": 0.36875,
          "xanchor": "center",
          "xref": "paper",
          "y": 1,
          "yanchor": "bottom",
          "yref": "paper"
         },
         {
          "font": {
           "size": 16
          },
          "showarrow": false,
          "text": "elNet",
          "x": 0.6312500000000001,
          "xanchor": "center",
          "xref": "paper",
          "y": 1,
          "yanchor": "bottom",
          "yref": "paper"
         },
         {
          "font": {
           "size": 16
          },
          "showarrow": false,
          "text": "svr",
          "x": 0.89375,
          "xanchor": "center",
          "xref": "paper",
          "y": 1,
          "yanchor": "bottom",
          "yref": "paper"
         }
        ],
        "barmode": "group",
        "height": 300,
        "showlegend": true,
        "template": {
         "data": {
          "bar": [
           {
            "error_x": {
             "color": "#2a3f5f"
            },
            "error_y": {
             "color": "#2a3f5f"
            },
            "marker": {
             "line": {
              "color": "#E5ECF6",
              "width": 0.5
             },
             "pattern": {
              "fillmode": "overlay",
              "size": 10,
              "solidity": 0.2
             }
            },
            "type": "bar"
           }
          ],
          "barpolar": [
           {
            "marker": {
             "line": {
              "color": "#E5ECF6",
              "width": 0.5
             },
             "pattern": {
              "fillmode": "overlay",
              "size": 10,
              "solidity": 0.2
             }
            },
            "type": "barpolar"
           }
          ],
          "carpet": [
           {
            "aaxis": {
             "endlinecolor": "#2a3f5f",
             "gridcolor": "white",
             "linecolor": "white",
             "minorgridcolor": "white",
             "startlinecolor": "#2a3f5f"
            },
            "baxis": {
             "endlinecolor": "#2a3f5f",
             "gridcolor": "white",
             "linecolor": "white",
             "minorgridcolor": "white",
             "startlinecolor": "#2a3f5f"
            },
            "type": "carpet"
           }
          ],
          "choropleth": [
           {
            "colorbar": {
             "outlinewidth": 0,
             "ticks": ""
            },
            "type": "choropleth"
           }
          ],
          "contour": [
           {
            "colorbar": {
             "outlinewidth": 0,
             "ticks": ""
            },
            "colorscale": [
             [
              0,
              "#0d0887"
             ],
             [
              0.1111111111111111,
              "#46039f"
             ],
             [
              0.2222222222222222,
              "#7201a8"
             ],
             [
              0.3333333333333333,
              "#9c179e"
             ],
             [
              0.4444444444444444,
              "#bd3786"
             ],
             [
              0.5555555555555556,
              "#d8576b"
             ],
             [
              0.6666666666666666,
              "#ed7953"
             ],
             [
              0.7777777777777778,
              "#fb9f3a"
             ],
             [
              0.8888888888888888,
              "#fdca26"
             ],
             [
              1,
              "#f0f921"
             ]
            ],
            "type": "contour"
           }
          ],
          "contourcarpet": [
           {
            "colorbar": {
             "outlinewidth": 0,
             "ticks": ""
            },
            "type": "contourcarpet"
           }
          ],
          "heatmap": [
           {
            "colorbar": {
             "outlinewidth": 0,
             "ticks": ""
            },
            "colorscale": [
             [
              0,
              "#0d0887"
             ],
             [
              0.1111111111111111,
              "#46039f"
             ],
             [
              0.2222222222222222,
              "#7201a8"
             ],
             [
              0.3333333333333333,
              "#9c179e"
             ],
             [
              0.4444444444444444,
              "#bd3786"
             ],
             [
              0.5555555555555556,
              "#d8576b"
             ],
             [
              0.6666666666666666,
              "#ed7953"
             ],
             [
              0.7777777777777778,
              "#fb9f3a"
             ],
             [
              0.8888888888888888,
              "#fdca26"
             ],
             [
              1,
              "#f0f921"
             ]
            ],
            "type": "heatmap"
           }
          ],
          "histogram": [
           {
            "marker": {
             "pattern": {
              "fillmode": "overlay",
              "size": 10,
              "solidity": 0.2
             }
            },
            "type": "histogram"
           }
          ],
          "histogram2d": [
           {
            "colorbar": {
             "outlinewidth": 0,
             "ticks": ""
            },
            "colorscale": [
             [
              0,
              "#0d0887"
             ],
             [
              0.1111111111111111,
              "#46039f"
             ],
             [
              0.2222222222222222,
              "#7201a8"
             ],
             [
              0.3333333333333333,
              "#9c179e"
             ],
             [
              0.4444444444444444,
              "#bd3786"
             ],
             [
              0.5555555555555556,
              "#d8576b"
             ],
             [
              0.6666666666666666,
              "#ed7953"
             ],
             [
              0.7777777777777778,
              "#fb9f3a"
             ],
             [
              0.8888888888888888,
              "#fdca26"
             ],
             [
              1,
              "#f0f921"
             ]
            ],
            "type": "histogram2d"
           }
          ],
          "histogram2dcontour": [
           {
            "colorbar": {
             "outlinewidth": 0,
             "ticks": ""
            },
            "colorscale": [
             [
              0,
              "#0d0887"
             ],
             [
              0.1111111111111111,
              "#46039f"
             ],
             [
              0.2222222222222222,
              "#7201a8"
             ],
             [
              0.3333333333333333,
              "#9c179e"
             ],
             [
              0.4444444444444444,
              "#bd3786"
             ],
             [
              0.5555555555555556,
              "#d8576b"
             ],
             [
              0.6666666666666666,
              "#ed7953"
             ],
             [
              0.7777777777777778,
              "#fb9f3a"
             ],
             [
              0.8888888888888888,
              "#fdca26"
             ],
             [
              1,
              "#f0f921"
             ]
            ],
            "type": "histogram2dcontour"
           }
          ],
          "mesh3d": [
           {
            "colorbar": {
             "outlinewidth": 0,
             "ticks": ""
            },
            "type": "mesh3d"
           }
          ],
          "parcoords": [
           {
            "line": {
             "colorbar": {
              "outlinewidth": 0,
              "ticks": ""
             }
            },
            "type": "parcoords"
           }
          ],
          "pie": [
           {
            "automargin": true,
            "type": "pie"
           }
          ],
          "scatter": [
           {
            "fillpattern": {
             "fillmode": "overlay",
             "size": 10,
             "solidity": 0.2
            },
            "type": "scatter"
           }
          ],
          "scatter3d": [
           {
            "line": {
             "colorbar": {
              "outlinewidth": 0,
              "ticks": ""
             }
            },
            "marker": {
             "colorbar": {
              "outlinewidth": 0,
              "ticks": ""
             }
            },
            "type": "scatter3d"
           }
          ],
          "scattercarpet": [
           {
            "marker": {
             "colorbar": {
              "outlinewidth": 0,
              "ticks": ""
             }
            },
            "type": "scattercarpet"
           }
          ],
          "scattergeo": [
           {
            "marker": {
             "colorbar": {
              "outlinewidth": 0,
              "ticks": ""
             }
            },
            "type": "scattergeo"
           }
          ],
          "scattergl": [
           {
            "marker": {
             "colorbar": {
              "outlinewidth": 0,
              "ticks": ""
             }
            },
            "type": "scattergl"
           }
          ],
          "scattermap": [
           {
            "marker": {
             "colorbar": {
              "outlinewidth": 0,
              "ticks": ""
             }
            },
            "type": "scattermap"
           }
          ],
          "scattermapbox": [
           {
            "marker": {
             "colorbar": {
              "outlinewidth": 0,
              "ticks": ""
             }
            },
            "type": "scattermapbox"
           }
          ],
          "scatterpolar": [
           {
            "marker": {
             "colorbar": {
              "outlinewidth": 0,
              "ticks": ""
             }
            },
            "type": "scatterpolar"
           }
          ],
          "scatterpolargl": [
           {
            "marker": {
             "colorbar": {
              "outlinewidth": 0,
              "ticks": ""
             }
            },
            "type": "scatterpolargl"
           }
          ],
          "scatterternary": [
           {
            "marker": {
             "colorbar": {
              "outlinewidth": 0,
              "ticks": ""
             }
            },
            "type": "scatterternary"
           }
          ],
          "surface": [
           {
            "colorbar": {
             "outlinewidth": 0,
             "ticks": ""
            },
            "colorscale": [
             [
              0,
              "#0d0887"
             ],
             [
              0.1111111111111111,
              "#46039f"
             ],
             [
              0.2222222222222222,
              "#7201a8"
             ],
             [
              0.3333333333333333,
              "#9c179e"
             ],
             [
              0.4444444444444444,
              "#bd3786"
             ],
             [
              0.5555555555555556,
              "#d8576b"
             ],
             [
              0.6666666666666666,
              "#ed7953"
             ],
             [
              0.7777777777777778,
              "#fb9f3a"
             ],
             [
              0.8888888888888888,
              "#fdca26"
             ],
             [
              1,
              "#f0f921"
             ]
            ],
            "type": "surface"
           }
          ],
          "table": [
           {
            "cells": {
             "fill": {
              "color": "#EBF0F8"
             },
             "line": {
              "color": "white"
             }
            },
            "header": {
             "fill": {
              "color": "#C8D4E3"
             },
             "line": {
              "color": "white"
             }
            },
            "type": "table"
           }
          ]
         },
         "layout": {
          "annotationdefaults": {
           "arrowcolor": "#2a3f5f",
           "arrowhead": 0,
           "arrowwidth": 1
          },
          "autotypenumbers": "strict",
          "coloraxis": {
           "colorbar": {
            "outlinewidth": 0,
            "ticks": ""
           }
          },
          "colorscale": {
           "diverging": [
            [
             0,
             "#8e0152"
            ],
            [
             0.1,
             "#c51b7d"
            ],
            [
             0.2,
             "#de77ae"
            ],
            [
             0.3,
             "#f1b6da"
            ],
            [
             0.4,
             "#fde0ef"
            ],
            [
             0.5,
             "#f7f7f7"
            ],
            [
             0.6,
             "#e6f5d0"
            ],
            [
             0.7,
             "#b8e186"
            ],
            [
             0.8,
             "#7fbc41"
            ],
            [
             0.9,
             "#4d9221"
            ],
            [
             1,
             "#276419"
            ]
           ],
           "sequential": [
            [
             0,
             "#0d0887"
            ],
            [
             0.1111111111111111,
             "#46039f"
            ],
            [
             0.2222222222222222,
             "#7201a8"
            ],
            [
             0.3333333333333333,
             "#9c179e"
            ],
            [
             0.4444444444444444,
             "#bd3786"
            ],
            [
             0.5555555555555556,
             "#d8576b"
            ],
            [
             0.6666666666666666,
             "#ed7953"
            ],
            [
             0.7777777777777778,
             "#fb9f3a"
            ],
            [
             0.8888888888888888,
             "#fdca26"
            ],
            [
             1,
             "#f0f921"
            ]
           ],
           "sequentialminus": [
            [
             0,
             "#0d0887"
            ],
            [
             0.1111111111111111,
             "#46039f"
            ],
            [
             0.2222222222222222,
             "#7201a8"
            ],
            [
             0.3333333333333333,
             "#9c179e"
            ],
            [
             0.4444444444444444,
             "#bd3786"
            ],
            [
             0.5555555555555556,
             "#d8576b"
            ],
            [
             0.6666666666666666,
             "#ed7953"
            ],
            [
             0.7777777777777778,
             "#fb9f3a"
            ],
            [
             0.8888888888888888,
             "#fdca26"
            ],
            [
             1,
             "#f0f921"
            ]
           ]
          },
          "colorway": [
           "#636efa",
           "#EF553B",
           "#00cc96",
           "#ab63fa",
           "#FFA15A",
           "#19d3f3",
           "#FF6692",
           "#B6E880",
           "#FF97FF",
           "#FECB52"
          ],
          "font": {
           "color": "#2a3f5f"
          },
          "geo": {
           "bgcolor": "white",
           "lakecolor": "white",
           "landcolor": "#E5ECF6",
           "showlakes": true,
           "showland": true,
           "subunitcolor": "white"
          },
          "hoverlabel": {
           "align": "left"
          },
          "hovermode": "closest",
          "mapbox": {
           "style": "light"
          },
          "paper_bgcolor": "white",
          "plot_bgcolor": "#E5ECF6",
          "polar": {
           "angularaxis": {
            "gridcolor": "white",
            "linecolor": "white",
            "ticks": ""
           },
           "bgcolor": "#E5ECF6",
           "radialaxis": {
            "gridcolor": "white",
            "linecolor": "white",
            "ticks": ""
           }
          },
          "scene": {
           "xaxis": {
            "backgroundcolor": "#E5ECF6",
            "gridcolor": "white",
            "gridwidth": 2,
            "linecolor": "white",
            "showbackground": true,
            "ticks": "",
            "zerolinecolor": "white"
           },
           "yaxis": {
            "backgroundcolor": "#E5ECF6",
            "gridcolor": "white",
            "gridwidth": 2,
            "linecolor": "white",
            "showbackground": true,
            "ticks": "",
            "zerolinecolor": "white"
           },
           "zaxis": {
            "backgroundcolor": "#E5ECF6",
            "gridcolor": "white",
            "gridwidth": 2,
            "linecolor": "white",
            "showbackground": true,
            "ticks": "",
            "zerolinecolor": "white"
           }
          },
          "shapedefaults": {
           "line": {
            "color": "#2a3f5f"
           }
          },
          "ternary": {
           "aaxis": {
            "gridcolor": "white",
            "linecolor": "white",
            "ticks": ""
           },
           "baxis": {
            "gridcolor": "white",
            "linecolor": "white",
            "ticks": ""
           },
           "bgcolor": "#E5ECF6",
           "caxis": {
            "gridcolor": "white",
            "linecolor": "white",
            "ticks": ""
           }
          },
          "title": {
           "x": 0.05
          },
          "xaxis": {
           "automargin": true,
           "gridcolor": "white",
           "linecolor": "white",
           "ticks": "",
           "title": {
            "standoff": 15
           },
           "zerolinecolor": "white",
           "zerolinewidth": 2
          },
          "yaxis": {
           "automargin": true,
           "gridcolor": "white",
           "linecolor": "white",
           "ticks": "",
           "title": {
            "standoff": 15
           },
           "zerolinecolor": "white",
           "zerolinewidth": 2
          }
         }
        },
        "width": 1000,
        "xaxis": {
         "anchor": "y",
         "domain": [
          0,
          0.2125
         ]
        },
        "xaxis2": {
         "anchor": "y2",
         "domain": [
          0.2625,
          0.475
         ]
        },
        "xaxis3": {
         "anchor": "y3",
         "domain": [
          0.525,
          0.7375
         ]
        },
        "xaxis4": {
         "anchor": "y4",
         "domain": [
          0.7875,
          1
         ]
        },
        "yaxis": {
         "anchor": "x",
         "domain": [
          0,
          1
         ],
         "range": [
          0.23,
          0.46
         ]
        },
        "yaxis2": {
         "anchor": "x2",
         "domain": [
          0,
          1
         ],
         "range": [
          0.23,
          0.46
         ]
        },
        "yaxis3": {
         "anchor": "x3",
         "domain": [
          0,
          1
         ],
         "range": [
          0.23,
          0.46
         ]
        },
        "yaxis4": {
         "anchor": "x4",
         "domain": [
          0,
          1
         ],
         "range": [
          0.23,
          0.46
         ]
        }
       }
      }
     },
     "metadata": {},
     "output_type": "display_data"
    }
   ],
   "source": [
    "md.plot_stacking_scores(st_cv_scores, st_val_scores, mode='mean', items_per_row=4)"
   ]
  },
  {
   "cell_type": "markdown",
   "id": "6f213a0c",
   "metadata": {},
   "source": [
    "## 4. Predictions"
   ]
  },
  {
   "cell_type": "code",
   "execution_count": null,
   "id": "285a1b3c",
   "metadata": {},
   "outputs": [
    {
     "data": {
      "text/html": [
       "<div>\n",
       "<style scoped>\n",
       "    .dataframe tbody tr th:only-of-type {\n",
       "        vertical-align: middle;\n",
       "    }\n",
       "\n",
       "    .dataframe tbody tr th {\n",
       "        vertical-align: top;\n",
       "    }\n",
       "\n",
       "    .dataframe thead th {\n",
       "        text-align: right;\n",
       "    }\n",
       "</style>\n",
       "<table border=\"1\" class=\"dataframe\">\n",
       "  <thead>\n",
       "    <tr style=\"text-align: right;\">\n",
       "      <th></th>\n",
       "      <th>MSSubClass</th>\n",
       "      <th>MSZoning</th>\n",
       "      <th>LotFrontage</th>\n",
       "      <th>LotArea</th>\n",
       "      <th>Street</th>\n",
       "      <th>Alley</th>\n",
       "      <th>LotShape</th>\n",
       "      <th>LandContour</th>\n",
       "      <th>Utilities</th>\n",
       "      <th>LotConfig</th>\n",
       "      <th>...</th>\n",
       "      <th>QualArea</th>\n",
       "      <th>CondArea</th>\n",
       "      <th>HouseAge</th>\n",
       "      <th>RemodAge</th>\n",
       "      <th>HasBasement</th>\n",
       "      <th>HasGarage</th>\n",
       "      <th>HasFireplace</th>\n",
       "      <th>HasPool</th>\n",
       "      <th>Has2ndFloor</th>\n",
       "      <th>SalePrice</th>\n",
       "    </tr>\n",
       "  </thead>\n",
       "  <tbody>\n",
       "    <tr>\n",
       "      <th>0</th>\n",
       "      <td>1.535077</td>\n",
       "      <td>0.38336</td>\n",
       "      <td>-0.171116</td>\n",
       "      <td>-0.139931</td>\n",
       "      <td>0.06426</td>\n",
       "      <td>0.221813</td>\n",
       "      <td>-0.701859</td>\n",
       "      <td>-0.048913</td>\n",
       "      <td>0.026189</td>\n",
       "      <td>-0.344991</td>\n",
       "      <td>...</td>\n",
       "      <td>0.652650</td>\n",
       "      <td>0.216973</td>\n",
       "      <td>-1.044891</td>\n",
       "      <td>-0.871377</td>\n",
       "      <td>0.161308</td>\n",
       "      <td>0.242452</td>\n",
       "      <td>-1.054647</td>\n",
       "      <td>-0.06426</td>\n",
       "      <td>1.147633</td>\n",
       "      <td>0.567607</td>\n",
       "    </tr>\n",
       "    <tr>\n",
       "      <th>1</th>\n",
       "      <td>0.075528</td>\n",
       "      <td>0.38336</td>\n",
       "      <td>0.525038</td>\n",
       "      <td>0.108635</td>\n",
       "      <td>0.06426</td>\n",
       "      <td>0.221813</td>\n",
       "      <td>-0.701859</td>\n",
       "      <td>-0.048913</td>\n",
       "      <td>0.026189</td>\n",
       "      <td>-0.240652</td>\n",
       "      <td>...</td>\n",
       "      <td>-0.268116</td>\n",
       "      <td>0.673706</td>\n",
       "      <td>-0.185118</td>\n",
       "      <td>0.388527</td>\n",
       "      <td>0.161308</td>\n",
       "      <td>0.242452</td>\n",
       "      <td>0.947534</td>\n",
       "      <td>-0.06426</td>\n",
       "      <td>-0.870761</td>\n",
       "      <td>0.223273</td>\n",
       "    </tr>\n",
       "    <tr>\n",
       "      <th>2</th>\n",
       "      <td>1.535077</td>\n",
       "      <td>0.38336</td>\n",
       "      <td>-0.026603</td>\n",
       "      <td>0.419409</td>\n",
       "      <td>0.06426</td>\n",
       "      <td>0.221813</td>\n",
       "      <td>1.026707</td>\n",
       "      <td>-0.048913</td>\n",
       "      <td>0.026189</td>\n",
       "      <td>-0.344991</td>\n",
       "      <td>...</td>\n",
       "      <td>0.744108</td>\n",
       "      <td>0.335535</td>\n",
       "      <td>-0.978754</td>\n",
       "      <td>-0.822919</td>\n",
       "      <td>0.161308</td>\n",
       "      <td>0.242452</td>\n",
       "      <td>0.947534</td>\n",
       "      <td>-0.06426</td>\n",
       "      <td>1.147633</td>\n",
       "      <td>0.739119</td>\n",
       "    </tr>\n",
       "    <tr>\n",
       "      <th>3</th>\n",
       "      <td>-0.405824</td>\n",
       "      <td>0.38336</td>\n",
       "      <td>-0.418713</td>\n",
       "      <td>0.098437</td>\n",
       "      <td>0.06426</td>\n",
       "      <td>0.221813</td>\n",
       "      <td>1.026707</td>\n",
       "      <td>-0.048913</td>\n",
       "      <td>0.026189</td>\n",
       "      <td>0.072737</td>\n",
       "      <td>...</td>\n",
       "      <td>0.661212</td>\n",
       "      <td>0.228083</td>\n",
       "      <td>1.798972</td>\n",
       "      <td>0.630816</td>\n",
       "      <td>0.161308</td>\n",
       "      <td>0.242452</td>\n",
       "      <td>0.947534</td>\n",
       "      <td>-0.06426</td>\n",
       "      <td>1.147633</td>\n",
       "      <td>-0.428381</td>\n",
       "    </tr>\n",
       "    <tr>\n",
       "      <th>4</th>\n",
       "      <td>1.535077</td>\n",
       "      <td>0.38336</td>\n",
       "      <td>0.700609</td>\n",
       "      <td>0.887718</td>\n",
       "      <td>0.06426</td>\n",
       "      <td>0.221813</td>\n",
       "      <td>1.026707</td>\n",
       "      <td>-0.048913</td>\n",
       "      <td>0.026189</td>\n",
       "      <td>-0.240652</td>\n",
       "      <td>...</td>\n",
       "      <td>1.486971</td>\n",
       "      <td>0.910621</td>\n",
       "      <td>-0.945686</td>\n",
       "      <td>-0.726003</td>\n",
       "      <td>0.161308</td>\n",
       "      <td>0.242452</td>\n",
       "      <td>0.947534</td>\n",
       "      <td>-0.06426</td>\n",
       "      <td>1.147633</td>\n",
       "      <td>1.014375</td>\n",
       "    </tr>\n",
       "  </tbody>\n",
       "</table>\n",
       "<p>5 rows × 93 columns</p>\n",
       "</div>"
      ],
      "text/plain": [
       "   MSSubClass  MSZoning  LotFrontage   LotArea   Street     Alley  LotShape  \\\n",
       "0    1.535077   0.38336    -0.171116 -0.139931  0.06426  0.221813 -0.701859   \n",
       "1    0.075528   0.38336     0.525038  0.108635  0.06426  0.221813 -0.701859   \n",
       "2    1.535077   0.38336    -0.026603  0.419409  0.06426  0.221813  1.026707   \n",
       "3   -0.405824   0.38336    -0.418713  0.098437  0.06426  0.221813  1.026707   \n",
       "4    1.535077   0.38336     0.700609  0.887718  0.06426  0.221813  1.026707   \n",
       "\n",
       "   LandContour  Utilities  LotConfig  ...  QualArea  CondArea  HouseAge  \\\n",
       "0    -0.048913   0.026189  -0.344991  ...  0.652650  0.216973 -1.044891   \n",
       "1    -0.048913   0.026189  -0.240652  ... -0.268116  0.673706 -0.185118   \n",
       "2    -0.048913   0.026189  -0.344991  ...  0.744108  0.335535 -0.978754   \n",
       "3    -0.048913   0.026189   0.072737  ...  0.661212  0.228083  1.798972   \n",
       "4    -0.048913   0.026189  -0.240652  ...  1.486971  0.910621 -0.945686   \n",
       "\n",
       "   RemodAge  HasBasement  HasGarage  HasFireplace  HasPool  Has2ndFloor  \\\n",
       "0 -0.871377     0.161308   0.242452     -1.054647 -0.06426     1.147633   \n",
       "1  0.388527     0.161308   0.242452      0.947534 -0.06426    -0.870761   \n",
       "2 -0.822919     0.161308   0.242452      0.947534 -0.06426     1.147633   \n",
       "3  0.630816     0.161308   0.242452      0.947534 -0.06426     1.147633   \n",
       "4 -0.726003     0.161308   0.242452      0.947534 -0.06426     1.147633   \n",
       "\n",
       "   SalePrice  \n",
       "0   0.567607  \n",
       "1   0.223273  \n",
       "2   0.739119  \n",
       "3  -0.428381  \n",
       "4   1.014375  \n",
       "\n",
       "[5 rows x 93 columns]"
      ]
     },
     "execution_count": 28,
     "metadata": {},
     "output_type": "execute_result"
    }
   ],
   "source": [
    "X, y, X_test = dt.load_test_data()"
   ]
  },
  {
   "cell_type": "code",
   "execution_count": 42,
   "id": "5bbed521",
   "metadata": {},
   "outputs": [],
   "source": [
    "n = 50\n",
    "raw_predictions = pd.get_raw_predictions(md.SVR, params['svr'][str(n)], X[features_by_importance[:n]], y, X_test[features_by_importance[:n]])\n",
    "dt.prepare_submission(raw_predictions)"
   ]
  },
  {
   "cell_type": "code",
   "execution_count": 29,
   "id": "4febd283",
   "metadata": {},
   "outputs": [
    {
     "name": "stderr",
     "output_type": "stream",
     "text": [
      "/opt/miniconda3/envs/torch_study/lib/python3.11/site-packages/sklearn/utils/validation.py:2749: UserWarning:\n",
      "\n",
      "X does not have valid feature names, but LGBMRegressor was fitted with feature names\n",
      "\n",
      "/opt/miniconda3/envs/torch_study/lib/python3.11/site-packages/sklearn/utils/validation.py:2749: UserWarning:\n",
      "\n",
      "X does not have valid feature names, but LGBMRegressor was fitted with feature names\n",
      "\n",
      "/opt/miniconda3/envs/torch_study/lib/python3.11/site-packages/sklearn/utils/validation.py:2749: UserWarning:\n",
      "\n",
      "X does not have valid feature names, but LGBMRegressor was fitted with feature names\n",
      "\n",
      "/opt/miniconda3/envs/torch_study/lib/python3.11/site-packages/sklearn/utils/validation.py:2749: UserWarning:\n",
      "\n",
      "X does not have valid feature names, but LGBMRegressor was fitted with feature names\n",
      "\n",
      "/opt/miniconda3/envs/torch_study/lib/python3.11/site-packages/sklearn/utils/validation.py:2749: UserWarning:\n",
      "\n",
      "X does not have valid feature names, but LGBMRegressor was fitted with feature names\n",
      "\n",
      "/opt/miniconda3/envs/torch_study/lib/python3.11/site-packages/sklearn/utils/validation.py:2749: UserWarning:\n",
      "\n",
      "X does not have valid feature names, but LGBMRegressor was fitted with feature names\n",
      "\n"
     ]
    }
   ],
   "source": [
    "from sklearn.svm import SVR\n",
    "from sklearn.linear_model import Lasso, Ridge\n",
    "\n",
    "stack_regressor = md.create_stack_regressor(model_selection, Lasso(alpha=0.0018010627), features_by_importance)\n",
    "stack_regressor.fit(X, y)\n",
    "raw_predictions = stack_regressor.predict(X_test)\n",
    "dt.prepare_submission(raw_predictions)"
   ]
  },
  {
   "cell_type": "code",
   "execution_count": 27,
   "id": "5b8a35fb",
   "metadata": {},
   "outputs": [
    {
     "name": "stderr",
     "output_type": "stream",
     "text": [
      "/opt/miniconda3/envs/torch_study/lib/python3.11/site-packages/sklearn/utils/validation.py:2749: UserWarning:\n",
      "\n",
      "X does not have valid feature names, but LGBMRegressor was fitted with feature names\n",
      "\n",
      "/opt/miniconda3/envs/torch_study/lib/python3.11/site-packages/sklearn/utils/validation.py:2749: UserWarning:\n",
      "\n",
      "X does not have valid feature names, but LGBMRegressor was fitted with feature names\n",
      "\n",
      "/opt/miniconda3/envs/torch_study/lib/python3.11/site-packages/sklearn/utils/validation.py:2749: UserWarning:\n",
      "\n",
      "X does not have valid feature names, but LGBMRegressor was fitted with feature names\n",
      "\n",
      "/opt/miniconda3/envs/torch_study/lib/python3.11/site-packages/sklearn/utils/validation.py:2749: UserWarning:\n",
      "\n",
      "X does not have valid feature names, but LGBMRegressor was fitted with feature names\n",
      "\n",
      "/opt/miniconda3/envs/torch_study/lib/python3.11/site-packages/sklearn/utils/validation.py:2749: UserWarning:\n",
      "\n",
      "X does not have valid feature names, but LGBMRegressor was fitted with feature names\n",
      "\n"
     ]
    },
    {
     "name": "stdout",
     "output_type": "stream",
     "text": [
      "0.2981220750635965\n"
     ]
    },
    {
     "name": "stderr",
     "output_type": "stream",
     "text": [
      "/opt/miniconda3/envs/torch_study/lib/python3.11/site-packages/sklearn/utils/validation.py:2749: UserWarning:\n",
      "\n",
      "X does not have valid feature names, but LGBMRegressor was fitted with feature names\n",
      "\n"
     ]
    }
   ],
   "source": [
    "from sklearn.svm import SVR\n",
    "from sklearn.linear_model import Lasso, Ridge\n",
    "from sklearn.metrics import root_mean_squared_error\n",
    "\n",
    "X_train, X_val, y_train, y_val, full_df = dt.load_train_data()\n",
    "\n",
    "stack_regressor = md.create_stack_regressor(model_selection, Lasso(alpha=0.0018010627), features_by_importance)\n",
    "stack_regressor.fit(X_train, y_train)\n",
    "raw_predictions = stack_regressor.predict(X_val)\n",
    "\n",
    "print(root_mean_squared_error(y_val, raw_predictions))"
   ]
  }
 ],
 "metadata": {
  "kernelspec": {
   "display_name": "torch_study",
   "language": "python",
   "name": "python3"
  },
  "language_info": {
   "codemirror_mode": {
    "name": "ipython",
    "version": 3
   },
   "file_extension": ".py",
   "mimetype": "text/x-python",
   "name": "python",
   "nbconvert_exporter": "python",
   "pygments_lexer": "ipython3",
   "version": "3.11.8"
  }
 },
 "nbformat": 4,
 "nbformat_minor": 5
}
