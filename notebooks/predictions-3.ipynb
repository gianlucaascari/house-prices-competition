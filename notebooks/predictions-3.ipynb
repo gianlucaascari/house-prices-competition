{
 "cells": [
  {
   "cell_type": "code",
   "execution_count": 1,
   "id": "1dca2bbc",
   "metadata": {},
   "outputs": [
    {
     "name": "stderr",
     "output_type": "stream",
     "text": [
      "/opt/miniconda3/envs/torch_study/lib/python3.11/site-packages/tqdm/auto.py:21: TqdmWarning: IProgress not found. Please update jupyter and ipywidgets. See https://ipywidgets.readthedocs.io/en/stable/user_install.html\n",
      "  from .autonotebook import tqdm as notebook_tqdm\n"
     ]
    }
   ],
   "source": [
    "%load_ext autoreload\n",
    "%autoreload 2\n",
    "\n",
    "import sys\n",
    "sys.path.append(\"..\")   # se notebook sta in notebooks/ e src/ è a fianco\n",
    "\n",
    "import src.data as dt\n",
    "import src.models as md\n",
    "import src.features as ft\n",
    "import src.predict as pd\n",
    "import mlflow"
   ]
  },
  {
   "cell_type": "code",
   "execution_count": 17,
   "id": "f84dffa2",
   "metadata": {},
   "outputs": [],
   "source": [
    "(X_train, X_val, y_train, y_val), X, y = dt.load_train_set()"
   ]
  },
  {
   "cell_type": "code",
   "execution_count": 23,
   "id": "85cc3e34",
   "metadata": {},
   "outputs": [],
   "source": [
    "mlflow.set_tracking_uri('http://127.0.0.1:8080')\n",
    "experiment = mlflow.set_experiment('Kaggle_Ames_Housing')\n",
    "\n",
    "data = X.copy()\n",
    "data['SalePrice'] = y\n",
    "dataset = mlflow.data.from_pandas(data, name='1-65_features_z=3_log_target')"
   ]
  },
  {
   "cell_type": "markdown",
   "id": "db9ec6b8",
   "metadata": {},
   "source": [
    "## 2. Feature Importance"
   ]
  },
  {
   "cell_type": "code",
   "execution_count": 19,
   "id": "8115cdb1",
   "metadata": {},
   "outputs": [
    {
     "name": "stdout",
     "output_type": "stream",
     "text": [
      "Values to compute: .\n",
      "(65, 7)\n",
      "65\n"
     ]
    },
    {
     "data": {
      "text/html": [
       "<div>\n",
       "<style scoped>\n",
       "    .dataframe tbody tr th:only-of-type {\n",
       "        vertical-align: middle;\n",
       "    }\n",
       "\n",
       "    .dataframe tbody tr th {\n",
       "        vertical-align: top;\n",
       "    }\n",
       "\n",
       "    .dataframe thead th {\n",
       "        text-align: right;\n",
       "    }\n",
       "</style>\n",
       "<table border=\"1\" class=\"dataframe\">\n",
       "  <thead>\n",
       "    <tr style=\"text-align: right;\">\n",
       "      <th></th>\n",
       "      <th>feature</th>\n",
       "      <th>importance_xgb</th>\n",
       "      <th>importance_ctb</th>\n",
       "      <th>importance_lgb</th>\n",
       "      <th>importance_svr</th>\n",
       "      <th>importance_mlp</th>\n",
       "      <th>importance_knn</th>\n",
       "    </tr>\n",
       "  </thead>\n",
       "  <tbody>\n",
       "    <tr>\n",
       "      <th>33</th>\n",
       "      <td>1stFlrSF</td>\n",
       "      <td>0.036958</td>\n",
       "      <td>0.063832</td>\n",
       "      <td>0.038524</td>\n",
       "      <td>0.063769</td>\n",
       "      <td>0.029519</td>\n",
       "      <td>0.032321</td>\n",
       "    </tr>\n",
       "    <tr>\n",
       "      <th>34</th>\n",
       "      <td>2ndFlrSF</td>\n",
       "      <td>0.020995</td>\n",
       "      <td>0.032143</td>\n",
       "      <td>0.020722</td>\n",
       "      <td>0.062524</td>\n",
       "      <td>0.021373</td>\n",
       "      <td>0.022198</td>\n",
       "    </tr>\n",
       "    <tr>\n",
       "      <th>58</th>\n",
       "      <td>3SsnPorch</td>\n",
       "      <td>0.000000</td>\n",
       "      <td>0.000000</td>\n",
       "      <td>0.000000</td>\n",
       "      <td>0.000000</td>\n",
       "      <td>0.000000</td>\n",
       "      <td>0.000000</td>\n",
       "    </tr>\n",
       "    <tr>\n",
       "      <th>40</th>\n",
       "      <td>BedroomAbvGr</td>\n",
       "      <td>0.005514</td>\n",
       "      <td>0.003014</td>\n",
       "      <td>0.003541</td>\n",
       "      <td>0.000330</td>\n",
       "      <td>0.006322</td>\n",
       "      <td>0.007044</td>\n",
       "    </tr>\n",
       "    <tr>\n",
       "      <th>7</th>\n",
       "      <td>BldgType</td>\n",
       "      <td>0.002980</td>\n",
       "      <td>0.005433</td>\n",
       "      <td>0.001049</td>\n",
       "      <td>0.001794</td>\n",
       "      <td>0.000559</td>\n",
       "      <td>0.006424</td>\n",
       "    </tr>\n",
       "  </tbody>\n",
       "</table>\n",
       "</div>"
      ],
      "text/plain": [
       "         feature  importance_xgb  importance_ctb  importance_lgb  \\\n",
       "33      1stFlrSF        0.036958        0.063832        0.038524   \n",
       "34      2ndFlrSF        0.020995        0.032143        0.020722   \n",
       "58     3SsnPorch        0.000000        0.000000        0.000000   \n",
       "40  BedroomAbvGr        0.005514        0.003014        0.003541   \n",
       "7       BldgType        0.002980        0.005433        0.001049   \n",
       "\n",
       "    importance_svr  importance_mlp  importance_knn  \n",
       "33        0.063769        0.029519        0.032321  \n",
       "34        0.062524        0.021373        0.022198  \n",
       "58        0.000000        0.000000        0.000000  \n",
       "40        0.000330        0.006322        0.007044  \n",
       "7         0.001794        0.000559        0.006424  "
      ]
     },
     "execution_count": 19,
     "metadata": {},
     "output_type": "execute_result"
    }
   ],
   "source": [
    "importance_dfs = ft.get_feature_importances(md.MODELS, X_train, y_train)\n",
    "importance_df = ft.combine_feature_importances(importance_dfs)\n",
    "\n",
    "print(importance_df.shape)\n",
    "print(len(importance_df))\n",
    "importance_df.head()"
   ]
  },
  {
   "cell_type": "code",
   "execution_count": 20,
   "id": "0b845898",
   "metadata": {},
   "outputs": [
    {
     "data": {
      "application/vnd.plotly.v1+json": {
       "config": {
        "plotlyServerURL": "https://plot.ly"
       },
       "data": [
        {
         "alignmentgroup": "True",
         "hovertemplate": "model=xgb<br>feature=%{x}<br>importance=%{y}<extra></extra>",
         "legendgroup": "xgb",
         "marker": {
          "color": "#636efa",
          "pattern": {
           "shape": ""
          }
         },
         "name": "xgb",
         "offsetgroup": "xgb",
         "orientation": "v",
         "showlegend": true,
         "textposition": "auto",
         "type": "bar",
         "x": [
          "OverallQual",
          "GrLivArea",
          "Neighborhood",
          "YearBuilt",
          "TotalBsmtSF",
          "BsmtFinSF1",
          "1stFlrSF",
          "GarageArea",
          "GarageCars",
          "OverallCond",
          "2ndFlrSF",
          "LotArea",
          "MSZoning",
          "SaleCondition",
          "FireplaceQu"
         ],
         "xaxis": "x",
         "y": {
          "bdata": "A7CmV2951T/WrzIiagXMP0Ap//+kRr8/SfESGMKctz+U8v9PatS0P2bXYlwWuK0/vsJh7Rjsoj9bHQjin8avPwh/vOCeqqE/jIqOnR2UoD+8L9Gay3+VP4a+BSNAl6E/66UfkCgNfT8UuSQq+36PP4BX6qpXyYM/",
          "dtype": "f8"
         },
         "yaxis": "y"
        },
        {
         "alignmentgroup": "True",
         "hovertemplate": "model=ctb<br>feature=%{x}<br>importance=%{y}<extra></extra>",
         "legendgroup": "ctb",
         "marker": {
          "color": "#EF553B",
          "pattern": {
           "shape": ""
          }
         },
         "name": "ctb",
         "offsetgroup": "ctb",
         "orientation": "v",
         "showlegend": true,
         "textposition": "auto",
         "type": "bar",
         "x": [
          "OverallQual",
          "GrLivArea",
          "Neighborhood",
          "YearBuilt",
          "TotalBsmtSF",
          "BsmtFinSF1",
          "1stFlrSF",
          "GarageArea",
          "GarageCars",
          "OverallCond",
          "2ndFlrSF",
          "LotArea",
          "MSZoning",
          "SaleCondition",
          "FireplaceQu"
         ],
         "xaxis": "x",
         "y": {
          "bdata": "636NFkaAuz8REzKPavDGPwl5DPgb+6s/qzG/ePf5rj8TyzzDLxOzP1nXFRJfqas/B3tCq01XsD9vcdJuFAqnP2Bb44cdb58/rJmUtk7QpT/Gsl3BG3WgP1osGsiR7Kk/XCnplauFoD+YeIQQuDGbP4KxC+NZmqU/",
          "dtype": "f8"
         },
         "yaxis": "y"
        },
        {
         "alignmentgroup": "True",
         "hovertemplate": "model=lgb<br>feature=%{x}<br>importance=%{y}<extra></extra>",
         "legendgroup": "lgb",
         "marker": {
          "color": "#00cc96",
          "pattern": {
           "shape": ""
          }
         },
         "name": "lgb",
         "offsetgroup": "lgb",
         "orientation": "v",
         "showlegend": true,
         "textposition": "auto",
         "type": "bar",
         "x": [
          "OverallQual",
          "GrLivArea",
          "Neighborhood",
          "YearBuilt",
          "TotalBsmtSF",
          "BsmtFinSF1",
          "1stFlrSF",
          "GarageArea",
          "GarageCars",
          "OverallCond",
          "2ndFlrSF",
          "LotArea",
          "MSZoning",
          "SaleCondition",
          "FireplaceQu"
         ],
         "xaxis": "x",
         "y": {
          "bdata": "TGYJNG0Z0z9UOWWhmbLOP8/XC+h5WMA/gJlQsI7Ttz/VQ+FY0W2zP1muP3huh6c/xC/vP2m5oz+Bx0C7KeyjP5dv26iDZaM/wP6EEb+8oj/vl2I4DDiVPyrQStE0Apk/LGwyHTWYfj9zX3HUnUaaPz7TXW7L66A/",
          "dtype": "f8"
         },
         "yaxis": "y"
        },
        {
         "alignmentgroup": "True",
         "hovertemplate": "model=svr<br>feature=%{x}<br>importance=%{y}<extra></extra>",
         "legendgroup": "svr",
         "marker": {
          "color": "#ab63fa",
          "pattern": {
           "shape": ""
          }
         },
         "name": "svr",
         "offsetgroup": "svr",
         "orientation": "v",
         "showlegend": true,
         "textposition": "auto",
         "type": "bar",
         "x": [
          "OverallQual",
          "GrLivArea",
          "Neighborhood",
          "YearBuilt",
          "TotalBsmtSF",
          "BsmtFinSF1",
          "1stFlrSF",
          "GarageArea",
          "GarageCars",
          "OverallCond",
          "2ndFlrSF",
          "LotArea",
          "MSZoning",
          "SaleCondition",
          "FireplaceQu"
         ],
         "xaxis": "x",
         "y": {
          "bdata": "gAztovkCtz8SzIw4Ke++P8HHyIKeYKs/nGvHGFWDpD/sGo72rFCtP1m7/8wKbqE/iWNGaSpTsD8YKYPQYWuMP6/elLc2NqM/IaxLCzmloT+cXWGUjwGwPz7cPY3j7Jk/WbZnlMHXpj8YSEByiR6bP5yVxRakd1g/",
          "dtype": "f8"
         },
         "yaxis": "y"
        },
        {
         "alignmentgroup": "True",
         "hovertemplate": "model=mlp<br>feature=%{x}<br>importance=%{y}<extra></extra>",
         "legendgroup": "mlp",
         "marker": {
          "color": "#FFA15A",
          "pattern": {
           "shape": ""
          }
         },
         "name": "mlp",
         "offsetgroup": "mlp",
         "orientation": "v",
         "showlegend": true,
         "textposition": "auto",
         "type": "bar",
         "x": [
          "OverallQual",
          "GrLivArea",
          "Neighborhood",
          "YearBuilt",
          "TotalBsmtSF",
          "BsmtFinSF1",
          "1stFlrSF",
          "GarageArea",
          "GarageCars",
          "OverallCond",
          "2ndFlrSF",
          "LotArea",
          "MSZoning",
          "SaleCondition",
          "FireplaceQu"
         ],
         "xaxis": "x",
         "y": {
          "bdata": "1MmLlCfBtD+F3VT/vGvAP5YrmuU+05w/e0mplmI3tT9AHvmjoSZXP6nP7Fduirc/ZWXoohs6nj+POZbt2eWUP+sTUme4e6E/LbkuV7ATpj91Wi/01uKVP16QwbYRC4Y//L7tSqbpmT9ivQeLeKqTP07GZ0YB4ZE/",
          "dtype": "f8"
         },
         "yaxis": "y"
        },
        {
         "alignmentgroup": "True",
         "hovertemplate": "model=knn<br>feature=%{x}<br>importance=%{y}<extra></extra>",
         "legendgroup": "knn",
         "marker": {
          "color": "#19d3f3",
          "pattern": {
           "shape": ""
          }
         },
         "name": "knn",
         "offsetgroup": "knn",
         "orientation": "v",
         "showlegend": true,
         "textposition": "auto",
         "type": "bar",
         "x": [
          "OverallQual",
          "GrLivArea",
          "Neighborhood",
          "YearBuilt",
          "TotalBsmtSF",
          "BsmtFinSF1",
          "1stFlrSF",
          "GarageArea",
          "GarageCars",
          "OverallCond",
          "2ndFlrSF",
          "LotArea",
          "MSZoning",
          "SaleCondition",
          "FireplaceQu"
         ],
         "xaxis": "x",
         "y": {
          "bdata": "AOn7VdbGpT9o/HapqkOqP+XdfA4oQ5k/PWypiUKPiz8+wpMSFOeXP0H6IBy8PZA/Z+EhmVGMoD8haEEMwHuZP8Xo2zwV7J4/LnuMMI0Zcj80lUIJAbuWP1PpqzHiC3Y/KOIX6MZZjT9IX0M8C06EP6dOeKSA1IY/",
          "dtype": "f8"
         },
         "yaxis": "y"
        }
       ],
       "layout": {
        "barmode": "group",
        "legend": {
         "title": {
          "text": "model"
         },
         "tracegroupgap": 0
        },
        "margin": {
         "t": 60
        },
        "template": {
         "data": {
          "bar": [
           {
            "error_x": {
             "color": "#2a3f5f"
            },
            "error_y": {
             "color": "#2a3f5f"
            },
            "marker": {
             "line": {
              "color": "#E5ECF6",
              "width": 0.5
             },
             "pattern": {
              "fillmode": "overlay",
              "size": 10,
              "solidity": 0.2
             }
            },
            "type": "bar"
           }
          ],
          "barpolar": [
           {
            "marker": {
             "line": {
              "color": "#E5ECF6",
              "width": 0.5
             },
             "pattern": {
              "fillmode": "overlay",
              "size": 10,
              "solidity": 0.2
             }
            },
            "type": "barpolar"
           }
          ],
          "carpet": [
           {
            "aaxis": {
             "endlinecolor": "#2a3f5f",
             "gridcolor": "white",
             "linecolor": "white",
             "minorgridcolor": "white",
             "startlinecolor": "#2a3f5f"
            },
            "baxis": {
             "endlinecolor": "#2a3f5f",
             "gridcolor": "white",
             "linecolor": "white",
             "minorgridcolor": "white",
             "startlinecolor": "#2a3f5f"
            },
            "type": "carpet"
           }
          ],
          "choropleth": [
           {
            "colorbar": {
             "outlinewidth": 0,
             "ticks": ""
            },
            "type": "choropleth"
           }
          ],
          "contour": [
           {
            "colorbar": {
             "outlinewidth": 0,
             "ticks": ""
            },
            "colorscale": [
             [
              0,
              "#0d0887"
             ],
             [
              0.1111111111111111,
              "#46039f"
             ],
             [
              0.2222222222222222,
              "#7201a8"
             ],
             [
              0.3333333333333333,
              "#9c179e"
             ],
             [
              0.4444444444444444,
              "#bd3786"
             ],
             [
              0.5555555555555556,
              "#d8576b"
             ],
             [
              0.6666666666666666,
              "#ed7953"
             ],
             [
              0.7777777777777778,
              "#fb9f3a"
             ],
             [
              0.8888888888888888,
              "#fdca26"
             ],
             [
              1,
              "#f0f921"
             ]
            ],
            "type": "contour"
           }
          ],
          "contourcarpet": [
           {
            "colorbar": {
             "outlinewidth": 0,
             "ticks": ""
            },
            "type": "contourcarpet"
           }
          ],
          "heatmap": [
           {
            "colorbar": {
             "outlinewidth": 0,
             "ticks": ""
            },
            "colorscale": [
             [
              0,
              "#0d0887"
             ],
             [
              0.1111111111111111,
              "#46039f"
             ],
             [
              0.2222222222222222,
              "#7201a8"
             ],
             [
              0.3333333333333333,
              "#9c179e"
             ],
             [
              0.4444444444444444,
              "#bd3786"
             ],
             [
              0.5555555555555556,
              "#d8576b"
             ],
             [
              0.6666666666666666,
              "#ed7953"
             ],
             [
              0.7777777777777778,
              "#fb9f3a"
             ],
             [
              0.8888888888888888,
              "#fdca26"
             ],
             [
              1,
              "#f0f921"
             ]
            ],
            "type": "heatmap"
           }
          ],
          "histogram": [
           {
            "marker": {
             "pattern": {
              "fillmode": "overlay",
              "size": 10,
              "solidity": 0.2
             }
            },
            "type": "histogram"
           }
          ],
          "histogram2d": [
           {
            "colorbar": {
             "outlinewidth": 0,
             "ticks": ""
            },
            "colorscale": [
             [
              0,
              "#0d0887"
             ],
             [
              0.1111111111111111,
              "#46039f"
             ],
             [
              0.2222222222222222,
              "#7201a8"
             ],
             [
              0.3333333333333333,
              "#9c179e"
             ],
             [
              0.4444444444444444,
              "#bd3786"
             ],
             [
              0.5555555555555556,
              "#d8576b"
             ],
             [
              0.6666666666666666,
              "#ed7953"
             ],
             [
              0.7777777777777778,
              "#fb9f3a"
             ],
             [
              0.8888888888888888,
              "#fdca26"
             ],
             [
              1,
              "#f0f921"
             ]
            ],
            "type": "histogram2d"
           }
          ],
          "histogram2dcontour": [
           {
            "colorbar": {
             "outlinewidth": 0,
             "ticks": ""
            },
            "colorscale": [
             [
              0,
              "#0d0887"
             ],
             [
              0.1111111111111111,
              "#46039f"
             ],
             [
              0.2222222222222222,
              "#7201a8"
             ],
             [
              0.3333333333333333,
              "#9c179e"
             ],
             [
              0.4444444444444444,
              "#bd3786"
             ],
             [
              0.5555555555555556,
              "#d8576b"
             ],
             [
              0.6666666666666666,
              "#ed7953"
             ],
             [
              0.7777777777777778,
              "#fb9f3a"
             ],
             [
              0.8888888888888888,
              "#fdca26"
             ],
             [
              1,
              "#f0f921"
             ]
            ],
            "type": "histogram2dcontour"
           }
          ],
          "mesh3d": [
           {
            "colorbar": {
             "outlinewidth": 0,
             "ticks": ""
            },
            "type": "mesh3d"
           }
          ],
          "parcoords": [
           {
            "line": {
             "colorbar": {
              "outlinewidth": 0,
              "ticks": ""
             }
            },
            "type": "parcoords"
           }
          ],
          "pie": [
           {
            "automargin": true,
            "type": "pie"
           }
          ],
          "scatter": [
           {
            "fillpattern": {
             "fillmode": "overlay",
             "size": 10,
             "solidity": 0.2
            },
            "type": "scatter"
           }
          ],
          "scatter3d": [
           {
            "line": {
             "colorbar": {
              "outlinewidth": 0,
              "ticks": ""
             }
            },
            "marker": {
             "colorbar": {
              "outlinewidth": 0,
              "ticks": ""
             }
            },
            "type": "scatter3d"
           }
          ],
          "scattercarpet": [
           {
            "marker": {
             "colorbar": {
              "outlinewidth": 0,
              "ticks": ""
             }
            },
            "type": "scattercarpet"
           }
          ],
          "scattergeo": [
           {
            "marker": {
             "colorbar": {
              "outlinewidth": 0,
              "ticks": ""
             }
            },
            "type": "scattergeo"
           }
          ],
          "scattergl": [
           {
            "marker": {
             "colorbar": {
              "outlinewidth": 0,
              "ticks": ""
             }
            },
            "type": "scattergl"
           }
          ],
          "scattermap": [
           {
            "marker": {
             "colorbar": {
              "outlinewidth": 0,
              "ticks": ""
             }
            },
            "type": "scattermap"
           }
          ],
          "scattermapbox": [
           {
            "marker": {
             "colorbar": {
              "outlinewidth": 0,
              "ticks": ""
             }
            },
            "type": "scattermapbox"
           }
          ],
          "scatterpolar": [
           {
            "marker": {
             "colorbar": {
              "outlinewidth": 0,
              "ticks": ""
             }
            },
            "type": "scatterpolar"
           }
          ],
          "scatterpolargl": [
           {
            "marker": {
             "colorbar": {
              "outlinewidth": 0,
              "ticks": ""
             }
            },
            "type": "scatterpolargl"
           }
          ],
          "scatterternary": [
           {
            "marker": {
             "colorbar": {
              "outlinewidth": 0,
              "ticks": ""
             }
            },
            "type": "scatterternary"
           }
          ],
          "surface": [
           {
            "colorbar": {
             "outlinewidth": 0,
             "ticks": ""
            },
            "colorscale": [
             [
              0,
              "#0d0887"
             ],
             [
              0.1111111111111111,
              "#46039f"
             ],
             [
              0.2222222222222222,
              "#7201a8"
             ],
             [
              0.3333333333333333,
              "#9c179e"
             ],
             [
              0.4444444444444444,
              "#bd3786"
             ],
             [
              0.5555555555555556,
              "#d8576b"
             ],
             [
              0.6666666666666666,
              "#ed7953"
             ],
             [
              0.7777777777777778,
              "#fb9f3a"
             ],
             [
              0.8888888888888888,
              "#fdca26"
             ],
             [
              1,
              "#f0f921"
             ]
            ],
            "type": "surface"
           }
          ],
          "table": [
           {
            "cells": {
             "fill": {
              "color": "#EBF0F8"
             },
             "line": {
              "color": "white"
             }
            },
            "header": {
             "fill": {
              "color": "#C8D4E3"
             },
             "line": {
              "color": "white"
             }
            },
            "type": "table"
           }
          ]
         },
         "layout": {
          "annotationdefaults": {
           "arrowcolor": "#2a3f5f",
           "arrowhead": 0,
           "arrowwidth": 1
          },
          "autotypenumbers": "strict",
          "coloraxis": {
           "colorbar": {
            "outlinewidth": 0,
            "ticks": ""
           }
          },
          "colorscale": {
           "diverging": [
            [
             0,
             "#8e0152"
            ],
            [
             0.1,
             "#c51b7d"
            ],
            [
             0.2,
             "#de77ae"
            ],
            [
             0.3,
             "#f1b6da"
            ],
            [
             0.4,
             "#fde0ef"
            ],
            [
             0.5,
             "#f7f7f7"
            ],
            [
             0.6,
             "#e6f5d0"
            ],
            [
             0.7,
             "#b8e186"
            ],
            [
             0.8,
             "#7fbc41"
            ],
            [
             0.9,
             "#4d9221"
            ],
            [
             1,
             "#276419"
            ]
           ],
           "sequential": [
            [
             0,
             "#0d0887"
            ],
            [
             0.1111111111111111,
             "#46039f"
            ],
            [
             0.2222222222222222,
             "#7201a8"
            ],
            [
             0.3333333333333333,
             "#9c179e"
            ],
            [
             0.4444444444444444,
             "#bd3786"
            ],
            [
             0.5555555555555556,
             "#d8576b"
            ],
            [
             0.6666666666666666,
             "#ed7953"
            ],
            [
             0.7777777777777778,
             "#fb9f3a"
            ],
            [
             0.8888888888888888,
             "#fdca26"
            ],
            [
             1,
             "#f0f921"
            ]
           ],
           "sequentialminus": [
            [
             0,
             "#0d0887"
            ],
            [
             0.1111111111111111,
             "#46039f"
            ],
            [
             0.2222222222222222,
             "#7201a8"
            ],
            [
             0.3333333333333333,
             "#9c179e"
            ],
            [
             0.4444444444444444,
             "#bd3786"
            ],
            [
             0.5555555555555556,
             "#d8576b"
            ],
            [
             0.6666666666666666,
             "#ed7953"
            ],
            [
             0.7777777777777778,
             "#fb9f3a"
            ],
            [
             0.8888888888888888,
             "#fdca26"
            ],
            [
             1,
             "#f0f921"
            ]
           ]
          },
          "colorway": [
           "#636efa",
           "#EF553B",
           "#00cc96",
           "#ab63fa",
           "#FFA15A",
           "#19d3f3",
           "#FF6692",
           "#B6E880",
           "#FF97FF",
           "#FECB52"
          ],
          "font": {
           "color": "#2a3f5f"
          },
          "geo": {
           "bgcolor": "white",
           "lakecolor": "white",
           "landcolor": "#E5ECF6",
           "showlakes": true,
           "showland": true,
           "subunitcolor": "white"
          },
          "hoverlabel": {
           "align": "left"
          },
          "hovermode": "closest",
          "mapbox": {
           "style": "light"
          },
          "paper_bgcolor": "white",
          "plot_bgcolor": "#E5ECF6",
          "polar": {
           "angularaxis": {
            "gridcolor": "white",
            "linecolor": "white",
            "ticks": ""
           },
           "bgcolor": "#E5ECF6",
           "radialaxis": {
            "gridcolor": "white",
            "linecolor": "white",
            "ticks": ""
           }
          },
          "scene": {
           "xaxis": {
            "backgroundcolor": "#E5ECF6",
            "gridcolor": "white",
            "gridwidth": 2,
            "linecolor": "white",
            "showbackground": true,
            "ticks": "",
            "zerolinecolor": "white"
           },
           "yaxis": {
            "backgroundcolor": "#E5ECF6",
            "gridcolor": "white",
            "gridwidth": 2,
            "linecolor": "white",
            "showbackground": true,
            "ticks": "",
            "zerolinecolor": "white"
           },
           "zaxis": {
            "backgroundcolor": "#E5ECF6",
            "gridcolor": "white",
            "gridwidth": 2,
            "linecolor": "white",
            "showbackground": true,
            "ticks": "",
            "zerolinecolor": "white"
           }
          },
          "shapedefaults": {
           "line": {
            "color": "#2a3f5f"
           }
          },
          "ternary": {
           "aaxis": {
            "gridcolor": "white",
            "linecolor": "white",
            "ticks": ""
           },
           "baxis": {
            "gridcolor": "white",
            "linecolor": "white",
            "ticks": ""
           },
           "bgcolor": "#E5ECF6",
           "caxis": {
            "gridcolor": "white",
            "linecolor": "white",
            "ticks": ""
           }
          },
          "title": {
           "x": 0.05
          },
          "xaxis": {
           "automargin": true,
           "gridcolor": "white",
           "linecolor": "white",
           "ticks": "",
           "title": {
            "standoff": 15
           },
           "zerolinecolor": "white",
           "zerolinewidth": 2
          },
          "yaxis": {
           "automargin": true,
           "gridcolor": "white",
           "linecolor": "white",
           "ticks": "",
           "title": {
            "standoff": 15
           },
           "zerolinecolor": "white",
           "zerolinewidth": 2
          }
         }
        },
        "xaxis": {
         "anchor": "y",
         "domain": [
          0,
          1
         ],
         "title": {
          "text": "feature"
         }
        },
        "yaxis": {
         "anchor": "x",
         "domain": [
          0,
          1
         ],
         "title": {
          "text": "importance"
         }
        }
       }
      }
     },
     "metadata": {},
     "output_type": "display_data"
    },
    {
     "data": {
      "application/vnd.plotly.v1+json": {
       "config": {
        "plotlyServerURL": "https://plot.ly"
       },
       "data": [
        {
         "alignmentgroup": "True",
         "hovertemplate": "model=xgb<br>feature=%{x}<br>rank=%{y}<extra></extra>",
         "legendgroup": "xgb",
         "marker": {
          "color": "#636efa",
          "pattern": {
           "shape": ""
          }
         },
         "name": "xgb",
         "offsetgroup": "xgb",
         "orientation": "v",
         "showlegend": true,
         "textposition": "auto",
         "type": "bar",
         "x": [
          "GrLivArea",
          "OverallQual",
          "1stFlrSF",
          "Neighborhood",
          "YearBuilt",
          "BsmtFinSF1",
          "GarageCars",
          "GarageArea",
          "2ndFlrSF",
          "TotalBsmtSF",
          "OverallCond",
          "LotArea",
          "CentralAir",
          "SaleCondition",
          "MSZoning"
         ],
         "xaxis": "x",
         "y": {
          "bdata": "AAAAAAAAAEAAAAAAAADwPwAAAAAAACBAAAAAAAAACEAAAAAAAAAQQAAAAAAAABxAAAAAAAAAIkAAAAAAAAAYQAAAAAAAACxAAAAAAAAAFEAAAAAAAAAmQAAAAAAAACRAAAAAAAAAKkAAAAAAAAA1QAAAAAAAAEFA",
          "dtype": "f8"
         },
         "yaxis": "y"
        },
        {
         "alignmentgroup": "True",
         "hovertemplate": "model=ctb<br>feature=%{x}<br>rank=%{y}<extra></extra>",
         "legendgroup": "ctb",
         "marker": {
          "color": "#EF553B",
          "pattern": {
           "shape": ""
          }
         },
         "name": "ctb",
         "offsetgroup": "ctb",
         "orientation": "v",
         "showlegend": true,
         "textposition": "auto",
         "type": "bar",
         "x": [
          "GrLivArea",
          "OverallQual",
          "1stFlrSF",
          "Neighborhood",
          "YearBuilt",
          "BsmtFinSF1",
          "GarageCars",
          "GarageArea",
          "2ndFlrSF",
          "TotalBsmtSF",
          "OverallCond",
          "LotArea",
          "CentralAir",
          "SaleCondition",
          "MSZoning"
         ],
         "xaxis": "x",
         "y": {
          "bdata": "AAAAAAAA8D8AAAAAAAAAQAAAAAAAABBAAAAAAAAAGEAAAAAAAAAUQAAAAAAAABxAAAAAAAAANUAAAAAAAAAkQAAAAAAAADJAAAAAAAAACEAAAAAAAAAmQAAAAAAAACBAAAAAAAAAO0AAAAAAAAA3QAAAAAAAADFA",
          "dtype": "f8"
         },
         "yaxis": "y"
        },
        {
         "alignmentgroup": "True",
         "hovertemplate": "model=lgb<br>feature=%{x}<br>rank=%{y}<extra></extra>",
         "legendgroup": "lgb",
         "marker": {
          "color": "#00cc96",
          "pattern": {
           "shape": ""
          }
         },
         "name": "lgb",
         "offsetgroup": "lgb",
         "orientation": "v",
         "showlegend": true,
         "textposition": "auto",
         "type": "bar",
         "x": [
          "GrLivArea",
          "OverallQual",
          "1stFlrSF",
          "Neighborhood",
          "YearBuilt",
          "BsmtFinSF1",
          "GarageCars",
          "GarageArea",
          "2ndFlrSF",
          "TotalBsmtSF",
          "OverallCond",
          "LotArea",
          "CentralAir",
          "SaleCondition",
          "MSZoning"
         ],
         "xaxis": "x",
         "y": {
          "bdata": "AAAAAAAAAEAAAAAAAADwPwAAAAAAACBAAAAAAAAACEAAAAAAAAAQQAAAAAAAABhAAAAAAAAAIkAAAAAAAAAcQAAAAAAAADFAAAAAAAAAFEAAAAAAAAAkQAAAAAAAAC5AAAAAAAAAKkAAAAAAAAAsQAAAAAAAAEBA",
          "dtype": "f8"
         },
         "yaxis": "y"
        },
        {
         "alignmentgroup": "True",
         "hovertemplate": "model=svr<br>feature=%{x}<br>rank=%{y}<extra></extra>",
         "legendgroup": "svr",
         "marker": {
          "color": "#ab63fa",
          "pattern": {
           "shape": ""
          }
         },
         "name": "svr",
         "offsetgroup": "svr",
         "orientation": "v",
         "showlegend": true,
         "textposition": "auto",
         "type": "bar",
         "x": [
          "GrLivArea",
          "OverallQual",
          "1stFlrSF",
          "Neighborhood",
          "YearBuilt",
          "BsmtFinSF1",
          "GarageCars",
          "GarageArea",
          "2ndFlrSF",
          "TotalBsmtSF",
          "OverallCond",
          "LotArea",
          "CentralAir",
          "SaleCondition",
          "MSZoning"
         ],
         "xaxis": "x",
         "y": {
          "bdata": "AAAAAAAA8D8AAAAAAAAAQAAAAAAAAAhAAAAAAAAAGEAAAAAAAAAgQAAAAAAAACZAAAAAAAAAIkAAAAAAAAAxQAAAAAAAABBAAAAAAAAAFEAAAAAAAAAkQAAAAAAAACxAAAAAAAAAMkAAAAAAAAAqQAAAAAAAABxA",
          "dtype": "f8"
         },
         "yaxis": "y"
        },
        {
         "alignmentgroup": "True",
         "hovertemplate": "model=mlp<br>feature=%{x}<br>rank=%{y}<extra></extra>",
         "legendgroup": "mlp",
         "marker": {
          "color": "#FFA15A",
          "pattern": {
           "shape": ""
          }
         },
         "name": "mlp",
         "offsetgroup": "mlp",
         "orientation": "v",
         "showlegend": true,
         "textposition": "auto",
         "type": "bar",
         "x": [
          "GrLivArea",
          "OverallQual",
          "1stFlrSF",
          "Neighborhood",
          "YearBuilt",
          "BsmtFinSF1",
          "GarageCars",
          "GarageArea",
          "2ndFlrSF",
          "TotalBsmtSF",
          "OverallCond",
          "LotArea",
          "CentralAir",
          "SaleCondition",
          "MSZoning"
         ],
         "xaxis": "x",
         "y": {
          "bdata": "AAAAAAAA8D8AAAAAAAAQQAAAAAAAACJAAAAAAAAAJEAAAAAAAAAIQAAAAAAAAABAAAAAAAAAIEAAAAAAAAAxQAAAAAAAACxAAAAAAACATUAAAAAAAAAUQAAAAAAAADlAAAAAAAAAPEAAAAAAAAAyQAAAAAAAACZA",
          "dtype": "f8"
         },
         "yaxis": "y"
        },
        {
         "alignmentgroup": "True",
         "hovertemplate": "model=knn<br>feature=%{x}<br>rank=%{y}<extra></extra>",
         "legendgroup": "knn",
         "marker": {
          "color": "#19d3f3",
          "pattern": {
           "shape": ""
          }
         },
         "name": "knn",
         "offsetgroup": "knn",
         "orientation": "v",
         "showlegend": true,
         "textposition": "auto",
         "type": "bar",
         "x": [
          "GrLivArea",
          "OverallQual",
          "1stFlrSF",
          "Neighborhood",
          "YearBuilt",
          "BsmtFinSF1",
          "GarageCars",
          "GarageArea",
          "2ndFlrSF",
          "TotalBsmtSF",
          "OverallCond",
          "LotArea",
          "CentralAir",
          "SaleCondition",
          "MSZoning"
         ],
         "xaxis": "x",
         "y": {
          "bdata": "AAAAAAAA8D8AAAAAAAAAQAAAAAAAABRAAAAAAAAAKEAAAAAAAAA4QAAAAAAAADJAAAAAAAAAGEAAAAAAAAAmQAAAAAAAACxAAAAAAAAAKkAAAAAAAABJQAAAAAAAgEdAAAAAAAAANUAAAAAAAAA/QAAAAAAAADZA",
          "dtype": "f8"
         },
         "yaxis": "y"
        }
       ],
       "layout": {
        "barmode": "group",
        "legend": {
         "title": {
          "text": "model"
         },
         "tracegroupgap": 0
        },
        "margin": {
         "t": 60
        },
        "template": {
         "data": {
          "bar": [
           {
            "error_x": {
             "color": "#2a3f5f"
            },
            "error_y": {
             "color": "#2a3f5f"
            },
            "marker": {
             "line": {
              "color": "#E5ECF6",
              "width": 0.5
             },
             "pattern": {
              "fillmode": "overlay",
              "size": 10,
              "solidity": 0.2
             }
            },
            "type": "bar"
           }
          ],
          "barpolar": [
           {
            "marker": {
             "line": {
              "color": "#E5ECF6",
              "width": 0.5
             },
             "pattern": {
              "fillmode": "overlay",
              "size": 10,
              "solidity": 0.2
             }
            },
            "type": "barpolar"
           }
          ],
          "carpet": [
           {
            "aaxis": {
             "endlinecolor": "#2a3f5f",
             "gridcolor": "white",
             "linecolor": "white",
             "minorgridcolor": "white",
             "startlinecolor": "#2a3f5f"
            },
            "baxis": {
             "endlinecolor": "#2a3f5f",
             "gridcolor": "white",
             "linecolor": "white",
             "minorgridcolor": "white",
             "startlinecolor": "#2a3f5f"
            },
            "type": "carpet"
           }
          ],
          "choropleth": [
           {
            "colorbar": {
             "outlinewidth": 0,
             "ticks": ""
            },
            "type": "choropleth"
           }
          ],
          "contour": [
           {
            "colorbar": {
             "outlinewidth": 0,
             "ticks": ""
            },
            "colorscale": [
             [
              0,
              "#0d0887"
             ],
             [
              0.1111111111111111,
              "#46039f"
             ],
             [
              0.2222222222222222,
              "#7201a8"
             ],
             [
              0.3333333333333333,
              "#9c179e"
             ],
             [
              0.4444444444444444,
              "#bd3786"
             ],
             [
              0.5555555555555556,
              "#d8576b"
             ],
             [
              0.6666666666666666,
              "#ed7953"
             ],
             [
              0.7777777777777778,
              "#fb9f3a"
             ],
             [
              0.8888888888888888,
              "#fdca26"
             ],
             [
              1,
              "#f0f921"
             ]
            ],
            "type": "contour"
           }
          ],
          "contourcarpet": [
           {
            "colorbar": {
             "outlinewidth": 0,
             "ticks": ""
            },
            "type": "contourcarpet"
           }
          ],
          "heatmap": [
           {
            "colorbar": {
             "outlinewidth": 0,
             "ticks": ""
            },
            "colorscale": [
             [
              0,
              "#0d0887"
             ],
             [
              0.1111111111111111,
              "#46039f"
             ],
             [
              0.2222222222222222,
              "#7201a8"
             ],
             [
              0.3333333333333333,
              "#9c179e"
             ],
             [
              0.4444444444444444,
              "#bd3786"
             ],
             [
              0.5555555555555556,
              "#d8576b"
             ],
             [
              0.6666666666666666,
              "#ed7953"
             ],
             [
              0.7777777777777778,
              "#fb9f3a"
             ],
             [
              0.8888888888888888,
              "#fdca26"
             ],
             [
              1,
              "#f0f921"
             ]
            ],
            "type": "heatmap"
           }
          ],
          "histogram": [
           {
            "marker": {
             "pattern": {
              "fillmode": "overlay",
              "size": 10,
              "solidity": 0.2
             }
            },
            "type": "histogram"
           }
          ],
          "histogram2d": [
           {
            "colorbar": {
             "outlinewidth": 0,
             "ticks": ""
            },
            "colorscale": [
             [
              0,
              "#0d0887"
             ],
             [
              0.1111111111111111,
              "#46039f"
             ],
             [
              0.2222222222222222,
              "#7201a8"
             ],
             [
              0.3333333333333333,
              "#9c179e"
             ],
             [
              0.4444444444444444,
              "#bd3786"
             ],
             [
              0.5555555555555556,
              "#d8576b"
             ],
             [
              0.6666666666666666,
              "#ed7953"
             ],
             [
              0.7777777777777778,
              "#fb9f3a"
             ],
             [
              0.8888888888888888,
              "#fdca26"
             ],
             [
              1,
              "#f0f921"
             ]
            ],
            "type": "histogram2d"
           }
          ],
          "histogram2dcontour": [
           {
            "colorbar": {
             "outlinewidth": 0,
             "ticks": ""
            },
            "colorscale": [
             [
              0,
              "#0d0887"
             ],
             [
              0.1111111111111111,
              "#46039f"
             ],
             [
              0.2222222222222222,
              "#7201a8"
             ],
             [
              0.3333333333333333,
              "#9c179e"
             ],
             [
              0.4444444444444444,
              "#bd3786"
             ],
             [
              0.5555555555555556,
              "#d8576b"
             ],
             [
              0.6666666666666666,
              "#ed7953"
             ],
             [
              0.7777777777777778,
              "#fb9f3a"
             ],
             [
              0.8888888888888888,
              "#fdca26"
             ],
             [
              1,
              "#f0f921"
             ]
            ],
            "type": "histogram2dcontour"
           }
          ],
          "mesh3d": [
           {
            "colorbar": {
             "outlinewidth": 0,
             "ticks": ""
            },
            "type": "mesh3d"
           }
          ],
          "parcoords": [
           {
            "line": {
             "colorbar": {
              "outlinewidth": 0,
              "ticks": ""
             }
            },
            "type": "parcoords"
           }
          ],
          "pie": [
           {
            "automargin": true,
            "type": "pie"
           }
          ],
          "scatter": [
           {
            "fillpattern": {
             "fillmode": "overlay",
             "size": 10,
             "solidity": 0.2
            },
            "type": "scatter"
           }
          ],
          "scatter3d": [
           {
            "line": {
             "colorbar": {
              "outlinewidth": 0,
              "ticks": ""
             }
            },
            "marker": {
             "colorbar": {
              "outlinewidth": 0,
              "ticks": ""
             }
            },
            "type": "scatter3d"
           }
          ],
          "scattercarpet": [
           {
            "marker": {
             "colorbar": {
              "outlinewidth": 0,
              "ticks": ""
             }
            },
            "type": "scattercarpet"
           }
          ],
          "scattergeo": [
           {
            "marker": {
             "colorbar": {
              "outlinewidth": 0,
              "ticks": ""
             }
            },
            "type": "scattergeo"
           }
          ],
          "scattergl": [
           {
            "marker": {
             "colorbar": {
              "outlinewidth": 0,
              "ticks": ""
             }
            },
            "type": "scattergl"
           }
          ],
          "scattermap": [
           {
            "marker": {
             "colorbar": {
              "outlinewidth": 0,
              "ticks": ""
             }
            },
            "type": "scattermap"
           }
          ],
          "scattermapbox": [
           {
            "marker": {
             "colorbar": {
              "outlinewidth": 0,
              "ticks": ""
             }
            },
            "type": "scattermapbox"
           }
          ],
          "scatterpolar": [
           {
            "marker": {
             "colorbar": {
              "outlinewidth": 0,
              "ticks": ""
             }
            },
            "type": "scatterpolar"
           }
          ],
          "scatterpolargl": [
           {
            "marker": {
             "colorbar": {
              "outlinewidth": 0,
              "ticks": ""
             }
            },
            "type": "scatterpolargl"
           }
          ],
          "scatterternary": [
           {
            "marker": {
             "colorbar": {
              "outlinewidth": 0,
              "ticks": ""
             }
            },
            "type": "scatterternary"
           }
          ],
          "surface": [
           {
            "colorbar": {
             "outlinewidth": 0,
             "ticks": ""
            },
            "colorscale": [
             [
              0,
              "#0d0887"
             ],
             [
              0.1111111111111111,
              "#46039f"
             ],
             [
              0.2222222222222222,
              "#7201a8"
             ],
             [
              0.3333333333333333,
              "#9c179e"
             ],
             [
              0.4444444444444444,
              "#bd3786"
             ],
             [
              0.5555555555555556,
              "#d8576b"
             ],
             [
              0.6666666666666666,
              "#ed7953"
             ],
             [
              0.7777777777777778,
              "#fb9f3a"
             ],
             [
              0.8888888888888888,
              "#fdca26"
             ],
             [
              1,
              "#f0f921"
             ]
            ],
            "type": "surface"
           }
          ],
          "table": [
           {
            "cells": {
             "fill": {
              "color": "#EBF0F8"
             },
             "line": {
              "color": "white"
             }
            },
            "header": {
             "fill": {
              "color": "#C8D4E3"
             },
             "line": {
              "color": "white"
             }
            },
            "type": "table"
           }
          ]
         },
         "layout": {
          "annotationdefaults": {
           "arrowcolor": "#2a3f5f",
           "arrowhead": 0,
           "arrowwidth": 1
          },
          "autotypenumbers": "strict",
          "coloraxis": {
           "colorbar": {
            "outlinewidth": 0,
            "ticks": ""
           }
          },
          "colorscale": {
           "diverging": [
            [
             0,
             "#8e0152"
            ],
            [
             0.1,
             "#c51b7d"
            ],
            [
             0.2,
             "#de77ae"
            ],
            [
             0.3,
             "#f1b6da"
            ],
            [
             0.4,
             "#fde0ef"
            ],
            [
             0.5,
             "#f7f7f7"
            ],
            [
             0.6,
             "#e6f5d0"
            ],
            [
             0.7,
             "#b8e186"
            ],
            [
             0.8,
             "#7fbc41"
            ],
            [
             0.9,
             "#4d9221"
            ],
            [
             1,
             "#276419"
            ]
           ],
           "sequential": [
            [
             0,
             "#0d0887"
            ],
            [
             0.1111111111111111,
             "#46039f"
            ],
            [
             0.2222222222222222,
             "#7201a8"
            ],
            [
             0.3333333333333333,
             "#9c179e"
            ],
            [
             0.4444444444444444,
             "#bd3786"
            ],
            [
             0.5555555555555556,
             "#d8576b"
            ],
            [
             0.6666666666666666,
             "#ed7953"
            ],
            [
             0.7777777777777778,
             "#fb9f3a"
            ],
            [
             0.8888888888888888,
             "#fdca26"
            ],
            [
             1,
             "#f0f921"
            ]
           ],
           "sequentialminus": [
            [
             0,
             "#0d0887"
            ],
            [
             0.1111111111111111,
             "#46039f"
            ],
            [
             0.2222222222222222,
             "#7201a8"
            ],
            [
             0.3333333333333333,
             "#9c179e"
            ],
            [
             0.4444444444444444,
             "#bd3786"
            ],
            [
             0.5555555555555556,
             "#d8576b"
            ],
            [
             0.6666666666666666,
             "#ed7953"
            ],
            [
             0.7777777777777778,
             "#fb9f3a"
            ],
            [
             0.8888888888888888,
             "#fdca26"
            ],
            [
             1,
             "#f0f921"
            ]
           ]
          },
          "colorway": [
           "#636efa",
           "#EF553B",
           "#00cc96",
           "#ab63fa",
           "#FFA15A",
           "#19d3f3",
           "#FF6692",
           "#B6E880",
           "#FF97FF",
           "#FECB52"
          ],
          "font": {
           "color": "#2a3f5f"
          },
          "geo": {
           "bgcolor": "white",
           "lakecolor": "white",
           "landcolor": "#E5ECF6",
           "showlakes": true,
           "showland": true,
           "subunitcolor": "white"
          },
          "hoverlabel": {
           "align": "left"
          },
          "hovermode": "closest",
          "mapbox": {
           "style": "light"
          },
          "paper_bgcolor": "white",
          "plot_bgcolor": "#E5ECF6",
          "polar": {
           "angularaxis": {
            "gridcolor": "white",
            "linecolor": "white",
            "ticks": ""
           },
           "bgcolor": "#E5ECF6",
           "radialaxis": {
            "gridcolor": "white",
            "linecolor": "white",
            "ticks": ""
           }
          },
          "scene": {
           "xaxis": {
            "backgroundcolor": "#E5ECF6",
            "gridcolor": "white",
            "gridwidth": 2,
            "linecolor": "white",
            "showbackground": true,
            "ticks": "",
            "zerolinecolor": "white"
           },
           "yaxis": {
            "backgroundcolor": "#E5ECF6",
            "gridcolor": "white",
            "gridwidth": 2,
            "linecolor": "white",
            "showbackground": true,
            "ticks": "",
            "zerolinecolor": "white"
           },
           "zaxis": {
            "backgroundcolor": "#E5ECF6",
            "gridcolor": "white",
            "gridwidth": 2,
            "linecolor": "white",
            "showbackground": true,
            "ticks": "",
            "zerolinecolor": "white"
           }
          },
          "shapedefaults": {
           "line": {
            "color": "#2a3f5f"
           }
          },
          "ternary": {
           "aaxis": {
            "gridcolor": "white",
            "linecolor": "white",
            "ticks": ""
           },
           "baxis": {
            "gridcolor": "white",
            "linecolor": "white",
            "ticks": ""
           },
           "bgcolor": "#E5ECF6",
           "caxis": {
            "gridcolor": "white",
            "linecolor": "white",
            "ticks": ""
           }
          },
          "title": {
           "x": 0.05
          },
          "xaxis": {
           "automargin": true,
           "gridcolor": "white",
           "linecolor": "white",
           "ticks": "",
           "title": {
            "standoff": 15
           },
           "zerolinecolor": "white",
           "zerolinewidth": 2
          },
          "yaxis": {
           "automargin": true,
           "gridcolor": "white",
           "linecolor": "white",
           "ticks": "",
           "title": {
            "standoff": 15
           },
           "zerolinecolor": "white",
           "zerolinewidth": 2
          }
         }
        },
        "xaxis": {
         "anchor": "y",
         "domain": [
          0,
          1
         ],
         "title": {
          "text": "feature"
         }
        },
        "yaxis": {
         "anchor": "x",
         "domain": [
          0,
          1
         ],
         "title": {
          "text": "rank"
         }
        }
       }
      }
     },
     "metadata": {},
     "output_type": "display_data"
    }
   ],
   "source": [
    "comparison_df = ft.get_feature_comparison(importance_df)\n",
    "\n",
    "ft.plot_importance_comparison(comparison_df)\n",
    "ft.plot_rank_comparison(comparison_df)"
   ]
  },
  {
   "cell_type": "code",
   "execution_count": null,
   "id": "ff00e126",
   "metadata": {},
   "outputs": [],
   "source": [
    "feature_numbers = [10, 15, 20, 25, 30, 35]\n",
    "# scores = ft.evaluate_feature_number_per_models(md.MODELS, feature_numbers, X_train, y_train, features_by_importance)"
   ]
  },
  {
   "cell_type": "code",
   "execution_count": null,
   "id": "f3024e71",
   "metadata": {},
   "outputs": [],
   "source": [
    "# ft.plot_model_scores(scores, feature_numbers, 3)\n"
   ]
  },
  {
   "cell_type": "markdown",
   "id": "05afa6d5",
   "metadata": {},
   "source": [
    "## 3. Model optimization"
   ]
  },
  {
   "cell_type": "markdown",
   "id": "1d3d8789",
   "metadata": {},
   "source": [
    "### 3.1 Single models"
   ]
  },
  {
   "cell_type": "code",
   "execution_count": 24,
   "id": "ee102245",
   "metadata": {},
   "outputs": [
    {
     "name": "stdout",
     "output_type": "stream",
     "text": [
      "\n",
      "Evaulating: XGBoost Regressor\n",
      "processsing number 10\n",
      "cv_score: 0.342666009462209, val_score: 0.3413297573655316, param: {'n_estimators': 944, 'learning_rate': 0.018726555007116973, 'max_depth': 2}\n",
      "processsing number 20\n",
      "cv_score: 0.3164031133438835, val_score: 0.3395816247356788, param: {'n_estimators': 1040, 'learning_rate': 0.02639670132079428, 'max_depth': 2}\n",
      "processsing number 30\n",
      "cv_score: 0.3168306653633407, val_score: 0.3383845956538768, param: {'n_estimators': 612, 'learning_rate': 0.020766405705706877, 'max_depth': 2}\n",
      "processsing number 40\n",
      "cv_score: 0.3153239422445312, val_score: 0.3416846119998614, param: {'n_estimators': 747, 'learning_rate': 0.03556962537645393, 'max_depth': 2}\n",
      "processsing number 50\n",
      "cv_score: 0.31493869385235784, val_score: 0.33743893118081064, param: {'n_estimators': 452, 'learning_rate': 0.0525053301060766, 'max_depth': 2}\n",
      "processsing number 60\n",
      "cv_score: 0.315126430609749, val_score: 0.3364231411786321, param: {'n_estimators': 632, 'learning_rate': 0.041068553805548226, 'max_depth': 2}\n",
      "processsing number 66\n",
      "cv_score: 0.315813212374488, val_score: 0.336890279978729, param: {'n_estimators': 860, 'learning_rate': 0.0299214996639745, 'max_depth': 2}\n",
      "🏃 View run xgb at: http://127.0.0.1:8080/#/experiments/341249612524648412/runs/3f522c3a33ea43f48faf4893434aa941\n",
      "🧪 View experiment at: http://127.0.0.1:8080/#/experiments/341249612524648412\n",
      "\n",
      "Evaulating: CatBoost Regressor\n",
      "processsing number 10\n",
      "cv_score: 0.32596440405611665, val_score: 0.34001844512534324, param: {'loss_function': 'RMSE', 'verbose': False, 'depth': 5, 'learning_rate': 0.028682219805228122, 'l2_leaf_reg': 1.654478851580572, 'iterations': 504}\n",
      "processsing number 20\n",
      "cv_score: 0.2995650346506258, val_score: 0.33010282856560974, param: {'loss_function': 'RMSE', 'verbose': False, 'depth': 6, 'learning_rate': 0.053970652846041405, 'l2_leaf_reg': 2.343754908888388, 'iterations': 898}\n",
      "processsing number 30\n",
      "cv_score: 0.30349686781588014, val_score: 0.3189775441094167, param: {'loss_function': 'RMSE', 'verbose': False, 'depth': 5, 'learning_rate': 0.01782310668231938, 'l2_leaf_reg': 1.2780513934238706, 'iterations': 1111}\n",
      "processsing number 40\n",
      "cv_score: 0.29672999982934856, val_score: 0.3173951024283107, param: {'loss_function': 'RMSE', 'verbose': False, 'depth': 5, 'learning_rate': 0.010845464403023496, 'l2_leaf_reg': 1.7396448779011247, 'iterations': 1995}\n",
      "processsing number 50\n",
      "cv_score: 0.29755817037106963, val_score: 0.3178347980383706, param: {'loss_function': 'RMSE', 'verbose': False, 'depth': 5, 'learning_rate': 0.03190575357350053, 'l2_leaf_reg': 1.3267708058067609, 'iterations': 1399}\n",
      "processsing number 60\n",
      "cv_score: 0.29681728153566256, val_score: 0.31855037872048697, param: {'loss_function': 'RMSE', 'verbose': False, 'depth': 5, 'learning_rate': 0.014491212134592625, 'l2_leaf_reg': 1.4498241483199426, 'iterations': 1871}\n",
      "processsing number 66\n",
      "cv_score: 0.29727772140577435, val_score: 0.3213709303288331, param: {'loss_function': 'RMSE', 'verbose': False, 'depth': 5, 'learning_rate': 0.06483988516222465, 'l2_leaf_reg': 1.2605326652762427, 'iterations': 696}\n",
      "🏃 View run ctb at: http://127.0.0.1:8080/#/experiments/341249612524648412/runs/42531492362f4b9282cfa3ef2725dfce\n",
      "🧪 View experiment at: http://127.0.0.1:8080/#/experiments/341249612524648412\n",
      "\n",
      "Evaulating: LightGBM Regressor\n",
      "processsing number 10\n",
      "cv_score: 0.3444926437119099, val_score: 0.3407978411781787, param: {'verbose': -1, 'num_leaves': 3, 'learning_rate': 0.16997751483233142, 'min_data_in_leaf': 12, 'max_depth': 8}\n",
      "processsing number 20\n",
      "cv_score: 0.32323618712403845, val_score: 0.34587474239193955, param: {'verbose': -1, 'num_leaves': 6, 'learning_rate': 0.10662802224677226, 'min_data_in_leaf': 17, 'max_depth': 10}\n",
      "processsing number 30\n",
      "cv_score: 0.3198387925337915, val_score: 0.3357419110005172, param: {'verbose': -1, 'num_leaves': 4, 'learning_rate': 0.10124266427230492, 'min_data_in_leaf': 23, 'max_depth': 20}\n",
      "processsing number 40\n",
      "cv_score: 0.3213397558290595, val_score: 0.34132541558779894, param: {'verbose': -1, 'num_leaves': 3, 'learning_rate': 0.20040211010387093, 'min_data_in_leaf': 22, 'max_depth': 10}\n",
      "processsing number 50\n",
      "cv_score: 0.3186313475989892, val_score: 0.3446972705601205, param: {'verbose': -1, 'num_leaves': 4, 'learning_rate': 0.14478113697559808, 'min_data_in_leaf': 20, 'max_depth': 28}\n",
      "processsing number 60\n",
      "cv_score: 0.3172337315685909, val_score: 0.34707135305801035, param: {'verbose': -1, 'num_leaves': 4, 'learning_rate': 0.1422442893072393, 'min_data_in_leaf': 21, 'max_depth': 6}\n",
      "processsing number 66\n",
      "cv_score: 0.32113865513198525, val_score: 0.3463054671972243, param: {'verbose': -1, 'num_leaves': 224, 'learning_rate': 0.16575388325638596, 'min_data_in_leaf': 18, 'max_depth': 2}\n",
      "🏃 View run lgb at: http://127.0.0.1:8080/#/experiments/341249612524648412/runs/4546cfb5fd4f442eb50f0cd8421a4807\n",
      "🧪 View experiment at: http://127.0.0.1:8080/#/experiments/341249612524648412\n",
      "\n",
      "Evaulating: Support Vector Regressor\n",
      "processsing number 10\n",
      "cv_score: 0.31394847906344137, val_score: 0.3290593363621387, param: {'C': 6.204717459740733, 'gamma': 0.02067696809001403, 'epsilon': 0.0023307542424877165}\n",
      "processsing number 20\n",
      "cv_score: 0.29333251781342634, val_score: 0.30789965205196473, param: {'C': 18.066153550276336, 'gamma': 0.0028553412532824484, 'epsilon': 0.2489248589084043}\n",
      "processsing number 30\n",
      "cv_score: 0.29075007372718664, val_score: 0.3184692626463262, param: {'C': 59.956118316889494, 'gamma': 0.0014701315474824335, 'epsilon': 0.22409519886170665}\n",
      "processsing number 40\n",
      "cv_score: 0.28552176234705007, val_score: 0.3064725890478984, param: {'C': 10.920216803948383, 'gamma': 0.002693775283014429, 'epsilon': 0.144280897137216}\n",
      "processsing number 50\n",
      "cv_score: 0.28698740547711726, val_score: 0.299085971821714, param: {'C': 8.974650523100207, 'gamma': 0.0013948217661487992, 'epsilon': 0.112709433489425}\n",
      "processsing number 60\n",
      "cv_score: 0.28624228905192467, val_score: 0.2920551397160996, param: {'C': 7.702024866835988, 'gamma': 0.0015414416649348313, 'epsilon': 0.06824061618003653}\n",
      "processsing number 66\n",
      "cv_score: 0.2873693768659809, val_score: 0.2919529418345278, param: {'C': 13.707899835810318, 'gamma': 0.0010323906322973826, 'epsilon': 0.05825336140300437}\n",
      "🏃 View run svr at: http://127.0.0.1:8080/#/experiments/341249612524648412/runs/30000409d7cb46e8bcad94eb0b733d17\n",
      "🧪 View experiment at: http://127.0.0.1:8080/#/experiments/341249612524648412\n",
      "\n",
      "Evaulating: MLP Regressor\n",
      "processsing number 10\n",
      "cv_score: 0.3192565807155213, val_score: 0.32446463983436474, param: {'max_iter': 2000, 'learning_rate_init': 0.0008873448101263455, 'alpha': 0.7512409041542695, 'hidden_layer_sizes': (198,)}\n",
      "processsing number 20\n",
      "cv_score: 0.292422653126042, val_score: 0.32038918612896344, param: {'max_iter': 2000, 'learning_rate_init': 0.00020669289664271184, 'alpha': 0.4203849779861455, 'hidden_layer_sizes': (208,)}\n",
      "processsing number 30\n",
      "cv_score: 0.2980630501005905, val_score: 0.32946453116654123, param: {'max_iter': 2000, 'learning_rate_init': 0.002527924078508805, 'alpha': 0.9629426326364346, 'hidden_layer_sizes': (163,)}\n",
      "processsing number 40\n",
      "cv_score: 0.30054100258393046, val_score: 0.3211674249120964, param: {'max_iter': 2000, 'learning_rate_init': 0.0004717666861412347, 'alpha': 0.9928910891896585, 'hidden_layer_sizes': (211,)}\n",
      "processsing number 50\n",
      "cv_score: 0.307661302948018, val_score: 0.31995868451999554, param: {'max_iter': 2000, 'learning_rate_init': 0.0005572332836088241, 'alpha': 0.8360245308493417, 'hidden_layer_sizes': (224,)}\n",
      "processsing number 60\n",
      "cv_score: 0.3241222474363309, val_score: 0.326918435311213, param: {'max_iter': 2000, 'learning_rate_init': 0.046236104722714014, 'alpha': 0.8674227553653713, 'hidden_layer_sizes': (88,)}\n",
      "processsing number 66\n",
      "cv_score: 0.32060275139947103, val_score: 0.32181216095438986, param: {'max_iter': 2000, 'learning_rate_init': 0.0003923697600322606, 'alpha': 0.7958374125857494, 'hidden_layer_sizes': (217,)}\n",
      "🏃 View run mlp at: http://127.0.0.1:8080/#/experiments/341249612524648412/runs/1dfaee2a62134092a267efc3d316ca97\n",
      "🧪 View experiment at: http://127.0.0.1:8080/#/experiments/341249612524648412\n",
      "\n",
      "Evaulating: KNN Regressor\n",
      "processsing number 10\n",
      "cv_score: 0.364762258978617, val_score: 0.39030851093678315, param: {'n_neighbors': 8, 'weights': 'distance'}\n",
      "processsing number 20\n",
      "cv_score: 0.36842826082111735, val_score: 0.39398238663689006, param: {'n_neighbors': 12, 'weights': 'distance'}\n",
      "processsing number 30\n",
      "cv_score: 0.37631592121894664, val_score: 0.45419046006836694, param: {'n_neighbors': 2, 'weights': 'distance'}\n",
      "processsing number 40\n",
      "cv_score: 0.37670034951130715, val_score: 0.3817774344691713, param: {'n_neighbors': 13, 'weights': 'distance'}\n",
      "processsing number 50\n",
      "cv_score: 0.38829098175501836, val_score: 0.4016664723765686, param: {'n_neighbors': 10, 'weights': 'distance'}\n",
      "processsing number 60\n",
      "cv_score: 0.4000171877324899, val_score: 0.4087372606304828, param: {'n_neighbors': 9, 'weights': 'distance'}\n",
      "processsing number 66\n",
      "cv_score: 0.4003764151950895, val_score: 0.42847275259758616, param: {'n_neighbors': 5, 'weights': 'distance'}\n",
      "🏃 View run knn at: http://127.0.0.1:8080/#/experiments/341249612524648412/runs/7209ff0a8e64434ca567a23f7fd46082\n",
      "🧪 View experiment at: http://127.0.0.1:8080/#/experiments/341249612524648412\n"
     ]
    }
   ],
   "source": [
    "params = {}\n",
    "cv_scores = {}\n",
    "val_scores = {}\n",
    "studies = {}\n",
    "\n",
    "features_by_importance = ft.get_features_by_importance(comparison_df)\n",
    "\n",
    "for key in md.MODELS:\n",
    "    with mlflow.start_run(run_name=key):\n",
    "        mlflow.set_tag('model', md.MODELS[key]['name'])\n",
    "        mlflow.log_input(dataset)\n",
    "    \n",
    "        print(f'\\nEvaulating: {md.MODELS[key][\"name\"]}')\n",
    "        params[key], cv_scores[key], val_scores[key], studies[key] = md.evaluate_best_feature_number(\n",
    "            md.MODELS[key],\n",
    "            features_by_importance,\n",
    "            [10, 20, 30, 40, 50, 60, 66],\n",
    "            X_train,\n",
    "            y_train,\n",
    "            X_val,\n",
    "            y_val,\n",
    "        )\n",
    "        \n",
    "        best_par_num = min(val_scores[key], key=lambda x: val_scores[key][x])\n",
    "        mlflow.log_params(params[key][best_par_num])\n",
    "        mlflow.log_param('best_par_num', best_par_num)\n",
    "        mlflow.log_metric('best_avg_cv_score', cv_scores[key][best_par_num].mean())\n",
    "        mlflow.log_metric('best_std_cv_score', cv_scores[key][best_par_num].std())\n",
    "        mlflow.log_metric('best_val_scores', val_scores[key][best_par_num])\n",
    "        \n",
    "        mlflow.end_run()\n",
    "        \n",
    "        \n",
    "        \n",
    "md.save_models_values(params, cv_scores, val_scores)"
   ]
  },
  {
   "cell_type": "code",
   "execution_count": null,
   "id": "4a758173",
   "metadata": {},
   "outputs": [],
   "source": [
    "features_by_importance = ft.get_features_by_importance(comparison_df)\n",
    "params, cv_scores, val_scores = md.load_models_values()"
   ]
  },
  {
   "cell_type": "code",
   "execution_count": 33,
   "id": "805adba6",
   "metadata": {},
   "outputs": [
    {
     "data": {
      "application/vnd.plotly.v1+json": {
       "config": {
        "plotlyServerURL": "https://plot.ly"
       },
       "data": [
        {
         "error_y": {
          "array": {
           "bdata": "BhrO0x8Ilz+QnZT4fqCTP5HejUqhDJM/Gy7m4Ucplz9ntFyAgiWSP2wB9ZruxZU/2CwDV8lLlj8=",
           "dtype": "f8"
          },
          "type": "data"
         },
         "name": "xgb CV",
         "type": "bar",
         "x": [
          "10",
          "20",
          "30",
          "40",
          "50",
          "60",
          "66"
         ],
         "xaxis": "x",
         "y": {
          "bdata": "LdMFaj3u1T8qiArY8j/UP/6/hiD0RtQ/6oHleEQu1D820JWf9CfUP9C9ZAwIK9Q/nsKynkg21D8=",
          "dtype": "f8"
         },
         "yaxis": "y"
        },
        {
         "name": "xgb Validation",
         "type": "bar",
         "x": [
          "10",
          "20",
          "30",
          "40",
          "50",
          "60",
          "66"
         ],
         "xaxis": "x",
         "y": {
          "bdata": "OFdCxFjY1T97/CORtLvVP+5t89wXqNU/oX6FIine1T/VZnR1mZjVP021Pu30h9U/yFS2P5yP1T8=",
          "dtype": "f8"
         },
         "yaxis": "y"
        },
        {
         "error_y": {
          "array": {
           "bdata": "X+Ox2Vt/nT/VEj7cNPGSP3+j7vKVNIc/4eskw3JAkD/xMFdNROaOP+0oPwipHpU/cFHQr7OdlD8=",
           "dtype": "f8"
          },
          "type": "data"
         },
         "name": "ctb CV",
         "type": "bar",
         "x": [
          "10",
          "20",
          "30",
          "40",
          "50",
          "60",
          "66"
         ],
         "xaxis": "x2",
         "y": {
          "bdata": "lTHFzZnc1D/wXrbSEizTP/pJbSB+bNM/tpVA05/90j+Or5lsMQvTP7ZURekN/9I/zhnRIpkG0z8=",
          "dtype": "f8"
         },
         "yaxis": "y2"
        },
        {
         "name": "ctb Validation",
         "type": "bar",
         "x": [
          "10",
          "20",
          "30",
          "40",
          "50",
          "60",
          "66"
         ],
         "xaxis": "x2",
         "y": {
          "bdata": "XWh2udzC1T+raECdZyDVPxTvBsogatQ/QsU1jDNQ1D+bwcbDZ1fUP+7nriAhY9Q/im/pYFeR1D8=",
          "dtype": "f8"
         },
         "yaxis": "y2"
        },
        {
         "error_y": {
          "array": {
           "bdata": "+hbbiUFMmT/T55A4AimdP8oXVU/YBpM/KfXr2PEwij8ecvECVOCQPz1f8tPa55E/T36ugL9ejD8=",
           "dtype": "f8"
          },
          "type": "data"
         },
         "name": "lgb CV",
         "type": "bar",
         "x": [
          "10",
          "20",
          "30",
          "40",
          "50",
          "60",
          "66"
         ],
         "xaxis": "x3",
         "y": {
          "bdata": "iiKd3yoM1j/9NiXV5q/UP1MveyA9eNQ/GjCMn9SQ1D+cwVq8dGTUP+ibkbWOTdQ/vH1RJYmN1D8=",
          "dtype": "f8"
         },
         "yaxis": "y3"
        },
        {
         "name": "lgb Validation",
         "type": "bar",
         "x": [
          "10",
          "20",
          "30",
          "40",
          "50",
          "60",
          "66"
         ],
         "xaxis": "x3",
         "y": {
          "bdata": "bBeav6HP1T/VfcXQzyLWP24z6aPLfNU/rJBPjkbY1T8n4AQkhQ/WP9XOsMNqNtY/5G8CaN4p1j8=",
          "dtype": "f8"
         },
         "yaxis": "y3"
        },
        {
         "error_y": {
          "array": {
           "bdata": "studYCH9nj9Lon3AijCSP/sCO51trpE/CAgIj/INkj8TwWxeAkOUP8LGAJ8eZpI/1ZUlrFoolz8=",
           "dtype": "f8"
          },
          "type": "data"
         },
         "name": "svr CV",
         "type": "bar",
         "x": [
          "10",
          "20",
          "30",
          "40",
          "50",
          "60",
          "66"
         ],
         "xaxis": "x4",
         "y": {
          "bdata": "AjaNXLsX1D8RK7fA9cXSP1jxfTKmm9I/WOvkEf1F0j/L1jhsAF7SP9ZzjS3LUdI/7bjghkJk0j8=",
          "dtype": "f8"
         },
         "yaxis": "y4"
        },
        {
         "name": "svr Validation",
         "type": "bar",
         "x": [
          "10",
          "20",
          "30",
          "40",
          "50",
          "60",
          "66"
         ],
         "xaxis": "x4",
         "y": {
          "bdata": "OpsH5E4P1T931AC+oLTTP5049ubMYdQ/6jHFND+d0z83qup8OSTTPyFmbQoIsdI/Tp5JZFuv0j8=",
          "dtype": "f8"
         },
         "yaxis": "y4"
        },
        {
         "error_y": {
          "array": {
           "bdata": "A8JLmyWvnj/xo4twVgaVPxxjq+RSIZE/lE1apiBLiT9lf9GnaMCPPzRHOYBMCpg/aums1udtkT8=",
           "dtype": "f8"
          },
          "type": "data"
         },
         "name": "mlp CV",
         "type": "bar",
         "x": [
          "10",
          "20",
          "30",
          "40",
          "50",
          "60",
          "66"
         ],
         "xaxis": "x5",
         "y": {
          "bdata": "Qi5NJ7Nu1D86TPKADbfSP7P+FAt3E9M/Qh9NVBA80z/dA5oIubDTP65IKT1rvtQ/liwRZ8GE1D8=",
          "dtype": "f8"
         },
         "yaxis": "y5"
        },
        {
         "name": "mlp Validation",
         "type": "bar",
         "x": [
          "10",
          "20",
          "30",
          "40",
          "50",
          "60",
          "66"
         ],
         "xaxis": "x5",
         "y": {
          "bdata": "TQIzVgfE1D8BnxqlQYHUP1lYo2byFdU/bG6i0AGO1D94aYX9M3rUP/LAB0077NQ/sUSwCJKY1D8=",
          "dtype": "f8"
         },
         "yaxis": "y5"
        },
        {
         "error_y": {
          "array": {
           "bdata": "oa3YTf9CoT+Y6jeeLSeXP7wxxb7nnIs/Y5eoWCp0nT93nUgT/NKgPwe2lJY1JqA/SDA9KTAboj8=",
           "dtype": "f8"
          },
          "type": "data"
         },
         "name": "knn CV",
         "type": "bar",
         "x": [
          "10",
          "20",
          "30",
          "40",
          "50",
          "60",
          "66"
         ],
         "xaxis": "x6",
         "y": {
          "bdata": "IDVIzUNY1z/ghskgVJTXPwNepl+PFdg/yr1iyNsb2D/jDP5qwtnYPy2IybDhmdk/bpFWZsSf2T8=",
          "dtype": "f8"
         },
         "yaxis": "y6"
        },
        {
         "name": "knn Validation",
         "type": "bar",
         "x": [
          "10",
          "20",
          "30",
          "40",
          "50",
          "60",
          "66"
         ],
         "xaxis": "x6",
         "y": {
          "bdata": "d7t0jND62D/TjHPmATfZP26GCd10Ed0//1XZngpv2D+Ac7BK57TZP58hxFPAKNo/D4/o+hhs2z8=",
          "dtype": "f8"
         },
         "yaxis": "y6"
        }
       ],
       "layout": {
        "annotations": [
         {
          "font": {
           "size": 16
          },
          "showarrow": false,
          "text": "xgb",
          "x": 0.14444444444444446,
          "xanchor": "center",
          "xref": "paper",
          "y": 1,
          "yanchor": "bottom",
          "yref": "paper"
         },
         {
          "font": {
           "size": 16
          },
          "showarrow": false,
          "text": "ctb",
          "x": 0.5,
          "xanchor": "center",
          "xref": "paper",
          "y": 1,
          "yanchor": "bottom",
          "yref": "paper"
         },
         {
          "font": {
           "size": 16
          },
          "showarrow": false,
          "text": "lgb",
          "x": 0.8555555555555556,
          "xanchor": "center",
          "xref": "paper",
          "y": 1,
          "yanchor": "bottom",
          "yref": "paper"
         },
         {
          "font": {
           "size": 16
          },
          "showarrow": false,
          "text": "svr",
          "x": 0.14444444444444446,
          "xanchor": "center",
          "xref": "paper",
          "y": 0.375,
          "yanchor": "bottom",
          "yref": "paper"
         },
         {
          "font": {
           "size": 16
          },
          "showarrow": false,
          "text": "mlp",
          "x": 0.5,
          "xanchor": "center",
          "xref": "paper",
          "y": 0.375,
          "yanchor": "bottom",
          "yref": "paper"
         },
         {
          "font": {
           "size": 16
          },
          "showarrow": false,
          "text": "knn",
          "x": 0.8555555555555556,
          "xanchor": "center",
          "xref": "paper",
          "y": 0.375,
          "yanchor": "bottom",
          "yref": "paper"
         }
        ],
        "barmode": "group",
        "height": 800,
        "showlegend": true,
        "template": {
         "data": {
          "bar": [
           {
            "error_x": {
             "color": "#2a3f5f"
            },
            "error_y": {
             "color": "#2a3f5f"
            },
            "marker": {
             "line": {
              "color": "#E5ECF6",
              "width": 0.5
             },
             "pattern": {
              "fillmode": "overlay",
              "size": 10,
              "solidity": 0.2
             }
            },
            "type": "bar"
           }
          ],
          "barpolar": [
           {
            "marker": {
             "line": {
              "color": "#E5ECF6",
              "width": 0.5
             },
             "pattern": {
              "fillmode": "overlay",
              "size": 10,
              "solidity": 0.2
             }
            },
            "type": "barpolar"
           }
          ],
          "carpet": [
           {
            "aaxis": {
             "endlinecolor": "#2a3f5f",
             "gridcolor": "white",
             "linecolor": "white",
             "minorgridcolor": "white",
             "startlinecolor": "#2a3f5f"
            },
            "baxis": {
             "endlinecolor": "#2a3f5f",
             "gridcolor": "white",
             "linecolor": "white",
             "minorgridcolor": "white",
             "startlinecolor": "#2a3f5f"
            },
            "type": "carpet"
           }
          ],
          "choropleth": [
           {
            "colorbar": {
             "outlinewidth": 0,
             "ticks": ""
            },
            "type": "choropleth"
           }
          ],
          "contour": [
           {
            "colorbar": {
             "outlinewidth": 0,
             "ticks": ""
            },
            "colorscale": [
             [
              0,
              "#0d0887"
             ],
             [
              0.1111111111111111,
              "#46039f"
             ],
             [
              0.2222222222222222,
              "#7201a8"
             ],
             [
              0.3333333333333333,
              "#9c179e"
             ],
             [
              0.4444444444444444,
              "#bd3786"
             ],
             [
              0.5555555555555556,
              "#d8576b"
             ],
             [
              0.6666666666666666,
              "#ed7953"
             ],
             [
              0.7777777777777778,
              "#fb9f3a"
             ],
             [
              0.8888888888888888,
              "#fdca26"
             ],
             [
              1,
              "#f0f921"
             ]
            ],
            "type": "contour"
           }
          ],
          "contourcarpet": [
           {
            "colorbar": {
             "outlinewidth": 0,
             "ticks": ""
            },
            "type": "contourcarpet"
           }
          ],
          "heatmap": [
           {
            "colorbar": {
             "outlinewidth": 0,
             "ticks": ""
            },
            "colorscale": [
             [
              0,
              "#0d0887"
             ],
             [
              0.1111111111111111,
              "#46039f"
             ],
             [
              0.2222222222222222,
              "#7201a8"
             ],
             [
              0.3333333333333333,
              "#9c179e"
             ],
             [
              0.4444444444444444,
              "#bd3786"
             ],
             [
              0.5555555555555556,
              "#d8576b"
             ],
             [
              0.6666666666666666,
              "#ed7953"
             ],
             [
              0.7777777777777778,
              "#fb9f3a"
             ],
             [
              0.8888888888888888,
              "#fdca26"
             ],
             [
              1,
              "#f0f921"
             ]
            ],
            "type": "heatmap"
           }
          ],
          "histogram": [
           {
            "marker": {
             "pattern": {
              "fillmode": "overlay",
              "size": 10,
              "solidity": 0.2
             }
            },
            "type": "histogram"
           }
          ],
          "histogram2d": [
           {
            "colorbar": {
             "outlinewidth": 0,
             "ticks": ""
            },
            "colorscale": [
             [
              0,
              "#0d0887"
             ],
             [
              0.1111111111111111,
              "#46039f"
             ],
             [
              0.2222222222222222,
              "#7201a8"
             ],
             [
              0.3333333333333333,
              "#9c179e"
             ],
             [
              0.4444444444444444,
              "#bd3786"
             ],
             [
              0.5555555555555556,
              "#d8576b"
             ],
             [
              0.6666666666666666,
              "#ed7953"
             ],
             [
              0.7777777777777778,
              "#fb9f3a"
             ],
             [
              0.8888888888888888,
              "#fdca26"
             ],
             [
              1,
              "#f0f921"
             ]
            ],
            "type": "histogram2d"
           }
          ],
          "histogram2dcontour": [
           {
            "colorbar": {
             "outlinewidth": 0,
             "ticks": ""
            },
            "colorscale": [
             [
              0,
              "#0d0887"
             ],
             [
              0.1111111111111111,
              "#46039f"
             ],
             [
              0.2222222222222222,
              "#7201a8"
             ],
             [
              0.3333333333333333,
              "#9c179e"
             ],
             [
              0.4444444444444444,
              "#bd3786"
             ],
             [
              0.5555555555555556,
              "#d8576b"
             ],
             [
              0.6666666666666666,
              "#ed7953"
             ],
             [
              0.7777777777777778,
              "#fb9f3a"
             ],
             [
              0.8888888888888888,
              "#fdca26"
             ],
             [
              1,
              "#f0f921"
             ]
            ],
            "type": "histogram2dcontour"
           }
          ],
          "mesh3d": [
           {
            "colorbar": {
             "outlinewidth": 0,
             "ticks": ""
            },
            "type": "mesh3d"
           }
          ],
          "parcoords": [
           {
            "line": {
             "colorbar": {
              "outlinewidth": 0,
              "ticks": ""
             }
            },
            "type": "parcoords"
           }
          ],
          "pie": [
           {
            "automargin": true,
            "type": "pie"
           }
          ],
          "scatter": [
           {
            "fillpattern": {
             "fillmode": "overlay",
             "size": 10,
             "solidity": 0.2
            },
            "type": "scatter"
           }
          ],
          "scatter3d": [
           {
            "line": {
             "colorbar": {
              "outlinewidth": 0,
              "ticks": ""
             }
            },
            "marker": {
             "colorbar": {
              "outlinewidth": 0,
              "ticks": ""
             }
            },
            "type": "scatter3d"
           }
          ],
          "scattercarpet": [
           {
            "marker": {
             "colorbar": {
              "outlinewidth": 0,
              "ticks": ""
             }
            },
            "type": "scattercarpet"
           }
          ],
          "scattergeo": [
           {
            "marker": {
             "colorbar": {
              "outlinewidth": 0,
              "ticks": ""
             }
            },
            "type": "scattergeo"
           }
          ],
          "scattergl": [
           {
            "marker": {
             "colorbar": {
              "outlinewidth": 0,
              "ticks": ""
             }
            },
            "type": "scattergl"
           }
          ],
          "scattermap": [
           {
            "marker": {
             "colorbar": {
              "outlinewidth": 0,
              "ticks": ""
             }
            },
            "type": "scattermap"
           }
          ],
          "scattermapbox": [
           {
            "marker": {
             "colorbar": {
              "outlinewidth": 0,
              "ticks": ""
             }
            },
            "type": "scattermapbox"
           }
          ],
          "scatterpolar": [
           {
            "marker": {
             "colorbar": {
              "outlinewidth": 0,
              "ticks": ""
             }
            },
            "type": "scatterpolar"
           }
          ],
          "scatterpolargl": [
           {
            "marker": {
             "colorbar": {
              "outlinewidth": 0,
              "ticks": ""
             }
            },
            "type": "scatterpolargl"
           }
          ],
          "scatterternary": [
           {
            "marker": {
             "colorbar": {
              "outlinewidth": 0,
              "ticks": ""
             }
            },
            "type": "scatterternary"
           }
          ],
          "surface": [
           {
            "colorbar": {
             "outlinewidth": 0,
             "ticks": ""
            },
            "colorscale": [
             [
              0,
              "#0d0887"
             ],
             [
              0.1111111111111111,
              "#46039f"
             ],
             [
              0.2222222222222222,
              "#7201a8"
             ],
             [
              0.3333333333333333,
              "#9c179e"
             ],
             [
              0.4444444444444444,
              "#bd3786"
             ],
             [
              0.5555555555555556,
              "#d8576b"
             ],
             [
              0.6666666666666666,
              "#ed7953"
             ],
             [
              0.7777777777777778,
              "#fb9f3a"
             ],
             [
              0.8888888888888888,
              "#fdca26"
             ],
             [
              1,
              "#f0f921"
             ]
            ],
            "type": "surface"
           }
          ],
          "table": [
           {
            "cells": {
             "fill": {
              "color": "#EBF0F8"
             },
             "line": {
              "color": "white"
             }
            },
            "header": {
             "fill": {
              "color": "#C8D4E3"
             },
             "line": {
              "color": "white"
             }
            },
            "type": "table"
           }
          ]
         },
         "layout": {
          "annotationdefaults": {
           "arrowcolor": "#2a3f5f",
           "arrowhead": 0,
           "arrowwidth": 1
          },
          "autotypenumbers": "strict",
          "coloraxis": {
           "colorbar": {
            "outlinewidth": 0,
            "ticks": ""
           }
          },
          "colorscale": {
           "diverging": [
            [
             0,
             "#8e0152"
            ],
            [
             0.1,
             "#c51b7d"
            ],
            [
             0.2,
             "#de77ae"
            ],
            [
             0.3,
             "#f1b6da"
            ],
            [
             0.4,
             "#fde0ef"
            ],
            [
             0.5,
             "#f7f7f7"
            ],
            [
             0.6,
             "#e6f5d0"
            ],
            [
             0.7,
             "#b8e186"
            ],
            [
             0.8,
             "#7fbc41"
            ],
            [
             0.9,
             "#4d9221"
            ],
            [
             1,
             "#276419"
            ]
           ],
           "sequential": [
            [
             0,
             "#0d0887"
            ],
            [
             0.1111111111111111,
             "#46039f"
            ],
            [
             0.2222222222222222,
             "#7201a8"
            ],
            [
             0.3333333333333333,
             "#9c179e"
            ],
            [
             0.4444444444444444,
             "#bd3786"
            ],
            [
             0.5555555555555556,
             "#d8576b"
            ],
            [
             0.6666666666666666,
             "#ed7953"
            ],
            [
             0.7777777777777778,
             "#fb9f3a"
            ],
            [
             0.8888888888888888,
             "#fdca26"
            ],
            [
             1,
             "#f0f921"
            ]
           ],
           "sequentialminus": [
            [
             0,
             "#0d0887"
            ],
            [
             0.1111111111111111,
             "#46039f"
            ],
            [
             0.2222222222222222,
             "#7201a8"
            ],
            [
             0.3333333333333333,
             "#9c179e"
            ],
            [
             0.4444444444444444,
             "#bd3786"
            ],
            [
             0.5555555555555556,
             "#d8576b"
            ],
            [
             0.6666666666666666,
             "#ed7953"
            ],
            [
             0.7777777777777778,
             "#fb9f3a"
            ],
            [
             0.8888888888888888,
             "#fdca26"
            ],
            [
             1,
             "#f0f921"
            ]
           ]
          },
          "colorway": [
           "#636efa",
           "#EF553B",
           "#00cc96",
           "#ab63fa",
           "#FFA15A",
           "#19d3f3",
           "#FF6692",
           "#B6E880",
           "#FF97FF",
           "#FECB52"
          ],
          "font": {
           "color": "#2a3f5f"
          },
          "geo": {
           "bgcolor": "white",
           "lakecolor": "white",
           "landcolor": "#E5ECF6",
           "showlakes": true,
           "showland": true,
           "subunitcolor": "white"
          },
          "hoverlabel": {
           "align": "left"
          },
          "hovermode": "closest",
          "mapbox": {
           "style": "light"
          },
          "paper_bgcolor": "white",
          "plot_bgcolor": "#E5ECF6",
          "polar": {
           "angularaxis": {
            "gridcolor": "white",
            "linecolor": "white",
            "ticks": ""
           },
           "bgcolor": "#E5ECF6",
           "radialaxis": {
            "gridcolor": "white",
            "linecolor": "white",
            "ticks": ""
           }
          },
          "scene": {
           "xaxis": {
            "backgroundcolor": "#E5ECF6",
            "gridcolor": "white",
            "gridwidth": 2,
            "linecolor": "white",
            "showbackground": true,
            "ticks": "",
            "zerolinecolor": "white"
           },
           "yaxis": {
            "backgroundcolor": "#E5ECF6",
            "gridcolor": "white",
            "gridwidth": 2,
            "linecolor": "white",
            "showbackground": true,
            "ticks": "",
            "zerolinecolor": "white"
           },
           "zaxis": {
            "backgroundcolor": "#E5ECF6",
            "gridcolor": "white",
            "gridwidth": 2,
            "linecolor": "white",
            "showbackground": true,
            "ticks": "",
            "zerolinecolor": "white"
           }
          },
          "shapedefaults": {
           "line": {
            "color": "#2a3f5f"
           }
          },
          "ternary": {
           "aaxis": {
            "gridcolor": "white",
            "linecolor": "white",
            "ticks": ""
           },
           "baxis": {
            "gridcolor": "white",
            "linecolor": "white",
            "ticks": ""
           },
           "bgcolor": "#E5ECF6",
           "caxis": {
            "gridcolor": "white",
            "linecolor": "white",
            "ticks": ""
           }
          },
          "title": {
           "x": 0.05
          },
          "xaxis": {
           "automargin": true,
           "gridcolor": "white",
           "linecolor": "white",
           "ticks": "",
           "title": {
            "standoff": 15
           },
           "zerolinecolor": "white",
           "zerolinewidth": 2
          },
          "yaxis": {
           "automargin": true,
           "gridcolor": "white",
           "linecolor": "white",
           "ticks": "",
           "title": {
            "standoff": 15
           },
           "zerolinecolor": "white",
           "zerolinewidth": 2
          }
         }
        },
        "width": 1500,
        "xaxis": {
         "anchor": "y",
         "domain": [
          0,
          0.2888888888888889
         ]
        },
        "xaxis2": {
         "anchor": "y2",
         "domain": [
          0.35555555555555557,
          0.6444444444444445
         ]
        },
        "xaxis3": {
         "anchor": "y3",
         "domain": [
          0.7111111111111111,
          1
         ]
        },
        "xaxis4": {
         "anchor": "y4",
         "domain": [
          0,
          0.2888888888888889
         ]
        },
        "xaxis5": {
         "anchor": "y5",
         "domain": [
          0.35555555555555557,
          0.6444444444444445
         ]
        },
        "xaxis6": {
         "anchor": "y6",
         "domain": [
          0.7111111111111111,
          1
         ]
        },
        "yaxis": {
         "anchor": "x",
         "domain": [
          0.625,
          1
         ],
         "range": [
          0.23,
          0.46
         ]
        },
        "yaxis2": {
         "anchor": "x2",
         "domain": [
          0.625,
          1
         ],
         "range": [
          0.23,
          0.46
         ]
        },
        "yaxis3": {
         "anchor": "x3",
         "domain": [
          0.625,
          1
         ],
         "range": [
          0.23,
          0.46
         ]
        },
        "yaxis4": {
         "anchor": "x4",
         "domain": [
          0,
          0.375
         ],
         "range": [
          0.23,
          0.46
         ]
        },
        "yaxis5": {
         "anchor": "x5",
         "domain": [
          0,
          0.375
         ],
         "range": [
          0.23,
          0.46
         ]
        },
        "yaxis6": {
         "anchor": "x6",
         "domain": [
          0,
          0.375
         ],
         "range": [
          0.23,
          0.46
         ]
        }
       }
      }
     },
     "metadata": {},
     "output_type": "display_data"
    }
   ],
   "source": [
    "md.plot_model_scores(cv_scores, val_scores, [10, 20, 30, 40, 50, 60, 66], 3)"
   ]
  },
  {
   "cell_type": "markdown",
   "id": "f84d6b76",
   "metadata": {},
   "source": [
    "### 3.2 Stacking"
   ]
  },
  {
   "cell_type": "code",
   "execution_count": 38,
   "id": "2b260ae8",
   "metadata": {},
   "outputs": [],
   "source": [
    "from sklearn.metrics import root_mean_squared_error\n",
    "from sklearn.linear_model import Ridge\n",
    "\n",
    "model_selection = {\n",
    "    'xgb': 60,\n",
    "    'ctb': 40,\n",
    "    'lgb': 30,\n",
    "    'svr': 66,\n",
    "    'mlp': 50,\n",
    "    # 'knn': 40,\n",
    "}"
   ]
  },
  {
   "cell_type": "code",
   "execution_count": 39,
   "id": "f8cb2d74",
   "metadata": {},
   "outputs": [],
   "source": [
    "oof_predictions_train, oof_predictions_val = md.get_oof_predictions(model_selection, X_train, y_train, X_val)"
   ]
  },
  {
   "cell_type": "code",
   "execution_count": 40,
   "id": "b1ac715e",
   "metadata": {},
   "outputs": [
    {
     "name": "stdout",
     "output_type": "stream",
     "text": [
      "Processing Lasso.\n"
     ]
    },
    {
     "name": "stderr",
     "output_type": "stream",
     "text": [
      "/opt/miniconda3/envs/torch_study/lib/python3.11/site-packages/mlflow/tracking/metric_value_conversion_utils.py:53: FutureWarning:\n",
      "\n",
      "Calling float on a single element Series is deprecated and will raise a TypeError in the future. Use float(ser.iloc[0]) instead\n",
      "\n"
     ]
    },
    {
     "name": "stdout",
     "output_type": "stream",
     "text": [
      "🏃 View run Lasso at: http://127.0.0.1:8080/#/experiments/341249612524648412/runs/dcd2fdc3e4344c8187e9ee1772ec1a63\n",
      "🧪 View experiment at: http://127.0.0.1:8080/#/experiments/341249612524648412\n",
      "Processing Ridge.\n"
     ]
    },
    {
     "name": "stderr",
     "output_type": "stream",
     "text": [
      "/opt/miniconda3/envs/torch_study/lib/python3.11/site-packages/mlflow/tracking/metric_value_conversion_utils.py:53: FutureWarning:\n",
      "\n",
      "Calling float on a single element Series is deprecated and will raise a TypeError in the future. Use float(ser.iloc[0]) instead\n",
      "\n"
     ]
    },
    {
     "name": "stdout",
     "output_type": "stream",
     "text": [
      "🏃 View run Ridge at: http://127.0.0.1:8080/#/experiments/341249612524648412/runs/b49cdbd98af44f30b19924a98c78d43f\n",
      "🧪 View experiment at: http://127.0.0.1:8080/#/experiments/341249612524648412\n",
      "Processing Elastic Net.\n"
     ]
    },
    {
     "name": "stderr",
     "output_type": "stream",
     "text": [
      "/opt/miniconda3/envs/torch_study/lib/python3.11/site-packages/mlflow/tracking/metric_value_conversion_utils.py:53: FutureWarning:\n",
      "\n",
      "Calling float on a single element Series is deprecated and will raise a TypeError in the future. Use float(ser.iloc[0]) instead\n",
      "\n"
     ]
    },
    {
     "name": "stdout",
     "output_type": "stream",
     "text": [
      "🏃 View run Elastic Net at: http://127.0.0.1:8080/#/experiments/341249612524648412/runs/7101b45ba00f44a59f41dbb757d10bba\n",
      "🧪 View experiment at: http://127.0.0.1:8080/#/experiments/341249612524648412\n",
      "Processing Support Vector Regressor.\n",
      "🏃 View run Support Vector Regressor at: http://127.0.0.1:8080/#/experiments/341249612524648412/runs/9f833666b6b24b4199c86b4201c4663e\n",
      "🧪 View experiment at: http://127.0.0.1:8080/#/experiments/341249612524648412\n",
      "🏃 View run all at: http://127.0.0.1:8080/#/experiments/341249612524648412/runs/b523279d6b5f4869bcde04c94f00adcb\n",
      "🧪 View experiment at: http://127.0.0.1:8080/#/experiments/341249612524648412\n"
     ]
    },
    {
     "name": "stderr",
     "output_type": "stream",
     "text": [
      "/opt/miniconda3/envs/torch_study/lib/python3.11/site-packages/mlflow/tracking/metric_value_conversion_utils.py:53: FutureWarning:\n",
      "\n",
      "Calling float on a single element Series is deprecated and will raise a TypeError in the future. Use float(ser.iloc[0]) instead\n",
      "\n"
     ]
    }
   ],
   "source": [
    "st_params = {}\n",
    "st_cv_scores = {}\n",
    "st_val_scores = {}\n",
    "st_studies = {}\n",
    "\n",
    "\n",
    "with mlflow.start_run(run_name='all'):\n",
    "    mlflow.set_tag('model', 'Stacking Regressor')\n",
    "    mlflow.log_input(dataset)\n",
    "    mlflow.log_params(model_selection)\n",
    "    \n",
    "    for key in md.META_MODELS:\n",
    "        with mlflow.start_run(nested=True, run_name=md.META_MODELS[key]['name']):\n",
    "            print(f\"Processing {md.META_MODELS[key]['name']}.\")\n",
    "\n",
    "            st_params[key], st_cv_scores[key], st_val_scores[key], st_studies[key] = (\n",
    "                md.optimize_and_evaluate_model(\n",
    "                    md.META_MODELS[key],\n",
    "                    oof_predictions_train,\n",
    "                    y_train,\n",
    "                    oof_predictions_val,\n",
    "                    y_val,\n",
    "                    model_selection,\n",
    "                    features_by_importance,\n",
    "                )\n",
    "            )\n",
    "            \n",
    "            mlflow.log_params(st_params[key])\n",
    "            mlflow.log_metric('best_avg_cv_score', st_cv_scores[key].mean())\n",
    "            mlflow.log_metric('best_std_cv_score', st_cv_scores[key].std())\n",
    "            mlflow.log_metric('best_val_scores', st_val_scores[key])\n",
    "            \n",
    "            mlflow.end_run()\n",
    "            \n",
    "    best_key = min(st_val_scores, key=lambda x: st_val_scores[x])\n",
    "    mlflow.log_param('best_final_estimator', md.META_MODELS[best_key]['name'])\n",
    "    mlflow.log_metric('best_avg_cv_score', st_cv_scores[best_key].mean())\n",
    "    mlflow.log_metric('best_std_cv_score', st_cv_scores[best_key].std())\n",
    "    mlflow.log_metric('best_val_scores', st_val_scores[best_key])    "
   ]
  },
  {
   "cell_type": "code",
   "execution_count": null,
   "id": "3fc02325",
   "metadata": {},
   "outputs": [
    {
     "data": {
      "application/vnd.plotly.v1+json": {
       "config": {
        "plotlyServerURL": "https://plot.ly"
       },
       "data": [
        {
         "error_y": {
          "array": [
           0.019837373059647095
          ],
          "type": "data"
         },
         "name": "lasso CV",
         "type": "bar",
         "x": [
          "CV mean"
         ],
         "xaxis": "x",
         "y": [
          0.26324382530487483
         ],
         "yaxis": "y"
        },
        {
         "name": "lasso Validation",
         "type": "bar",
         "x": [
          "Validation"
         ],
         "xaxis": "x",
         "y": [
          0.32521068262851766
         ],
         "yaxis": "y"
        },
        {
         "error_y": {
          "array": [
           0.021089171264170384
          ],
          "type": "data"
         },
         "name": "ridge CV",
         "type": "bar",
         "x": [
          "CV mean"
         ],
         "xaxis": "x2",
         "y": [
          0.26247315979689423
         ],
         "yaxis": "y2"
        },
        {
         "name": "ridge Validation",
         "type": "bar",
         "x": [
          "Validation"
         ],
         "xaxis": "x2",
         "y": [
          0.32728622068244423
         ],
         "yaxis": "y2"
        },
        {
         "error_y": {
          "array": [
           0.02113801672732427
          ],
          "type": "data"
         },
         "name": "elNet CV",
         "type": "bar",
         "x": [
          "CV mean"
         ],
         "xaxis": "x3",
         "y": [
          0.26248120084959087
         ],
         "yaxis": "y3"
        },
        {
         "name": "elNet Validation",
         "type": "bar",
         "x": [
          "Validation"
         ],
         "xaxis": "x3",
         "y": [
          0.32746295949502957
         ],
         "yaxis": "y3"
        },
        {
         "error_y": {
          "array": [
           0.01829399088134733
          ],
          "type": "data"
         },
         "name": "svr CV",
         "type": "bar",
         "x": [
          "CV mean"
         ],
         "xaxis": "x4",
         "y": [
          0.2615287994255525
         ],
         "yaxis": "y4"
        },
        {
         "name": "svr Validation",
         "type": "bar",
         "x": [
          "Validation"
         ],
         "xaxis": "x4",
         "y": [
          0.32555971265818906
         ],
         "yaxis": "y4"
        }
       ],
       "layout": {
        "annotations": [
         {
          "font": {
           "size": 16
          },
          "showarrow": false,
          "text": "lasso",
          "x": 0.10625,
          "xanchor": "center",
          "xref": "paper",
          "y": 1,
          "yanchor": "bottom",
          "yref": "paper"
         },
         {
          "font": {
           "size": 16
          },
          "showarrow": false,
          "text": "ridge",
          "x": 0.36875,
          "xanchor": "center",
          "xref": "paper",
          "y": 1,
          "yanchor": "bottom",
          "yref": "paper"
         },
         {
          "font": {
           "size": 16
          },
          "showarrow": false,
          "text": "elNet",
          "x": 0.6312500000000001,
          "xanchor": "center",
          "xref": "paper",
          "y": 1,
          "yanchor": "bottom",
          "yref": "paper"
         },
         {
          "font": {
           "size": 16
          },
          "showarrow": false,
          "text": "svr",
          "x": 0.89375,
          "xanchor": "center",
          "xref": "paper",
          "y": 1,
          "yanchor": "bottom",
          "yref": "paper"
         }
        ],
        "barmode": "group",
        "height": 300,
        "showlegend": true,
        "template": {
         "data": {
          "bar": [
           {
            "error_x": {
             "color": "#2a3f5f"
            },
            "error_y": {
             "color": "#2a3f5f"
            },
            "marker": {
             "line": {
              "color": "#E5ECF6",
              "width": 0.5
             },
             "pattern": {
              "fillmode": "overlay",
              "size": 10,
              "solidity": 0.2
             }
            },
            "type": "bar"
           }
          ],
          "barpolar": [
           {
            "marker": {
             "line": {
              "color": "#E5ECF6",
              "width": 0.5
             },
             "pattern": {
              "fillmode": "overlay",
              "size": 10,
              "solidity": 0.2
             }
            },
            "type": "barpolar"
           }
          ],
          "carpet": [
           {
            "aaxis": {
             "endlinecolor": "#2a3f5f",
             "gridcolor": "white",
             "linecolor": "white",
             "minorgridcolor": "white",
             "startlinecolor": "#2a3f5f"
            },
            "baxis": {
             "endlinecolor": "#2a3f5f",
             "gridcolor": "white",
             "linecolor": "white",
             "minorgridcolor": "white",
             "startlinecolor": "#2a3f5f"
            },
            "type": "carpet"
           }
          ],
          "choropleth": [
           {
            "colorbar": {
             "outlinewidth": 0,
             "ticks": ""
            },
            "type": "choropleth"
           }
          ],
          "contour": [
           {
            "colorbar": {
             "outlinewidth": 0,
             "ticks": ""
            },
            "colorscale": [
             [
              0,
              "#0d0887"
             ],
             [
              0.1111111111111111,
              "#46039f"
             ],
             [
              0.2222222222222222,
              "#7201a8"
             ],
             [
              0.3333333333333333,
              "#9c179e"
             ],
             [
              0.4444444444444444,
              "#bd3786"
             ],
             [
              0.5555555555555556,
              "#d8576b"
             ],
             [
              0.6666666666666666,
              "#ed7953"
             ],
             [
              0.7777777777777778,
              "#fb9f3a"
             ],
             [
              0.8888888888888888,
              "#fdca26"
             ],
             [
              1,
              "#f0f921"
             ]
            ],
            "type": "contour"
           }
          ],
          "contourcarpet": [
           {
            "colorbar": {
             "outlinewidth": 0,
             "ticks": ""
            },
            "type": "contourcarpet"
           }
          ],
          "heatmap": [
           {
            "colorbar": {
             "outlinewidth": 0,
             "ticks": ""
            },
            "colorscale": [
             [
              0,
              "#0d0887"
             ],
             [
              0.1111111111111111,
              "#46039f"
             ],
             [
              0.2222222222222222,
              "#7201a8"
             ],
             [
              0.3333333333333333,
              "#9c179e"
             ],
             [
              0.4444444444444444,
              "#bd3786"
             ],
             [
              0.5555555555555556,
              "#d8576b"
             ],
             [
              0.6666666666666666,
              "#ed7953"
             ],
             [
              0.7777777777777778,
              "#fb9f3a"
             ],
             [
              0.8888888888888888,
              "#fdca26"
             ],
             [
              1,
              "#f0f921"
             ]
            ],
            "type": "heatmap"
           }
          ],
          "histogram": [
           {
            "marker": {
             "pattern": {
              "fillmode": "overlay",
              "size": 10,
              "solidity": 0.2
             }
            },
            "type": "histogram"
           }
          ],
          "histogram2d": [
           {
            "colorbar": {
             "outlinewidth": 0,
             "ticks": ""
            },
            "colorscale": [
             [
              0,
              "#0d0887"
             ],
             [
              0.1111111111111111,
              "#46039f"
             ],
             [
              0.2222222222222222,
              "#7201a8"
             ],
             [
              0.3333333333333333,
              "#9c179e"
             ],
             [
              0.4444444444444444,
              "#bd3786"
             ],
             [
              0.5555555555555556,
              "#d8576b"
             ],
             [
              0.6666666666666666,
              "#ed7953"
             ],
             [
              0.7777777777777778,
              "#fb9f3a"
             ],
             [
              0.8888888888888888,
              "#fdca26"
             ],
             [
              1,
              "#f0f921"
             ]
            ],
            "type": "histogram2d"
           }
          ],
          "histogram2dcontour": [
           {
            "colorbar": {
             "outlinewidth": 0,
             "ticks": ""
            },
            "colorscale": [
             [
              0,
              "#0d0887"
             ],
             [
              0.1111111111111111,
              "#46039f"
             ],
             [
              0.2222222222222222,
              "#7201a8"
             ],
             [
              0.3333333333333333,
              "#9c179e"
             ],
             [
              0.4444444444444444,
              "#bd3786"
             ],
             [
              0.5555555555555556,
              "#d8576b"
             ],
             [
              0.6666666666666666,
              "#ed7953"
             ],
             [
              0.7777777777777778,
              "#fb9f3a"
             ],
             [
              0.8888888888888888,
              "#fdca26"
             ],
             [
              1,
              "#f0f921"
             ]
            ],
            "type": "histogram2dcontour"
           }
          ],
          "mesh3d": [
           {
            "colorbar": {
             "outlinewidth": 0,
             "ticks": ""
            },
            "type": "mesh3d"
           }
          ],
          "parcoords": [
           {
            "line": {
             "colorbar": {
              "outlinewidth": 0,
              "ticks": ""
             }
            },
            "type": "parcoords"
           }
          ],
          "pie": [
           {
            "automargin": true,
            "type": "pie"
           }
          ],
          "scatter": [
           {
            "fillpattern": {
             "fillmode": "overlay",
             "size": 10,
             "solidity": 0.2
            },
            "type": "scatter"
           }
          ],
          "scatter3d": [
           {
            "line": {
             "colorbar": {
              "outlinewidth": 0,
              "ticks": ""
             }
            },
            "marker": {
             "colorbar": {
              "outlinewidth": 0,
              "ticks": ""
             }
            },
            "type": "scatter3d"
           }
          ],
          "scattercarpet": [
           {
            "marker": {
             "colorbar": {
              "outlinewidth": 0,
              "ticks": ""
             }
            },
            "type": "scattercarpet"
           }
          ],
          "scattergeo": [
           {
            "marker": {
             "colorbar": {
              "outlinewidth": 0,
              "ticks": ""
             }
            },
            "type": "scattergeo"
           }
          ],
          "scattergl": [
           {
            "marker": {
             "colorbar": {
              "outlinewidth": 0,
              "ticks": ""
             }
            },
            "type": "scattergl"
           }
          ],
          "scattermap": [
           {
            "marker": {
             "colorbar": {
              "outlinewidth": 0,
              "ticks": ""
             }
            },
            "type": "scattermap"
           }
          ],
          "scattermapbox": [
           {
            "marker": {
             "colorbar": {
              "outlinewidth": 0,
              "ticks": ""
             }
            },
            "type": "scattermapbox"
           }
          ],
          "scatterpolar": [
           {
            "marker": {
             "colorbar": {
              "outlinewidth": 0,
              "ticks": ""
             }
            },
            "type": "scatterpolar"
           }
          ],
          "scatterpolargl": [
           {
            "marker": {
             "colorbar": {
              "outlinewidth": 0,
              "ticks": ""
             }
            },
            "type": "scatterpolargl"
           }
          ],
          "scatterternary": [
           {
            "marker": {
             "colorbar": {
              "outlinewidth": 0,
              "ticks": ""
             }
            },
            "type": "scatterternary"
           }
          ],
          "surface": [
           {
            "colorbar": {
             "outlinewidth": 0,
             "ticks": ""
            },
            "colorscale": [
             [
              0,
              "#0d0887"
             ],
             [
              0.1111111111111111,
              "#46039f"
             ],
             [
              0.2222222222222222,
              "#7201a8"
             ],
             [
              0.3333333333333333,
              "#9c179e"
             ],
             [
              0.4444444444444444,
              "#bd3786"
             ],
             [
              0.5555555555555556,
              "#d8576b"
             ],
             [
              0.6666666666666666,
              "#ed7953"
             ],
             [
              0.7777777777777778,
              "#fb9f3a"
             ],
             [
              0.8888888888888888,
              "#fdca26"
             ],
             [
              1,
              "#f0f921"
             ]
            ],
            "type": "surface"
           }
          ],
          "table": [
           {
            "cells": {
             "fill": {
              "color": "#EBF0F8"
             },
             "line": {
              "color": "white"
             }
            },
            "header": {
             "fill": {
              "color": "#C8D4E3"
             },
             "line": {
              "color": "white"
             }
            },
            "type": "table"
           }
          ]
         },
         "layout": {
          "annotationdefaults": {
           "arrowcolor": "#2a3f5f",
           "arrowhead": 0,
           "arrowwidth": 1
          },
          "autotypenumbers": "strict",
          "coloraxis": {
           "colorbar": {
            "outlinewidth": 0,
            "ticks": ""
           }
          },
          "colorscale": {
           "diverging": [
            [
             0,
             "#8e0152"
            ],
            [
             0.1,
             "#c51b7d"
            ],
            [
             0.2,
             "#de77ae"
            ],
            [
             0.3,
             "#f1b6da"
            ],
            [
             0.4,
             "#fde0ef"
            ],
            [
             0.5,
             "#f7f7f7"
            ],
            [
             0.6,
             "#e6f5d0"
            ],
            [
             0.7,
             "#b8e186"
            ],
            [
             0.8,
             "#7fbc41"
            ],
            [
             0.9,
             "#4d9221"
            ],
            [
             1,
             "#276419"
            ]
           ],
           "sequential": [
            [
             0,
             "#0d0887"
            ],
            [
             0.1111111111111111,
             "#46039f"
            ],
            [
             0.2222222222222222,
             "#7201a8"
            ],
            [
             0.3333333333333333,
             "#9c179e"
            ],
            [
             0.4444444444444444,
             "#bd3786"
            ],
            [
             0.5555555555555556,
             "#d8576b"
            ],
            [
             0.6666666666666666,
             "#ed7953"
            ],
            [
             0.7777777777777778,
             "#fb9f3a"
            ],
            [
             0.8888888888888888,
             "#fdca26"
            ],
            [
             1,
             "#f0f921"
            ]
           ],
           "sequentialminus": [
            [
             0,
             "#0d0887"
            ],
            [
             0.1111111111111111,
             "#46039f"
            ],
            [
             0.2222222222222222,
             "#7201a8"
            ],
            [
             0.3333333333333333,
             "#9c179e"
            ],
            [
             0.4444444444444444,
             "#bd3786"
            ],
            [
             0.5555555555555556,
             "#d8576b"
            ],
            [
             0.6666666666666666,
             "#ed7953"
            ],
            [
             0.7777777777777778,
             "#fb9f3a"
            ],
            [
             0.8888888888888888,
             "#fdca26"
            ],
            [
             1,
             "#f0f921"
            ]
           ]
          },
          "colorway": [
           "#636efa",
           "#EF553B",
           "#00cc96",
           "#ab63fa",
           "#FFA15A",
           "#19d3f3",
           "#FF6692",
           "#B6E880",
           "#FF97FF",
           "#FECB52"
          ],
          "font": {
           "color": "#2a3f5f"
          },
          "geo": {
           "bgcolor": "white",
           "lakecolor": "white",
           "landcolor": "#E5ECF6",
           "showlakes": true,
           "showland": true,
           "subunitcolor": "white"
          },
          "hoverlabel": {
           "align": "left"
          },
          "hovermode": "closest",
          "mapbox": {
           "style": "light"
          },
          "paper_bgcolor": "white",
          "plot_bgcolor": "#E5ECF6",
          "polar": {
           "angularaxis": {
            "gridcolor": "white",
            "linecolor": "white",
            "ticks": ""
           },
           "bgcolor": "#E5ECF6",
           "radialaxis": {
            "gridcolor": "white",
            "linecolor": "white",
            "ticks": ""
           }
          },
          "scene": {
           "xaxis": {
            "backgroundcolor": "#E5ECF6",
            "gridcolor": "white",
            "gridwidth": 2,
            "linecolor": "white",
            "showbackground": true,
            "ticks": "",
            "zerolinecolor": "white"
           },
           "yaxis": {
            "backgroundcolor": "#E5ECF6",
            "gridcolor": "white",
            "gridwidth": 2,
            "linecolor": "white",
            "showbackground": true,
            "ticks": "",
            "zerolinecolor": "white"
           },
           "zaxis": {
            "backgroundcolor": "#E5ECF6",
            "gridcolor": "white",
            "gridwidth": 2,
            "linecolor": "white",
            "showbackground": true,
            "ticks": "",
            "zerolinecolor": "white"
           }
          },
          "shapedefaults": {
           "line": {
            "color": "#2a3f5f"
           }
          },
          "ternary": {
           "aaxis": {
            "gridcolor": "white",
            "linecolor": "white",
            "ticks": ""
           },
           "baxis": {
            "gridcolor": "white",
            "linecolor": "white",
            "ticks": ""
           },
           "bgcolor": "#E5ECF6",
           "caxis": {
            "gridcolor": "white",
            "linecolor": "white",
            "ticks": ""
           }
          },
          "title": {
           "x": 0.05
          },
          "xaxis": {
           "automargin": true,
           "gridcolor": "white",
           "linecolor": "white",
           "ticks": "",
           "title": {
            "standoff": 15
           },
           "zerolinecolor": "white",
           "zerolinewidth": 2
          },
          "yaxis": {
           "automargin": true,
           "gridcolor": "white",
           "linecolor": "white",
           "ticks": "",
           "title": {
            "standoff": 15
           },
           "zerolinecolor": "white",
           "zerolinewidth": 2
          }
         }
        },
        "width": 1000,
        "xaxis": {
         "anchor": "y",
         "domain": [
          0,
          0.2125
         ]
        },
        "xaxis2": {
         "anchor": "y2",
         "domain": [
          0.2625,
          0.475
         ]
        },
        "xaxis3": {
         "anchor": "y3",
         "domain": [
          0.525,
          0.7375
         ]
        },
        "xaxis4": {
         "anchor": "y4",
         "domain": [
          0.7875,
          1
         ]
        },
        "yaxis": {
         "anchor": "x",
         "domain": [
          0,
          1
         ],
         "range": [
          0.23,
          0.35
         ]
        },
        "yaxis2": {
         "anchor": "x2",
         "domain": [
          0,
          1
         ],
         "range": [
          0.23,
          0.35
         ]
        },
        "yaxis3": {
         "anchor": "x3",
         "domain": [
          0,
          1
         ],
         "range": [
          0.23,
          0.35
         ]
        },
        "yaxis4": {
         "anchor": "x4",
         "domain": [
          0,
          1
         ],
         "range": [
          0.23,
          0.35
         ]
        }
       }
      }
     },
     "metadata": {},
     "output_type": "display_data"
    }
   ],
   "source": [
    "md.plot_stacking_scores(cv_scores, val_scores, mode='mean', items_per_row=4)"
   ]
  },
  {
   "cell_type": "markdown",
   "id": "6f213a0c",
   "metadata": {},
   "source": [
    "## 4. Predictions"
   ]
  },
  {
   "cell_type": "code",
   "execution_count": 35,
   "id": "285a1b3c",
   "metadata": {},
   "outputs": [],
   "source": [
    "X_test = dt.load_test_data()"
   ]
  },
  {
   "cell_type": "code",
   "execution_count": 36,
   "id": "5bbed521",
   "metadata": {},
   "outputs": [],
   "source": [
    "n = 66\n",
    "raw_predictions = pd.get_raw_predictions(md.SVR, params['svr'][str(n)], X[features_by_importance[:n]], y, X_test[features_by_importance[:n]])\n",
    "dt.prepare_submission(raw_predictions)"
   ]
  },
  {
   "cell_type": "code",
   "execution_count": 37,
   "id": "a083ddcf",
   "metadata": {},
   "outputs": [
    {
     "data": {
      "text/plain": [
       "{'C': 13.707899835810318,\n",
       " 'gamma': 0.0010323906322973826,\n",
       " 'epsilon': 0.05825336140300437}"
      ]
     },
     "execution_count": 37,
     "metadata": {},
     "output_type": "execute_result"
    }
   ],
   "source": [
    "params['svr'][str(n)]"
   ]
  },
  {
   "cell_type": "code",
   "execution_count": 41,
   "id": "4febd283",
   "metadata": {},
   "outputs": [
    {
     "name": "stderr",
     "output_type": "stream",
     "text": [
      "/opt/miniconda3/envs/torch_study/lib/python3.11/site-packages/sklearn/utils/validation.py:2749: UserWarning:\n",
      "\n",
      "X does not have valid feature names, but LGBMRegressor was fitted with feature names\n",
      "\n",
      "/opt/miniconda3/envs/torch_study/lib/python3.11/site-packages/sklearn/utils/validation.py:2749: UserWarning:\n",
      "\n",
      "X does not have valid feature names, but LGBMRegressor was fitted with feature names\n",
      "\n",
      "/opt/miniconda3/envs/torch_study/lib/python3.11/site-packages/sklearn/utils/validation.py:2749: UserWarning:\n",
      "\n",
      "X does not have valid feature names, but LGBMRegressor was fitted with feature names\n",
      "\n",
      "/opt/miniconda3/envs/torch_study/lib/python3.11/site-packages/sklearn/utils/validation.py:2749: UserWarning:\n",
      "\n",
      "X does not have valid feature names, but LGBMRegressor was fitted with feature names\n",
      "\n",
      "/opt/miniconda3/envs/torch_study/lib/python3.11/site-packages/sklearn/utils/validation.py:2749: UserWarning:\n",
      "\n",
      "X does not have valid feature names, but LGBMRegressor was fitted with feature names\n",
      "\n",
      "/opt/miniconda3/envs/torch_study/lib/python3.11/site-packages/sklearn/utils/validation.py:2749: UserWarning:\n",
      "\n",
      "X does not have valid feature names, but LGBMRegressor was fitted with feature names\n",
      "\n"
     ]
    }
   ],
   "source": [
    "from sklearn.svm import SVR\n",
    "from sklearn.linear_model import Lasso\n",
    "\n",
    "stack_regressor = md.create_stack_regressor(model_selection, Lasso(alpha=0.001579019), features_by_importance)\n",
    "stack_regressor.fit(X, y)\n",
    "raw_predictions = stack_regressor.predict(X_test)\n",
    "dt.prepare_submission(raw_predictions)"
   ]
  }
 ],
 "metadata": {
  "kernelspec": {
   "display_name": "torch_study",
   "language": "python",
   "name": "python3"
  },
  "language_info": {
   "codemirror_mode": {
    "name": "ipython",
    "version": 3
   },
   "file_extension": ".py",
   "mimetype": "text/x-python",
   "name": "python",
   "nbconvert_exporter": "python",
   "pygments_lexer": "ipython3",
   "version": "3.11.8"
  }
 },
 "nbformat": 4,
 "nbformat_minor": 5
}
