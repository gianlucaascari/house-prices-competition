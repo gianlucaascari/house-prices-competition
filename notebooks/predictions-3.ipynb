{
 "cells": [
  {
   "cell_type": "code",
   "execution_count": 1,
   "id": "1dca2bbc",
   "metadata": {},
   "outputs": [
    {
     "name": "stderr",
     "output_type": "stream",
     "text": [
      "/opt/miniconda3/envs/torch_study/lib/python3.11/site-packages/tqdm/auto.py:21: TqdmWarning: IProgress not found. Please update jupyter and ipywidgets. See https://ipywidgets.readthedocs.io/en/stable/user_install.html\n",
      "  from .autonotebook import tqdm as notebook_tqdm\n"
     ]
    }
   ],
   "source": [
    "%load_ext autoreload\n",
    "%autoreload 2\n",
    "\n",
    "import sys\n",
    "sys.path.append(\"..\")   # se notebook sta in notebooks/ e src/ è a fianco\n",
    "\n",
    "import src.data as dt\n",
    "import src.models as md\n",
    "import src.features as ft\n",
    "import src.predict as pd\n",
    "import mlflow"
   ]
  },
  {
   "cell_type": "code",
   "execution_count": 19,
   "id": "f84dffa2",
   "metadata": {},
   "outputs": [],
   "source": [
    "X_train, X_val, y_train, y_val, full_df = dt.load_train_data()"
   ]
  },
  {
   "cell_type": "code",
   "execution_count": 20,
   "id": "d129b62f",
   "metadata": {},
   "outputs": [
    {
     "data": {
      "text/html": [
       "<div>\n",
       "<style scoped>\n",
       "    .dataframe tbody tr th:only-of-type {\n",
       "        vertical-align: middle;\n",
       "    }\n",
       "\n",
       "    .dataframe tbody tr th {\n",
       "        vertical-align: top;\n",
       "    }\n",
       "\n",
       "    .dataframe thead th {\n",
       "        text-align: right;\n",
       "    }\n",
       "</style>\n",
       "<table border=\"1\" class=\"dataframe\">\n",
       "  <thead>\n",
       "    <tr style=\"text-align: right;\">\n",
       "      <th></th>\n",
       "      <th>MSSubClass</th>\n",
       "      <th>MSZoning</th>\n",
       "      <th>LotFrontage</th>\n",
       "      <th>LotArea</th>\n",
       "      <th>Street</th>\n",
       "      <th>Alley</th>\n",
       "      <th>LotShape</th>\n",
       "      <th>LandContour</th>\n",
       "      <th>Utilities</th>\n",
       "      <th>LotConfig</th>\n",
       "      <th>...</th>\n",
       "      <th>QualArea</th>\n",
       "      <th>CondArea</th>\n",
       "      <th>HouseAge</th>\n",
       "      <th>RemodAge</th>\n",
       "      <th>HasBasement</th>\n",
       "      <th>HasGarage</th>\n",
       "      <th>HasFireplace</th>\n",
       "      <th>HasPool</th>\n",
       "      <th>Has2ndFloor</th>\n",
       "      <th>SalePrice</th>\n",
       "    </tr>\n",
       "  </thead>\n",
       "  <tbody>\n",
       "    <tr>\n",
       "      <th>0</th>\n",
       "      <td>-0.871767</td>\n",
       "      <td>0.356203</td>\n",
       "      <td>-0.067789</td>\n",
       "      <td>-0.058745</td>\n",
       "      <td>0.067698</td>\n",
       "      <td>0.215833</td>\n",
       "      <td>-0.700031</td>\n",
       "      <td>-0.009381</td>\n",
       "      <td>0.03022</td>\n",
       "      <td>-0.342755</td>\n",
       "      <td>...</td>\n",
       "      <td>-1.043770</td>\n",
       "      <td>-0.309437</td>\n",
       "      <td>0.564975</td>\n",
       "      <td>-1.052462</td>\n",
       "      <td>0.170613</td>\n",
       "      <td>0.242776</td>\n",
       "      <td>-1.064644</td>\n",
       "      <td>-0.074193</td>\n",
       "      <td>-0.870019</td>\n",
       "      <td>-0.561773</td>\n",
       "    </tr>\n",
       "    <tr>\n",
       "      <th>1</th>\n",
       "      <td>-0.871767</td>\n",
       "      <td>0.356203</td>\n",
       "      <td>-0.359720</td>\n",
       "      <td>0.354480</td>\n",
       "      <td>0.067698</td>\n",
       "      <td>0.215833</td>\n",
       "      <td>-0.700031</td>\n",
       "      <td>1.274867</td>\n",
       "      <td>0.03022</td>\n",
       "      <td>-0.342755</td>\n",
       "      <td>...</td>\n",
       "      <td>-1.638013</td>\n",
       "      <td>-0.528565</td>\n",
       "      <td>0.891369</td>\n",
       "      <td>-0.906663</td>\n",
       "      <td>-5.855872</td>\n",
       "      <td>0.242776</td>\n",
       "      <td>-1.064644</td>\n",
       "      <td>-0.074193</td>\n",
       "      <td>-0.870019</td>\n",
       "      <td>-1.726913</td>\n",
       "    </tr>\n",
       "    <tr>\n",
       "      <th>2</th>\n",
       "      <td>1.489898</td>\n",
       "      <td>-2.349035</td>\n",
       "      <td>-0.162089</td>\n",
       "      <td>-0.944902</td>\n",
       "      <td>0.067698</td>\n",
       "      <td>0.215833</td>\n",
       "      <td>0.988369</td>\n",
       "      <td>3.506864</td>\n",
       "      <td>0.03022</td>\n",
       "      <td>-0.342755</td>\n",
       "      <td>...</td>\n",
       "      <td>0.842819</td>\n",
       "      <td>0.119219</td>\n",
       "      <td>-1.197554</td>\n",
       "      <td>-1.101062</td>\n",
       "      <td>0.170613</td>\n",
       "      <td>0.242776</td>\n",
       "      <td>0.938423</td>\n",
       "      <td>-0.074193</td>\n",
       "      <td>-0.870019</td>\n",
       "      <td>2.150389</td>\n",
       "    </tr>\n",
       "    <tr>\n",
       "      <th>3</th>\n",
       "      <td>2.906896</td>\n",
       "      <td>-2.349035</td>\n",
       "      <td>-2.000666</td>\n",
       "      <td>-1.737684</td>\n",
       "      <td>0.067698</td>\n",
       "      <td>0.215833</td>\n",
       "      <td>-0.700031</td>\n",
       "      <td>-0.009381</td>\n",
       "      <td>0.03022</td>\n",
       "      <td>-0.342755</td>\n",
       "      <td>...</td>\n",
       "      <td>-0.566521</td>\n",
       "      <td>-1.057407</td>\n",
       "      <td>-1.164914</td>\n",
       "      <td>-1.101062</td>\n",
       "      <td>0.170613</td>\n",
       "      <td>0.242776</td>\n",
       "      <td>-1.064644</td>\n",
       "      <td>-0.074193</td>\n",
       "      <td>-0.870019</td>\n",
       "      <td>-0.460278</td>\n",
       "    </tr>\n",
       "    <tr>\n",
       "      <th>4</th>\n",
       "      <td>-0.871767</td>\n",
       "      <td>0.356203</td>\n",
       "      <td>0.884896</td>\n",
       "      <td>0.297002</td>\n",
       "      <td>0.067698</td>\n",
       "      <td>0.215833</td>\n",
       "      <td>0.988369</td>\n",
       "      <td>-0.009381</td>\n",
       "      <td>0.03022</td>\n",
       "      <td>-0.014918</td>\n",
       "      <td>...</td>\n",
       "      <td>-0.349867</td>\n",
       "      <td>1.018681</td>\n",
       "      <td>-0.185732</td>\n",
       "      <td>-0.955263</td>\n",
       "      <td>0.170613</td>\n",
       "      <td>0.242776</td>\n",
       "      <td>0.938423</td>\n",
       "      <td>-0.074193</td>\n",
       "      <td>-0.870019</td>\n",
       "      <td>0.661214</td>\n",
       "    </tr>\n",
       "  </tbody>\n",
       "</table>\n",
       "<p>5 rows × 93 columns</p>\n",
       "</div>"
      ],
      "text/plain": [
       "   MSSubClass  MSZoning  LotFrontage   LotArea    Street     Alley  LotShape  \\\n",
       "0   -0.871767  0.356203    -0.067789 -0.058745  0.067698  0.215833 -0.700031   \n",
       "1   -0.871767  0.356203    -0.359720  0.354480  0.067698  0.215833 -0.700031   \n",
       "2    1.489898 -2.349035    -0.162089 -0.944902  0.067698  0.215833  0.988369   \n",
       "3    2.906896 -2.349035    -2.000666 -1.737684  0.067698  0.215833 -0.700031   \n",
       "4   -0.871767  0.356203     0.884896  0.297002  0.067698  0.215833  0.988369   \n",
       "\n",
       "   LandContour  Utilities  LotConfig  ...  QualArea  CondArea  HouseAge  \\\n",
       "0    -0.009381    0.03022  -0.342755  ... -1.043770 -0.309437  0.564975   \n",
       "1     1.274867    0.03022  -0.342755  ... -1.638013 -0.528565  0.891369   \n",
       "2     3.506864    0.03022  -0.342755  ...  0.842819  0.119219 -1.197554   \n",
       "3    -0.009381    0.03022  -0.342755  ... -0.566521 -1.057407 -1.164914   \n",
       "4    -0.009381    0.03022  -0.014918  ... -0.349867  1.018681 -0.185732   \n",
       "\n",
       "   RemodAge  HasBasement  HasGarage  HasFireplace   HasPool  Has2ndFloor  \\\n",
       "0 -1.052462     0.170613   0.242776     -1.064644 -0.074193    -0.870019   \n",
       "1 -0.906663    -5.855872   0.242776     -1.064644 -0.074193    -0.870019   \n",
       "2 -1.101062     0.170613   0.242776      0.938423 -0.074193    -0.870019   \n",
       "3 -1.101062     0.170613   0.242776     -1.064644 -0.074193    -0.870019   \n",
       "4 -0.955263     0.170613   0.242776      0.938423 -0.074193    -0.870019   \n",
       "\n",
       "   SalePrice  \n",
       "0  -0.561773  \n",
       "1  -1.726913  \n",
       "2   2.150389  \n",
       "3  -0.460278  \n",
       "4   0.661214  \n",
       "\n",
       "[5 rows x 93 columns]"
      ]
     },
     "execution_count": 20,
     "metadata": {},
     "output_type": "execute_result"
    }
   ],
   "source": [
    "full_df.head()"
   ]
  },
  {
   "cell_type": "code",
   "execution_count": 10,
   "id": "85cc3e34",
   "metadata": {},
   "outputs": [],
   "source": [
    "mlflow.set_tracking_uri('http://127.0.0.1:8080')\n",
    "experiment = mlflow.set_experiment('Kaggle_Ames_Housing')\n",
    "\n",
    "dataset = mlflow.data.from_pandas(full_df, name='93_features_log_attr_targ')"
   ]
  },
  {
   "cell_type": "markdown",
   "id": "db9ec6b8",
   "metadata": {},
   "source": [
    "## 2. Feature Importance"
   ]
  },
  {
   "cell_type": "code",
   "execution_count": 11,
   "id": "8115cdb1",
   "metadata": {},
   "outputs": [
    {
     "name": "stdout",
     "output_type": "stream",
     "text": [
      "Values to compute: xgb, ctb, lgb, svr, mlp, knn.\n",
      "xgb analyzed.\n",
      "ctb analyzed.\n",
      "lgb analyzed.\n"
     ]
    },
    {
     "name": "stderr",
     "output_type": "stream",
     "text": [
      "100%|██████████| 150/150 [03:56<00:00,  1.58s/it]\n"
     ]
    },
    {
     "name": "stdout",
     "output_type": "stream",
     "text": [
      "svr analyzed.\n"
     ]
    },
    {
     "name": "stderr",
     "output_type": "stream",
     "text": [
      "100%|██████████| 150/150 [00:04<00:00, 30.38it/s]\n"
     ]
    },
    {
     "name": "stdout",
     "output_type": "stream",
     "text": [
      "mlp analyzed.\n"
     ]
    },
    {
     "name": "stderr",
     "output_type": "stream",
     "text": [
      "100%|██████████| 150/150 [00:08<00:00, 17.79it/s]"
     ]
    },
    {
     "name": "stdout",
     "output_type": "stream",
     "text": [
      "knn analyzed.\n",
      "a\n",
      "a\n",
      "a\n",
      "a\n",
      "a\n",
      "a\n",
      "(92, 7)\n",
      "92\n"
     ]
    },
    {
     "name": "stderr",
     "output_type": "stream",
     "text": [
      "\n"
     ]
    },
    {
     "data": {
      "text/html": [
       "<div>\n",
       "<style scoped>\n",
       "    .dataframe tbody tr th:only-of-type {\n",
       "        vertical-align: middle;\n",
       "    }\n",
       "\n",
       "    .dataframe tbody tr th {\n",
       "        vertical-align: top;\n",
       "    }\n",
       "\n",
       "    .dataframe thead th {\n",
       "        text-align: right;\n",
       "    }\n",
       "</style>\n",
       "<table border=\"1\" class=\"dataframe\">\n",
       "  <thead>\n",
       "    <tr style=\"text-align: right;\">\n",
       "      <th></th>\n",
       "      <th>feature</th>\n",
       "      <th>importance_xgb</th>\n",
       "      <th>importance_ctb</th>\n",
       "      <th>importance_lgb</th>\n",
       "      <th>importance_svr</th>\n",
       "      <th>importance_mlp</th>\n",
       "      <th>importance_knn</th>\n",
       "    </tr>\n",
       "  </thead>\n",
       "  <tbody>\n",
       "    <tr>\n",
       "      <th>42</th>\n",
       "      <td>1stFlrSF</td>\n",
       "      <td>0.011525</td>\n",
       "      <td>0.021607</td>\n",
       "      <td>0.012634</td>\n",
       "      <td>0.032836</td>\n",
       "      <td>0.016621</td>\n",
       "      <td>0.016313</td>\n",
       "    </tr>\n",
       "    <tr>\n",
       "      <th>43</th>\n",
       "      <td>2ndFlrSF</td>\n",
       "      <td>0.005384</td>\n",
       "      <td>0.012723</td>\n",
       "      <td>0.004331</td>\n",
       "      <td>0.001088</td>\n",
       "      <td>0.070467</td>\n",
       "      <td>0.006724</td>\n",
       "    </tr>\n",
       "    <tr>\n",
       "      <th>68</th>\n",
       "      <td>3SsnPorch</td>\n",
       "      <td>0.001234</td>\n",
       "      <td>0.000409</td>\n",
       "      <td>0.000158</td>\n",
       "      <td>0.003090</td>\n",
       "      <td>0.003583</td>\n",
       "      <td>0.006563</td>\n",
       "    </tr>\n",
       "    <tr>\n",
       "      <th>5</th>\n",
       "      <td>Alley</td>\n",
       "      <td>0.003834</td>\n",
       "      <td>0.000392</td>\n",
       "      <td>0.000185</td>\n",
       "      <td>0.003206</td>\n",
       "      <td>0.003025</td>\n",
       "      <td>0.006928</td>\n",
       "    </tr>\n",
       "    <tr>\n",
       "      <th>50</th>\n",
       "      <td>BedroomAbvGr</td>\n",
       "      <td>0.004635</td>\n",
       "      <td>0.001634</td>\n",
       "      <td>0.001630</td>\n",
       "      <td>0.000683</td>\n",
       "      <td>0.005438</td>\n",
       "      <td>0.000832</td>\n",
       "    </tr>\n",
       "  </tbody>\n",
       "</table>\n",
       "</div>"
      ],
      "text/plain": [
       "         feature  importance_xgb  importance_ctb  importance_lgb  \\\n",
       "42      1stFlrSF        0.011525        0.021607        0.012634   \n",
       "43      2ndFlrSF        0.005384        0.012723        0.004331   \n",
       "68     3SsnPorch        0.001234        0.000409        0.000158   \n",
       "5          Alley        0.003834        0.000392        0.000185   \n",
       "50  BedroomAbvGr        0.004635        0.001634        0.001630   \n",
       "\n",
       "    importance_svr  importance_mlp  importance_knn  \n",
       "42        0.032836        0.016621        0.016313  \n",
       "43        0.001088        0.070467        0.006724  \n",
       "68        0.003090        0.003583        0.006563  \n",
       "5         0.003206        0.003025        0.006928  \n",
       "50        0.000683        0.005438        0.000832  "
      ]
     },
     "execution_count": 11,
     "metadata": {},
     "output_type": "execute_result"
    }
   ],
   "source": [
    "importance_dfs = ft.get_feature_importances(md.MODELS, X_train, y_train)\n",
    "importance_df = ft.combine_feature_importances(importance_dfs)\n",
    "\n",
    "print(importance_df.shape)\n",
    "print(len(importance_df))\n",
    "importance_df.head()"
   ]
  },
  {
   "cell_type": "code",
   "execution_count": 12,
   "id": "0b845898",
   "metadata": {},
   "outputs": [
    {
     "data": {
      "application/vnd.plotly.v1+json": {
       "config": {
        "plotlyServerURL": "https://plot.ly"
       },
       "data": [
        {
         "alignmentgroup": "True",
         "hovertemplate": "model=xgb<br>feature=%{x}<br>importance=%{y}<extra></extra>",
         "legendgroup": "xgb",
         "marker": {
          "color": "#636efa",
          "pattern": {
           "shape": ""
          }
         },
         "name": "xgb",
         "offsetgroup": "xgb",
         "orientation": "v",
         "showlegend": true,
         "textposition": "auto",
         "type": "bar",
         "x": [
          "QualArea",
          "TotalSF",
          "Neighborhood",
          "CondArea",
          "OverallQual",
          "GarageCars",
          "YearBuilt",
          "LotArea",
          "BsmtFinSF1",
          "KitchenQual",
          "GrLivArea",
          "OverallGrade",
          "TotalBath",
          "TotalBsmtSF",
          "1stFlrSF"
         ],
         "xaxis": "x",
         "y": {
          "bdata": "AAAAoHNI2z8AAAAgZFK0PwAAACBUTrw/AAAAIDiwpz8AAACA/NejPwAAAIBg+KE/AAAAQPTZlz8AAABgDD2iPwAAAODt3qQ/AAAAoPKPnj8AAACA/GB3PwAAAKARH5U/AAAAoICKiD8AAADgeFahPwAAAKBXmoc/",
          "dtype": "f8"
         },
         "yaxis": "y"
        },
        {
         "alignmentgroup": "True",
         "hovertemplate": "model=ctb<br>feature=%{x}<br>importance=%{y}<extra></extra>",
         "legendgroup": "ctb",
         "marker": {
          "color": "#EF553B",
          "pattern": {
           "shape": ""
          }
         },
         "name": "ctb",
         "offsetgroup": "ctb",
         "orientation": "v",
         "showlegend": true,
         "textposition": "auto",
         "type": "bar",
         "x": [
          "QualArea",
          "TotalSF",
          "Neighborhood",
          "CondArea",
          "OverallQual",
          "GarageCars",
          "YearBuilt",
          "LotArea",
          "BsmtFinSF1",
          "KitchenQual",
          "GrLivArea",
          "OverallGrade",
          "TotalBath",
          "TotalBsmtSF",
          "1stFlrSF"
         ],
         "xaxis": "x",
         "y": {
          "bdata": "xrVuSwzlvj8UjlE5hMe+P5QRRnSEIbg/bHixBYRCrz8IuxWOsDOrP0wW9CX9RKE/DOGjO0gbmj9SL637sSWfP/Tp/VhWcJc/Bwg634KsoT/iHFYXOaGaPxtSBcJwt6U/cX9YQGm0qz98wz72q1qbP3NZnYEFIJY/",
          "dtype": "f8"
         },
         "yaxis": "y"
        },
        {
         "alignmentgroup": "True",
         "hovertemplate": "model=lgb<br>feature=%{x}<br>importance=%{y}<extra></extra>",
         "legendgroup": "lgb",
         "marker": {
          "color": "#00cc96",
          "pattern": {
           "shape": ""
          }
         },
         "name": "lgb",
         "offsetgroup": "lgb",
         "orientation": "v",
         "showlegend": true,
         "textposition": "auto",
         "type": "bar",
         "x": [
          "QualArea",
          "TotalSF",
          "Neighborhood",
          "CondArea",
          "OverallQual",
          "GarageCars",
          "YearBuilt",
          "LotArea",
          "BsmtFinSF1",
          "KitchenQual",
          "GrLivArea",
          "OverallGrade",
          "TotalBath",
          "TotalBsmtSF",
          "1stFlrSF"
         ],
         "xaxis": "x",
         "y": {
          "bdata": "T5GE0Rn41j8r2WBYPHC4P+lsVoL8lMA/iM6odQnKqj8NklQGSPWqP1oHKGkI7ps/4x+RumQ9mD8hkFn1UTicP2j0g15lgaI/aAQdbzlZoD/R/u8lKkp5Pyv6t0cDRp0/iR4mrrLGij+pgis7/hyfP0+oMt8L4Ik/",
          "dtype": "f8"
         },
         "yaxis": "y"
        },
        {
         "alignmentgroup": "True",
         "hovertemplate": "model=svr<br>feature=%{x}<br>importance=%{y}<extra></extra>",
         "legendgroup": "svr",
         "marker": {
          "color": "#ab63fa",
          "pattern": {
           "shape": ""
          }
         },
         "name": "svr",
         "offsetgroup": "svr",
         "orientation": "v",
         "showlegend": true,
         "textposition": "auto",
         "type": "bar",
         "x": [
          "QualArea",
          "TotalSF",
          "Neighborhood",
          "CondArea",
          "OverallQual",
          "GarageCars",
          "YearBuilt",
          "LotArea",
          "BsmtFinSF1",
          "KitchenQual",
          "GrLivArea",
          "OverallGrade",
          "TotalBath",
          "TotalBsmtSF",
          "1stFlrSF"
         ],
         "xaxis": "x",
         "y": {
          "bdata": "SXQIhs+UsT/sOoNJkyO0P/3Q6kmfgpg/ve3Xc7h1sT/Z7jAqWSKmP3K0iJDei6A/PzcqMgWbkj9eeUT8n+igP168FClohJk/JP7k7qJMkj8dGh5UYUSwPzoCaICAmp0/g3ZklFn1cj93fPg9jv9zP0WtWnHXz6A/",
          "dtype": "f8"
         },
         "yaxis": "y"
        },
        {
         "alignmentgroup": "True",
         "hovertemplate": "model=mlp<br>feature=%{x}<br>importance=%{y}<extra></extra>",
         "legendgroup": "mlp",
         "marker": {
          "color": "#FFA15A",
          "pattern": {
           "shape": ""
          }
         },
         "name": "mlp",
         "offsetgroup": "mlp",
         "orientation": "v",
         "showlegend": true,
         "textposition": "auto",
         "type": "bar",
         "x": [
          "QualArea",
          "TotalSF",
          "Neighborhood",
          "CondArea",
          "OverallQual",
          "GarageCars",
          "YearBuilt",
          "LotArea",
          "BsmtFinSF1",
          "KitchenQual",
          "GrLivArea",
          "OverallGrade",
          "TotalBath",
          "TotalBsmtSF",
          "1stFlrSF"
         ],
         "xaxis": "x",
         "y": {
          "bdata": "uwNFwo8sxj8a1DhLpdeuP6QeJ7vrMJ8/e/cE7uZMsj9cRZlgT8iDP2/L6BUKqp4/TjqT29IftD/J6FrPOTSkP9qC/kX024M/YWP0GgpRgj8J8WIPwNd8PwJh0bEyAl8/HmbB/Xr0Vz/4SjZC2uyBP9EX8+4VBZE/",
          "dtype": "f8"
         },
         "yaxis": "y"
        },
        {
         "alignmentgroup": "True",
         "hovertemplate": "model=knn<br>feature=%{x}<br>importance=%{y}<extra></extra>",
         "legendgroup": "knn",
         "marker": {
          "color": "#19d3f3",
          "pattern": {
           "shape": ""
          }
         },
         "name": "knn",
         "offsetgroup": "knn",
         "orientation": "v",
         "showlegend": true,
         "textposition": "auto",
         "type": "bar",
         "x": [
          "QualArea",
          "TotalSF",
          "Neighborhood",
          "CondArea",
          "OverallQual",
          "GarageCars",
          "YearBuilt",
          "LotArea",
          "BsmtFinSF1",
          "KitchenQual",
          "GrLivArea",
          "OverallGrade",
          "TotalBath",
          "TotalBsmtSF",
          "1stFlrSF"
         ],
         "xaxis": "x",
         "y": {
          "bdata": "iAngb0GnoD9Eg9Ldiu2ZPxMY8j+2mZQ/v/TbVrZsmT+b2JoX/86YPzkp8EGopJg/8SbLsN5zcz+UvssMkSx8P72ALHpY04c/YP9Yov06lD8FtXLeK4mgPwTiIpUS64Q/jhRNEUGznD+3kxD9nEF9Px+LPv5ytJA/",
          "dtype": "f8"
         },
         "yaxis": "y"
        }
       ],
       "layout": {
        "barmode": "group",
        "legend": {
         "title": {
          "text": "model"
         },
         "tracegroupgap": 0
        },
        "margin": {
         "t": 60
        },
        "template": {
         "data": {
          "bar": [
           {
            "error_x": {
             "color": "#2a3f5f"
            },
            "error_y": {
             "color": "#2a3f5f"
            },
            "marker": {
             "line": {
              "color": "#E5ECF6",
              "width": 0.5
             },
             "pattern": {
              "fillmode": "overlay",
              "size": 10,
              "solidity": 0.2
             }
            },
            "type": "bar"
           }
          ],
          "barpolar": [
           {
            "marker": {
             "line": {
              "color": "#E5ECF6",
              "width": 0.5
             },
             "pattern": {
              "fillmode": "overlay",
              "size": 10,
              "solidity": 0.2
             }
            },
            "type": "barpolar"
           }
          ],
          "carpet": [
           {
            "aaxis": {
             "endlinecolor": "#2a3f5f",
             "gridcolor": "white",
             "linecolor": "white",
             "minorgridcolor": "white",
             "startlinecolor": "#2a3f5f"
            },
            "baxis": {
             "endlinecolor": "#2a3f5f",
             "gridcolor": "white",
             "linecolor": "white",
             "minorgridcolor": "white",
             "startlinecolor": "#2a3f5f"
            },
            "type": "carpet"
           }
          ],
          "choropleth": [
           {
            "colorbar": {
             "outlinewidth": 0,
             "ticks": ""
            },
            "type": "choropleth"
           }
          ],
          "contour": [
           {
            "colorbar": {
             "outlinewidth": 0,
             "ticks": ""
            },
            "colorscale": [
             [
              0,
              "#0d0887"
             ],
             [
              0.1111111111111111,
              "#46039f"
             ],
             [
              0.2222222222222222,
              "#7201a8"
             ],
             [
              0.3333333333333333,
              "#9c179e"
             ],
             [
              0.4444444444444444,
              "#bd3786"
             ],
             [
              0.5555555555555556,
              "#d8576b"
             ],
             [
              0.6666666666666666,
              "#ed7953"
             ],
             [
              0.7777777777777778,
              "#fb9f3a"
             ],
             [
              0.8888888888888888,
              "#fdca26"
             ],
             [
              1,
              "#f0f921"
             ]
            ],
            "type": "contour"
           }
          ],
          "contourcarpet": [
           {
            "colorbar": {
             "outlinewidth": 0,
             "ticks": ""
            },
            "type": "contourcarpet"
           }
          ],
          "heatmap": [
           {
            "colorbar": {
             "outlinewidth": 0,
             "ticks": ""
            },
            "colorscale": [
             [
              0,
              "#0d0887"
             ],
             [
              0.1111111111111111,
              "#46039f"
             ],
             [
              0.2222222222222222,
              "#7201a8"
             ],
             [
              0.3333333333333333,
              "#9c179e"
             ],
             [
              0.4444444444444444,
              "#bd3786"
             ],
             [
              0.5555555555555556,
              "#d8576b"
             ],
             [
              0.6666666666666666,
              "#ed7953"
             ],
             [
              0.7777777777777778,
              "#fb9f3a"
             ],
             [
              0.8888888888888888,
              "#fdca26"
             ],
             [
              1,
              "#f0f921"
             ]
            ],
            "type": "heatmap"
           }
          ],
          "histogram": [
           {
            "marker": {
             "pattern": {
              "fillmode": "overlay",
              "size": 10,
              "solidity": 0.2
             }
            },
            "type": "histogram"
           }
          ],
          "histogram2d": [
           {
            "colorbar": {
             "outlinewidth": 0,
             "ticks": ""
            },
            "colorscale": [
             [
              0,
              "#0d0887"
             ],
             [
              0.1111111111111111,
              "#46039f"
             ],
             [
              0.2222222222222222,
              "#7201a8"
             ],
             [
              0.3333333333333333,
              "#9c179e"
             ],
             [
              0.4444444444444444,
              "#bd3786"
             ],
             [
              0.5555555555555556,
              "#d8576b"
             ],
             [
              0.6666666666666666,
              "#ed7953"
             ],
             [
              0.7777777777777778,
              "#fb9f3a"
             ],
             [
              0.8888888888888888,
              "#fdca26"
             ],
             [
              1,
              "#f0f921"
             ]
            ],
            "type": "histogram2d"
           }
          ],
          "histogram2dcontour": [
           {
            "colorbar": {
             "outlinewidth": 0,
             "ticks": ""
            },
            "colorscale": [
             [
              0,
              "#0d0887"
             ],
             [
              0.1111111111111111,
              "#46039f"
             ],
             [
              0.2222222222222222,
              "#7201a8"
             ],
             [
              0.3333333333333333,
              "#9c179e"
             ],
             [
              0.4444444444444444,
              "#bd3786"
             ],
             [
              0.5555555555555556,
              "#d8576b"
             ],
             [
              0.6666666666666666,
              "#ed7953"
             ],
             [
              0.7777777777777778,
              "#fb9f3a"
             ],
             [
              0.8888888888888888,
              "#fdca26"
             ],
             [
              1,
              "#f0f921"
             ]
            ],
            "type": "histogram2dcontour"
           }
          ],
          "mesh3d": [
           {
            "colorbar": {
             "outlinewidth": 0,
             "ticks": ""
            },
            "type": "mesh3d"
           }
          ],
          "parcoords": [
           {
            "line": {
             "colorbar": {
              "outlinewidth": 0,
              "ticks": ""
             }
            },
            "type": "parcoords"
           }
          ],
          "pie": [
           {
            "automargin": true,
            "type": "pie"
           }
          ],
          "scatter": [
           {
            "fillpattern": {
             "fillmode": "overlay",
             "size": 10,
             "solidity": 0.2
            },
            "type": "scatter"
           }
          ],
          "scatter3d": [
           {
            "line": {
             "colorbar": {
              "outlinewidth": 0,
              "ticks": ""
             }
            },
            "marker": {
             "colorbar": {
              "outlinewidth": 0,
              "ticks": ""
             }
            },
            "type": "scatter3d"
           }
          ],
          "scattercarpet": [
           {
            "marker": {
             "colorbar": {
              "outlinewidth": 0,
              "ticks": ""
             }
            },
            "type": "scattercarpet"
           }
          ],
          "scattergeo": [
           {
            "marker": {
             "colorbar": {
              "outlinewidth": 0,
              "ticks": ""
             }
            },
            "type": "scattergeo"
           }
          ],
          "scattergl": [
           {
            "marker": {
             "colorbar": {
              "outlinewidth": 0,
              "ticks": ""
             }
            },
            "type": "scattergl"
           }
          ],
          "scattermap": [
           {
            "marker": {
             "colorbar": {
              "outlinewidth": 0,
              "ticks": ""
             }
            },
            "type": "scattermap"
           }
          ],
          "scattermapbox": [
           {
            "marker": {
             "colorbar": {
              "outlinewidth": 0,
              "ticks": ""
             }
            },
            "type": "scattermapbox"
           }
          ],
          "scatterpolar": [
           {
            "marker": {
             "colorbar": {
              "outlinewidth": 0,
              "ticks": ""
             }
            },
            "type": "scatterpolar"
           }
          ],
          "scatterpolargl": [
           {
            "marker": {
             "colorbar": {
              "outlinewidth": 0,
              "ticks": ""
             }
            },
            "type": "scatterpolargl"
           }
          ],
          "scatterternary": [
           {
            "marker": {
             "colorbar": {
              "outlinewidth": 0,
              "ticks": ""
             }
            },
            "type": "scatterternary"
           }
          ],
          "surface": [
           {
            "colorbar": {
             "outlinewidth": 0,
             "ticks": ""
            },
            "colorscale": [
             [
              0,
              "#0d0887"
             ],
             [
              0.1111111111111111,
              "#46039f"
             ],
             [
              0.2222222222222222,
              "#7201a8"
             ],
             [
              0.3333333333333333,
              "#9c179e"
             ],
             [
              0.4444444444444444,
              "#bd3786"
             ],
             [
              0.5555555555555556,
              "#d8576b"
             ],
             [
              0.6666666666666666,
              "#ed7953"
             ],
             [
              0.7777777777777778,
              "#fb9f3a"
             ],
             [
              0.8888888888888888,
              "#fdca26"
             ],
             [
              1,
              "#f0f921"
             ]
            ],
            "type": "surface"
           }
          ],
          "table": [
           {
            "cells": {
             "fill": {
              "color": "#EBF0F8"
             },
             "line": {
              "color": "white"
             }
            },
            "header": {
             "fill": {
              "color": "#C8D4E3"
             },
             "line": {
              "color": "white"
             }
            },
            "type": "table"
           }
          ]
         },
         "layout": {
          "annotationdefaults": {
           "arrowcolor": "#2a3f5f",
           "arrowhead": 0,
           "arrowwidth": 1
          },
          "autotypenumbers": "strict",
          "coloraxis": {
           "colorbar": {
            "outlinewidth": 0,
            "ticks": ""
           }
          },
          "colorscale": {
           "diverging": [
            [
             0,
             "#8e0152"
            ],
            [
             0.1,
             "#c51b7d"
            ],
            [
             0.2,
             "#de77ae"
            ],
            [
             0.3,
             "#f1b6da"
            ],
            [
             0.4,
             "#fde0ef"
            ],
            [
             0.5,
             "#f7f7f7"
            ],
            [
             0.6,
             "#e6f5d0"
            ],
            [
             0.7,
             "#b8e186"
            ],
            [
             0.8,
             "#7fbc41"
            ],
            [
             0.9,
             "#4d9221"
            ],
            [
             1,
             "#276419"
            ]
           ],
           "sequential": [
            [
             0,
             "#0d0887"
            ],
            [
             0.1111111111111111,
             "#46039f"
            ],
            [
             0.2222222222222222,
             "#7201a8"
            ],
            [
             0.3333333333333333,
             "#9c179e"
            ],
            [
             0.4444444444444444,
             "#bd3786"
            ],
            [
             0.5555555555555556,
             "#d8576b"
            ],
            [
             0.6666666666666666,
             "#ed7953"
            ],
            [
             0.7777777777777778,
             "#fb9f3a"
            ],
            [
             0.8888888888888888,
             "#fdca26"
            ],
            [
             1,
             "#f0f921"
            ]
           ],
           "sequentialminus": [
            [
             0,
             "#0d0887"
            ],
            [
             0.1111111111111111,
             "#46039f"
            ],
            [
             0.2222222222222222,
             "#7201a8"
            ],
            [
             0.3333333333333333,
             "#9c179e"
            ],
            [
             0.4444444444444444,
             "#bd3786"
            ],
            [
             0.5555555555555556,
             "#d8576b"
            ],
            [
             0.6666666666666666,
             "#ed7953"
            ],
            [
             0.7777777777777778,
             "#fb9f3a"
            ],
            [
             0.8888888888888888,
             "#fdca26"
            ],
            [
             1,
             "#f0f921"
            ]
           ]
          },
          "colorway": [
           "#636efa",
           "#EF553B",
           "#00cc96",
           "#ab63fa",
           "#FFA15A",
           "#19d3f3",
           "#FF6692",
           "#B6E880",
           "#FF97FF",
           "#FECB52"
          ],
          "font": {
           "color": "#2a3f5f"
          },
          "geo": {
           "bgcolor": "white",
           "lakecolor": "white",
           "landcolor": "#E5ECF6",
           "showlakes": true,
           "showland": true,
           "subunitcolor": "white"
          },
          "hoverlabel": {
           "align": "left"
          },
          "hovermode": "closest",
          "mapbox": {
           "style": "light"
          },
          "paper_bgcolor": "white",
          "plot_bgcolor": "#E5ECF6",
          "polar": {
           "angularaxis": {
            "gridcolor": "white",
            "linecolor": "white",
            "ticks": ""
           },
           "bgcolor": "#E5ECF6",
           "radialaxis": {
            "gridcolor": "white",
            "linecolor": "white",
            "ticks": ""
           }
          },
          "scene": {
           "xaxis": {
            "backgroundcolor": "#E5ECF6",
            "gridcolor": "white",
            "gridwidth": 2,
            "linecolor": "white",
            "showbackground": true,
            "ticks": "",
            "zerolinecolor": "white"
           },
           "yaxis": {
            "backgroundcolor": "#E5ECF6",
            "gridcolor": "white",
            "gridwidth": 2,
            "linecolor": "white",
            "showbackground": true,
            "ticks": "",
            "zerolinecolor": "white"
           },
           "zaxis": {
            "backgroundcolor": "#E5ECF6",
            "gridcolor": "white",
            "gridwidth": 2,
            "linecolor": "white",
            "showbackground": true,
            "ticks": "",
            "zerolinecolor": "white"
           }
          },
          "shapedefaults": {
           "line": {
            "color": "#2a3f5f"
           }
          },
          "ternary": {
           "aaxis": {
            "gridcolor": "white",
            "linecolor": "white",
            "ticks": ""
           },
           "baxis": {
            "gridcolor": "white",
            "linecolor": "white",
            "ticks": ""
           },
           "bgcolor": "#E5ECF6",
           "caxis": {
            "gridcolor": "white",
            "linecolor": "white",
            "ticks": ""
           }
          },
          "title": {
           "x": 0.05
          },
          "xaxis": {
           "automargin": true,
           "gridcolor": "white",
           "linecolor": "white",
           "ticks": "",
           "title": {
            "standoff": 15
           },
           "zerolinecolor": "white",
           "zerolinewidth": 2
          },
          "yaxis": {
           "automargin": true,
           "gridcolor": "white",
           "linecolor": "white",
           "ticks": "",
           "title": {
            "standoff": 15
           },
           "zerolinecolor": "white",
           "zerolinewidth": 2
          }
         }
        },
        "xaxis": {
         "anchor": "y",
         "domain": [
          0,
          1
         ],
         "title": {
          "text": "feature"
         }
        },
        "yaxis": {
         "anchor": "x",
         "domain": [
          0,
          1
         ],
         "title": {
          "text": "importance"
         }
        }
       }
      }
     },
     "metadata": {},
     "output_type": "display_data"
    },
    {
     "data": {
      "application/vnd.plotly.v1+json": {
       "config": {
        "plotlyServerURL": "https://plot.ly"
       },
       "data": [
        {
         "alignmentgroup": "True",
         "hovertemplate": "model=xgb<br>feature=%{x}<br>rank=%{y}<extra></extra>",
         "legendgroup": "xgb",
         "marker": {
          "color": "#636efa",
          "pattern": {
           "shape": ""
          }
         },
         "name": "xgb",
         "offsetgroup": "xgb",
         "orientation": "v",
         "showlegend": true,
         "textposition": "auto",
         "type": "bar",
         "x": [
          "QualArea",
          "TotalSF",
          "CondArea",
          "Neighborhood",
          "OverallQual",
          "GarageCars",
          "LotArea",
          "KitchenQual",
          "BsmtFinSF1",
          "1stFlrSF",
          "GarageArea",
          "BsmtFinType1",
          "YearBuilt",
          "TotalBsmtSF",
          "GrLivArea"
         ],
         "xaxis": "x",
         "y": {
          "bdata": "AAAAAAAA8D8AAAAAAAAIQAAAAAAAABBAAAAAAAAAAEAAAAAAAAAYQAAAAAAAACBAAAAAAAAAHEAAAAAAAAAkQAAAAAAAABRAAAAAAAAAO0AAAAAAAAAwQAAAAAAAACpAAAAAAAAALEAAAAAAAAAiQAAAAAAAgERA",
          "dtype": "f8"
         },
         "yaxis": "y"
        },
        {
         "alignmentgroup": "True",
         "hovertemplate": "model=ctb<br>feature=%{x}<br>rank=%{y}<extra></extra>",
         "legendgroup": "ctb",
         "marker": {
          "color": "#EF553B",
          "pattern": {
           "shape": ""
          }
         },
         "name": "ctb",
         "offsetgroup": "ctb",
         "orientation": "v",
         "showlegend": true,
         "textposition": "auto",
         "type": "bar",
         "x": [
          "QualArea",
          "TotalSF",
          "CondArea",
          "Neighborhood",
          "OverallQual",
          "GarageCars",
          "LotArea",
          "KitchenQual",
          "BsmtFinSF1",
          "1stFlrSF",
          "GarageArea",
          "BsmtFinType1",
          "YearBuilt",
          "TotalBsmtSF",
          "GrLivArea"
         ],
         "xaxis": "x",
         "y": {
          "bdata": "AAAAAAAA8D8AAAAAAAAAQAAAAAAAABBAAAAAAAAACEAAAAAAAAAYQAAAAAAAACRAAAAAAAAAKEAAAAAAAAAiQAAAAAAAADVAAAAAAAAAOUAAAAAAAAA4QAAAAAAAADJAAAAAAAAAMUAAAAAAAAAsQAAAAAAAAC5A",
          "dtype": "f8"
         },
         "yaxis": "y"
        },
        {
         "alignmentgroup": "True",
         "hovertemplate": "model=lgb<br>feature=%{x}<br>rank=%{y}<extra></extra>",
         "legendgroup": "lgb",
         "marker": {
          "color": "#00cc96",
          "pattern": {
           "shape": ""
          }
         },
         "name": "lgb",
         "offsetgroup": "lgb",
         "orientation": "v",
         "showlegend": true,
         "textposition": "auto",
         "type": "bar",
         "x": [
          "QualArea",
          "TotalSF",
          "CondArea",
          "Neighborhood",
          "OverallQual",
          "GarageCars",
          "LotArea",
          "KitchenQual",
          "BsmtFinSF1",
          "1stFlrSF",
          "GarageArea",
          "BsmtFinType1",
          "YearBuilt",
          "TotalBsmtSF",
          "GrLivArea"
         ],
         "xaxis": "x",
         "y": {
          "bdata": "AAAAAAAA8D8AAAAAAAAIQAAAAAAAABRAAAAAAAAAAEAAAAAAAAAQQAAAAAAAAChAAAAAAAAAJkAAAAAAAAAcQAAAAAAAABhAAAAAAAAAO0AAAAAAAAA1QAAAAAAAACpAAAAAAAAALEAAAAAAAAAgQAAAAAAAAEVA",
          "dtype": "f8"
         },
         "yaxis": "y"
        },
        {
         "alignmentgroup": "True",
         "hovertemplate": "model=svr<br>feature=%{x}<br>rank=%{y}<extra></extra>",
         "legendgroup": "svr",
         "marker": {
          "color": "#ab63fa",
          "pattern": {
           "shape": ""
          }
         },
         "name": "svr",
         "offsetgroup": "svr",
         "orientation": "v",
         "showlegend": true,
         "textposition": "auto",
         "type": "bar",
         "x": [
          "QualArea",
          "TotalSF",
          "CondArea",
          "Neighborhood",
          "OverallQual",
          "GarageCars",
          "LotArea",
          "KitchenQual",
          "BsmtFinSF1",
          "1stFlrSF",
          "GarageArea",
          "BsmtFinType1",
          "YearBuilt",
          "TotalBsmtSF",
          "GrLivArea"
         ],
         "xaxis": "x",
         "y": {
          "bdata": "AAAAAAAAAEAAAAAAAADwPwAAAAAAAAhAAAAAAAAAJkAAAAAAAAAUQAAAAAAAACBAAAAAAAAAGEAAAAAAAAAxQAAAAAAAACRAAAAAAAAAHEAAAAAAAAAoQAAAAAAAADVAAAAAAAAAMEAAAAAAAIBAQAAAAAAAABBA",
          "dtype": "f8"
         },
         "yaxis": "y"
        },
        {
         "alignmentgroup": "True",
         "hovertemplate": "model=mlp<br>feature=%{x}<br>rank=%{y}<extra></extra>",
         "legendgroup": "mlp",
         "marker": {
          "color": "#FFA15A",
          "pattern": {
           "shape": ""
          }
         },
         "name": "mlp",
         "offsetgroup": "mlp",
         "orientation": "v",
         "showlegend": true,
         "textposition": "auto",
         "type": "bar",
         "x": [
          "QualArea",
          "TotalSF",
          "CondArea",
          "Neighborhood",
          "OverallQual",
          "GarageCars",
          "LotArea",
          "KitchenQual",
          "BsmtFinSF1",
          "1stFlrSF",
          "GarageArea",
          "BsmtFinType1",
          "YearBuilt",
          "TotalBsmtSF",
          "GrLivArea"
         ],
         "xaxis": "x",
         "y": {
          "bdata": "AAAAAAAA8D8AAAAAAAAUQAAAAAAAAAhAAAAAAAAAIEAAAAAAAAA7QAAAAAAAACRAAAAAAAAAHEAAAAAAAAA8QAAAAAAAADpAAAAAAAAALkAAAAAAAAA+QAAAAAAAADVAAAAAAAAAAEAAAAAAAAA9QAAAAAAAgEFA",
          "dtype": "f8"
         },
         "yaxis": "y"
        },
        {
         "alignmentgroup": "True",
         "hovertemplate": "model=knn<br>feature=%{x}<br>rank=%{y}<extra></extra>",
         "legendgroup": "knn",
         "marker": {
          "color": "#19d3f3",
          "pattern": {
           "shape": ""
          }
         },
         "name": "knn",
         "offsetgroup": "knn",
         "orientation": "v",
         "showlegend": true,
         "textposition": "auto",
         "type": "bar",
         "x": [
          "QualArea",
          "TotalSF",
          "CondArea",
          "Neighborhood",
          "OverallQual",
          "GarageCars",
          "LotArea",
          "KitchenQual",
          "BsmtFinSF1",
          "1stFlrSF",
          "GarageArea",
          "BsmtFinType1",
          "YearBuilt",
          "TotalBsmtSF",
          "GrLivArea"
         ],
         "xaxis": "x",
         "y": {
          "bdata": "AAAAAAAA8D8AAAAAAAAQQAAAAAAAABRAAAAAAAAAIkAAAAAAAAAYQAAAAAAAABxAAAAAAACAQ0AAAAAAAAAmQAAAAAAAADVAAAAAAAAAKkAAAAAAAAAoQAAAAAAAAD9AAAAAAAAAS0AAAAAAAIBBQAAAAAAAAABA",
          "dtype": "f8"
         },
         "yaxis": "y"
        }
       ],
       "layout": {
        "barmode": "group",
        "legend": {
         "title": {
          "text": "model"
         },
         "tracegroupgap": 0
        },
        "margin": {
         "t": 60
        },
        "template": {
         "data": {
          "bar": [
           {
            "error_x": {
             "color": "#2a3f5f"
            },
            "error_y": {
             "color": "#2a3f5f"
            },
            "marker": {
             "line": {
              "color": "#E5ECF6",
              "width": 0.5
             },
             "pattern": {
              "fillmode": "overlay",
              "size": 10,
              "solidity": 0.2
             }
            },
            "type": "bar"
           }
          ],
          "barpolar": [
           {
            "marker": {
             "line": {
              "color": "#E5ECF6",
              "width": 0.5
             },
             "pattern": {
              "fillmode": "overlay",
              "size": 10,
              "solidity": 0.2
             }
            },
            "type": "barpolar"
           }
          ],
          "carpet": [
           {
            "aaxis": {
             "endlinecolor": "#2a3f5f",
             "gridcolor": "white",
             "linecolor": "white",
             "minorgridcolor": "white",
             "startlinecolor": "#2a3f5f"
            },
            "baxis": {
             "endlinecolor": "#2a3f5f",
             "gridcolor": "white",
             "linecolor": "white",
             "minorgridcolor": "white",
             "startlinecolor": "#2a3f5f"
            },
            "type": "carpet"
           }
          ],
          "choropleth": [
           {
            "colorbar": {
             "outlinewidth": 0,
             "ticks": ""
            },
            "type": "choropleth"
           }
          ],
          "contour": [
           {
            "colorbar": {
             "outlinewidth": 0,
             "ticks": ""
            },
            "colorscale": [
             [
              0,
              "#0d0887"
             ],
             [
              0.1111111111111111,
              "#46039f"
             ],
             [
              0.2222222222222222,
              "#7201a8"
             ],
             [
              0.3333333333333333,
              "#9c179e"
             ],
             [
              0.4444444444444444,
              "#bd3786"
             ],
             [
              0.5555555555555556,
              "#d8576b"
             ],
             [
              0.6666666666666666,
              "#ed7953"
             ],
             [
              0.7777777777777778,
              "#fb9f3a"
             ],
             [
              0.8888888888888888,
              "#fdca26"
             ],
             [
              1,
              "#f0f921"
             ]
            ],
            "type": "contour"
           }
          ],
          "contourcarpet": [
           {
            "colorbar": {
             "outlinewidth": 0,
             "ticks": ""
            },
            "type": "contourcarpet"
           }
          ],
          "heatmap": [
           {
            "colorbar": {
             "outlinewidth": 0,
             "ticks": ""
            },
            "colorscale": [
             [
              0,
              "#0d0887"
             ],
             [
              0.1111111111111111,
              "#46039f"
             ],
             [
              0.2222222222222222,
              "#7201a8"
             ],
             [
              0.3333333333333333,
              "#9c179e"
             ],
             [
              0.4444444444444444,
              "#bd3786"
             ],
             [
              0.5555555555555556,
              "#d8576b"
             ],
             [
              0.6666666666666666,
              "#ed7953"
             ],
             [
              0.7777777777777778,
              "#fb9f3a"
             ],
             [
              0.8888888888888888,
              "#fdca26"
             ],
             [
              1,
              "#f0f921"
             ]
            ],
            "type": "heatmap"
           }
          ],
          "histogram": [
           {
            "marker": {
             "pattern": {
              "fillmode": "overlay",
              "size": 10,
              "solidity": 0.2
             }
            },
            "type": "histogram"
           }
          ],
          "histogram2d": [
           {
            "colorbar": {
             "outlinewidth": 0,
             "ticks": ""
            },
            "colorscale": [
             [
              0,
              "#0d0887"
             ],
             [
              0.1111111111111111,
              "#46039f"
             ],
             [
              0.2222222222222222,
              "#7201a8"
             ],
             [
              0.3333333333333333,
              "#9c179e"
             ],
             [
              0.4444444444444444,
              "#bd3786"
             ],
             [
              0.5555555555555556,
              "#d8576b"
             ],
             [
              0.6666666666666666,
              "#ed7953"
             ],
             [
              0.7777777777777778,
              "#fb9f3a"
             ],
             [
              0.8888888888888888,
              "#fdca26"
             ],
             [
              1,
              "#f0f921"
             ]
            ],
            "type": "histogram2d"
           }
          ],
          "histogram2dcontour": [
           {
            "colorbar": {
             "outlinewidth": 0,
             "ticks": ""
            },
            "colorscale": [
             [
              0,
              "#0d0887"
             ],
             [
              0.1111111111111111,
              "#46039f"
             ],
             [
              0.2222222222222222,
              "#7201a8"
             ],
             [
              0.3333333333333333,
              "#9c179e"
             ],
             [
              0.4444444444444444,
              "#bd3786"
             ],
             [
              0.5555555555555556,
              "#d8576b"
             ],
             [
              0.6666666666666666,
              "#ed7953"
             ],
             [
              0.7777777777777778,
              "#fb9f3a"
             ],
             [
              0.8888888888888888,
              "#fdca26"
             ],
             [
              1,
              "#f0f921"
             ]
            ],
            "type": "histogram2dcontour"
           }
          ],
          "mesh3d": [
           {
            "colorbar": {
             "outlinewidth": 0,
             "ticks": ""
            },
            "type": "mesh3d"
           }
          ],
          "parcoords": [
           {
            "line": {
             "colorbar": {
              "outlinewidth": 0,
              "ticks": ""
             }
            },
            "type": "parcoords"
           }
          ],
          "pie": [
           {
            "automargin": true,
            "type": "pie"
           }
          ],
          "scatter": [
           {
            "fillpattern": {
             "fillmode": "overlay",
             "size": 10,
             "solidity": 0.2
            },
            "type": "scatter"
           }
          ],
          "scatter3d": [
           {
            "line": {
             "colorbar": {
              "outlinewidth": 0,
              "ticks": ""
             }
            },
            "marker": {
             "colorbar": {
              "outlinewidth": 0,
              "ticks": ""
             }
            },
            "type": "scatter3d"
           }
          ],
          "scattercarpet": [
           {
            "marker": {
             "colorbar": {
              "outlinewidth": 0,
              "ticks": ""
             }
            },
            "type": "scattercarpet"
           }
          ],
          "scattergeo": [
           {
            "marker": {
             "colorbar": {
              "outlinewidth": 0,
              "ticks": ""
             }
            },
            "type": "scattergeo"
           }
          ],
          "scattergl": [
           {
            "marker": {
             "colorbar": {
              "outlinewidth": 0,
              "ticks": ""
             }
            },
            "type": "scattergl"
           }
          ],
          "scattermap": [
           {
            "marker": {
             "colorbar": {
              "outlinewidth": 0,
              "ticks": ""
             }
            },
            "type": "scattermap"
           }
          ],
          "scattermapbox": [
           {
            "marker": {
             "colorbar": {
              "outlinewidth": 0,
              "ticks": ""
             }
            },
            "type": "scattermapbox"
           }
          ],
          "scatterpolar": [
           {
            "marker": {
             "colorbar": {
              "outlinewidth": 0,
              "ticks": ""
             }
            },
            "type": "scatterpolar"
           }
          ],
          "scatterpolargl": [
           {
            "marker": {
             "colorbar": {
              "outlinewidth": 0,
              "ticks": ""
             }
            },
            "type": "scatterpolargl"
           }
          ],
          "scatterternary": [
           {
            "marker": {
             "colorbar": {
              "outlinewidth": 0,
              "ticks": ""
             }
            },
            "type": "scatterternary"
           }
          ],
          "surface": [
           {
            "colorbar": {
             "outlinewidth": 0,
             "ticks": ""
            },
            "colorscale": [
             [
              0,
              "#0d0887"
             ],
             [
              0.1111111111111111,
              "#46039f"
             ],
             [
              0.2222222222222222,
              "#7201a8"
             ],
             [
              0.3333333333333333,
              "#9c179e"
             ],
             [
              0.4444444444444444,
              "#bd3786"
             ],
             [
              0.5555555555555556,
              "#d8576b"
             ],
             [
              0.6666666666666666,
              "#ed7953"
             ],
             [
              0.7777777777777778,
              "#fb9f3a"
             ],
             [
              0.8888888888888888,
              "#fdca26"
             ],
             [
              1,
              "#f0f921"
             ]
            ],
            "type": "surface"
           }
          ],
          "table": [
           {
            "cells": {
             "fill": {
              "color": "#EBF0F8"
             },
             "line": {
              "color": "white"
             }
            },
            "header": {
             "fill": {
              "color": "#C8D4E3"
             },
             "line": {
              "color": "white"
             }
            },
            "type": "table"
           }
          ]
         },
         "layout": {
          "annotationdefaults": {
           "arrowcolor": "#2a3f5f",
           "arrowhead": 0,
           "arrowwidth": 1
          },
          "autotypenumbers": "strict",
          "coloraxis": {
           "colorbar": {
            "outlinewidth": 0,
            "ticks": ""
           }
          },
          "colorscale": {
           "diverging": [
            [
             0,
             "#8e0152"
            ],
            [
             0.1,
             "#c51b7d"
            ],
            [
             0.2,
             "#de77ae"
            ],
            [
             0.3,
             "#f1b6da"
            ],
            [
             0.4,
             "#fde0ef"
            ],
            [
             0.5,
             "#f7f7f7"
            ],
            [
             0.6,
             "#e6f5d0"
            ],
            [
             0.7,
             "#b8e186"
            ],
            [
             0.8,
             "#7fbc41"
            ],
            [
             0.9,
             "#4d9221"
            ],
            [
             1,
             "#276419"
            ]
           ],
           "sequential": [
            [
             0,
             "#0d0887"
            ],
            [
             0.1111111111111111,
             "#46039f"
            ],
            [
             0.2222222222222222,
             "#7201a8"
            ],
            [
             0.3333333333333333,
             "#9c179e"
            ],
            [
             0.4444444444444444,
             "#bd3786"
            ],
            [
             0.5555555555555556,
             "#d8576b"
            ],
            [
             0.6666666666666666,
             "#ed7953"
            ],
            [
             0.7777777777777778,
             "#fb9f3a"
            ],
            [
             0.8888888888888888,
             "#fdca26"
            ],
            [
             1,
             "#f0f921"
            ]
           ],
           "sequentialminus": [
            [
             0,
             "#0d0887"
            ],
            [
             0.1111111111111111,
             "#46039f"
            ],
            [
             0.2222222222222222,
             "#7201a8"
            ],
            [
             0.3333333333333333,
             "#9c179e"
            ],
            [
             0.4444444444444444,
             "#bd3786"
            ],
            [
             0.5555555555555556,
             "#d8576b"
            ],
            [
             0.6666666666666666,
             "#ed7953"
            ],
            [
             0.7777777777777778,
             "#fb9f3a"
            ],
            [
             0.8888888888888888,
             "#fdca26"
            ],
            [
             1,
             "#f0f921"
            ]
           ]
          },
          "colorway": [
           "#636efa",
           "#EF553B",
           "#00cc96",
           "#ab63fa",
           "#FFA15A",
           "#19d3f3",
           "#FF6692",
           "#B6E880",
           "#FF97FF",
           "#FECB52"
          ],
          "font": {
           "color": "#2a3f5f"
          },
          "geo": {
           "bgcolor": "white",
           "lakecolor": "white",
           "landcolor": "#E5ECF6",
           "showlakes": true,
           "showland": true,
           "subunitcolor": "white"
          },
          "hoverlabel": {
           "align": "left"
          },
          "hovermode": "closest",
          "mapbox": {
           "style": "light"
          },
          "paper_bgcolor": "white",
          "plot_bgcolor": "#E5ECF6",
          "polar": {
           "angularaxis": {
            "gridcolor": "white",
            "linecolor": "white",
            "ticks": ""
           },
           "bgcolor": "#E5ECF6",
           "radialaxis": {
            "gridcolor": "white",
            "linecolor": "white",
            "ticks": ""
           }
          },
          "scene": {
           "xaxis": {
            "backgroundcolor": "#E5ECF6",
            "gridcolor": "white",
            "gridwidth": 2,
            "linecolor": "white",
            "showbackground": true,
            "ticks": "",
            "zerolinecolor": "white"
           },
           "yaxis": {
            "backgroundcolor": "#E5ECF6",
            "gridcolor": "white",
            "gridwidth": 2,
            "linecolor": "white",
            "showbackground": true,
            "ticks": "",
            "zerolinecolor": "white"
           },
           "zaxis": {
            "backgroundcolor": "#E5ECF6",
            "gridcolor": "white",
            "gridwidth": 2,
            "linecolor": "white",
            "showbackground": true,
            "ticks": "",
            "zerolinecolor": "white"
           }
          },
          "shapedefaults": {
           "line": {
            "color": "#2a3f5f"
           }
          },
          "ternary": {
           "aaxis": {
            "gridcolor": "white",
            "linecolor": "white",
            "ticks": ""
           },
           "baxis": {
            "gridcolor": "white",
            "linecolor": "white",
            "ticks": ""
           },
           "bgcolor": "#E5ECF6",
           "caxis": {
            "gridcolor": "white",
            "linecolor": "white",
            "ticks": ""
           }
          },
          "title": {
           "x": 0.05
          },
          "xaxis": {
           "automargin": true,
           "gridcolor": "white",
           "linecolor": "white",
           "ticks": "",
           "title": {
            "standoff": 15
           },
           "zerolinecolor": "white",
           "zerolinewidth": 2
          },
          "yaxis": {
           "automargin": true,
           "gridcolor": "white",
           "linecolor": "white",
           "ticks": "",
           "title": {
            "standoff": 15
           },
           "zerolinecolor": "white",
           "zerolinewidth": 2
          }
         }
        },
        "xaxis": {
         "anchor": "y",
         "domain": [
          0,
          1
         ],
         "title": {
          "text": "feature"
         }
        },
        "yaxis": {
         "anchor": "x",
         "domain": [
          0,
          1
         ],
         "title": {
          "text": "rank"
         }
        }
       }
      }
     },
     "metadata": {},
     "output_type": "display_data"
    }
   ],
   "source": [
    "comparison_df = ft.get_feature_comparison(importance_df)\n",
    "\n",
    "ft.plot_importance_comparison(comparison_df)\n",
    "ft.plot_rank_comparison(comparison_df)"
   ]
  },
  {
   "cell_type": "markdown",
   "id": "05afa6d5",
   "metadata": {},
   "source": [
    "## 3. Model optimization"
   ]
  },
  {
   "cell_type": "code",
   "execution_count": 21,
   "id": "c548fbbc",
   "metadata": {},
   "outputs": [],
   "source": [
    "feature_numbers = [10, 20, 30, 40, 50, 60, 70, 80, len(X_train.columns)]"
   ]
  },
  {
   "cell_type": "markdown",
   "id": "1d3d8789",
   "metadata": {},
   "source": [
    "### 3.1 Single models"
   ]
  },
  {
   "cell_type": "code",
   "execution_count": null,
   "id": "ee102245",
   "metadata": {},
   "outputs": [],
   "source": [
    "params = {}\n",
    "cv_scores = {}\n",
    "val_scores = {}\n",
    "studies = {}\n",
    "\n",
    "features_by_importance = ft.get_features_by_importance(comparison_df)\n",
    "\n",
    "for key in md.MODELS:\n",
    "    with mlflow.start_run(run_name=key):\n",
    "        mlflow.set_tag('model', md.MODELS[key]['name'])\n",
    "        mlflow.log_input(dataset)\n",
    "    \n",
    "        print(f'\\nEvaulating: {md.MODELS[key][\"name\"]}')\n",
    "        params[key], cv_scores[key], val_scores[key], studies[key] = md.evaluate_best_feature_number(\n",
    "            md.MODELS[key],\n",
    "            features_by_importance,\n",
    "            feature_numbers,\n",
    "            X_train,\n",
    "            y_train,\n",
    "            X_val,\n",
    "            y_val,\n",
    "        )\n",
    "        \n",
    "        best_par_num = min(val_scores[key], key=lambda x: val_scores[key][x])\n",
    "        mlflow.log_params(params[key][best_par_num])\n",
    "        mlflow.log_param('best_par_num', best_par_num)\n",
    "        mlflow.log_metric('best_avg_cv_score', cv_scores[key][best_par_num].mean())\n",
    "        mlflow.log_metric('best_std_cv_score', cv_scores[key][best_par_num].std())\n",
    "        mlflow.log_metric('best_val_scores', val_scores[key][best_par_num])\n",
    "        \n",
    "        mlflow.end_run()\n",
    "        \n",
    "md.save_models_values(params, cv_scores, val_scores)"
   ]
  },
  {
   "cell_type": "code",
   "execution_count": null,
   "id": "4a758173",
   "metadata": {},
   "outputs": [],
   "source": [
    "features_by_importance = ft.get_features_by_importance(comparison_df)\n",
    "params, cv_scores, val_scores = md.load_models_values()"
   ]
  },
  {
   "cell_type": "code",
   "execution_count": 25,
   "id": "805adba6",
   "metadata": {},
   "outputs": [
    {
     "data": {
      "application/vnd.plotly.v1+json": {
       "config": {
        "plotlyServerURL": "https://plot.ly"
       },
       "data": [
        {
         "error_y": {
          "array": {
           "bdata": "GIOP3UfZqj+aFIKrseasPw0Jde7SMa0/qGBy9JNXrj9MmC5TgUStP+ayh1ma860/hS2qPcQYrj/td/usi0CsPyu52H9t/q0/",
           "dtype": "f8"
          },
          "type": "data"
         },
         "name": "xgb CV",
         "type": "bar",
         "x": [
          "10",
          "20",
          "30",
          "40",
          "50",
          "60",
          "70",
          "80",
          "92"
         ],
         "xaxis": "x",
         "y": {
          "bdata": "ot0g/CL31T9IfsSV1+nUPzIByF/tO9Q/dmo1v4Ba1D+FfurpZwfUP0DXRI4FDdQ/L8ywZbkL1D9K6aCNbR7UPxVuqzppJtQ/",
          "dtype": "f8"
         },
         "yaxis": "y"
        },
        {
         "name": "xgb Validation",
         "type": "bar",
         "x": [
          "10",
          "20",
          "30",
          "40",
          "50",
          "60",
          "70",
          "80",
          "92"
         ],
         "xaxis": "x",
         "y": {
          "bdata": "4oaSNkcI1j9lU/4ZXPfUP56yjE1pqNQ/UhGzDclS1D/Dz9lSSpTUP5+kLL16pNQ/fldRNBaH1D9d8JUsHSjVPx6ewjJIMtQ/",
          "dtype": "f8"
         },
         "yaxis": "y"
        },
        {
         "error_y": {
          "array": {
           "bdata": "n7woATkvpj/ZoTZRVw+qP7iQ30K7p64/qYyEA6xorT9f42dGVrWsP0lBrc6Qta0/VqxLfWr9rT81R5qda3isPyBxoXMaCaw/",
           "dtype": "f8"
          },
          "type": "data"
         },
         "name": "ctb CV",
         "type": "bar",
         "x": [
          "10",
          "20",
          "30",
          "40",
          "50",
          "60",
          "70",
          "80",
          "92"
         ],
         "xaxis": "x2",
         "y": {
          "bdata": "6xiDXFMS1T8zEqWUkgTUP0VvTCQ5ZNM/y32yoGFN0z9eK9zKaRTTP88aSwnlGdM/rrvi11U60z9Dbf8ojEjTP3EgVotHUtM/",
          "dtype": "f8"
         },
         "yaxis": "y2"
        },
        {
         "name": "ctb Validation",
         "type": "bar",
         "x": [
          "10",
          "20",
          "30",
          "40",
          "50",
          "60",
          "70",
          "80",
          "92"
         ],
         "xaxis": "x2",
         "y": {
          "bdata": "D6oMpZFN1D+1SBRUPKDTPwu2IsEph9M/YvDWRk560z9DlVCm8gXTP8WJLaPv5tM/16gDEnJ40z88cvvmvIzTPwQcxmmQxNM/",
          "dtype": "f8"
         },
         "yaxis": "y2"
        },
        {
         "error_y": {
          "array": {
           "bdata": "Ig102vQdpj8PcTSqh9CoPzd9TTlK0Ks/DUjLmFwZqj/K6sLhuSKqP6mDwGAnD6w/3yKvAWYZqj8VRbWKJWirPwC5iOaGuKs/",
           "dtype": "f8"
          },
          "type": "data"
         },
         "name": "lgb CV",
         "type": "bar",
         "x": [
          "10",
          "20",
          "30",
          "40",
          "50",
          "60",
          "70",
          "80",
          "92"
         ],
         "xaxis": "x3",
         "y": {
          "bdata": "SE77OpfD1T+3u3eLHwnVP0m4behGgdQ/vYWpKOl71D9o+/iVuynUP+9jSQHBPtQ/1sFWwww81D/cFBEA4z3UP/XWV81xUNQ/",
          "dtype": "f8"
         },
         "yaxis": "y3"
        },
        {
         "name": "lgb Validation",
         "type": "bar",
         "x": [
          "10",
          "20",
          "30",
          "40",
          "50",
          "60",
          "70",
          "80",
          "92"
         ],
         "xaxis": "x3",
         "y": {
          "bdata": "g0S3wfyG1T8jJOT1rxLVP+yPNj3W29U/vabGcJ+z1T/MbPEmW+fUP8xfuT2qotQ/+j69UwoR1T8ZwNXA88TUP1byIrfk2dQ/",
          "dtype": "f8"
         },
         "yaxis": "y3"
        },
        {
         "error_y": {
          "array": {
           "bdata": "5e+vd6e4oD+LU8jHDXGiP0uBLyX2LaY/5k004A5Jpz+MeC6NaKunP/YLRiY7cqg/zoW4hAS8qz+j2ETN7Z6qP3edrHY9L60/",
           "dtype": "f8"
          },
          "type": "data"
         },
         "name": "svr CV",
         "type": "bar",
         "x": [
          "10",
          "20",
          "30",
          "40",
          "50",
          "60",
          "70",
          "80",
          "92"
         ],
         "xaxis": "x4",
         "y": {
          "bdata": "mK9i0oU31D8Hs9wwgeTTP1A+LoGmCdM/YZIhaD8D0z9lif5r7CnTP9EFGh+wWdM/s5GFPaEo0z+mriWYV0DTP0ItV3JJTtM/",
          "dtype": "f8"
         },
         "yaxis": "y4"
        },
        {
         "name": "svr Validation",
         "type": "bar",
         "x": [
          "10",
          "20",
          "30",
          "40",
          "50",
          "60",
          "70",
          "80",
          "92"
         ],
         "xaxis": "x4",
         "y": {
          "bdata": "kRiKNjqH1T9qy4nSj9nUP/ZkZTLOfNQ/WaepZLRN1D/JmvSJ4PjTPwk6nLiCmNQ/ckP1ERv41D9TP9jA2IHUP53AB67UF9Q/",
          "dtype": "f8"
         },
         "yaxis": "y4"
        },
        {
         "error_y": {
          "array": {
           "bdata": "RzSgRGOAtT89yNSyFL21P31TFFTH/LQ/33ODNCE3tj/pQ+DL25a1P0y88bJs6rQ/HK610UPntj9k5BVM6OO1P6He9FIKIrU/",
           "dtype": "f8"
          },
          "type": "data"
         },
         "name": "mlp CV",
         "type": "bar",
         "x": [
          "10",
          "20",
          "30",
          "40",
          "50",
          "60",
          "70",
          "80",
          "92"
         ],
         "xaxis": "x5",
         "y": {
          "bdata": "w9hT/n+d1T9DZAPv55vVPzLMqoCxhNQ/z0hh5P761D/DLyykyOnUP7QGEHTtttY/5vr4jwZA1T/E8WBSA5vWP6ukCivYO9U/",
          "dtype": "f8"
         },
         "yaxis": "y5"
        },
        {
         "name": "mlp Validation",
         "type": "bar",
         "x": [
          "10",
          "20",
          "30",
          "40",
          "50",
          "60",
          "70",
          "80",
          "92"
         ],
         "xaxis": "x5",
         "y": {
          "bdata": "UFfgUU8r1T8IIhzCks/UPxV5tcxAfNQ/uf0hg8u91D8rUkth7C/UP8fj+Cy3ddQ/p9iHpWFA1j/eGmRl/fvWP5KsGWAWCdY/",
          "dtype": "f8"
         },
         "yaxis": "y5"
        },
        {
         "error_y": {
          "array": {
           "bdata": "P4KQn9Pzoz//iAsXJ2emP/C2PhetU6o/u2lXa/x3qT8t9+I7qOOoP1jv+kZEV6k/NTsn66Nxpj9koMK19OqkPwSeZg5d4KU/",
           "dtype": "f8"
          },
          "type": "data"
         },
         "name": "knn CV",
         "type": "bar",
         "x": [
          "10",
          "20",
          "30",
          "40",
          "50",
          "60",
          "70",
          "80",
          "92"
         ],
         "xaxis": "x6",
         "y": {
          "bdata": "HkcALxIy1z8vQKQXYHDXP4I+Sqacgtc/pfdHqVNU2D/SFaK+6tnYPxWI5vD96Nk/kPlZyyQ+2j8rZHJDJVbaP62wE3s1Dds/",
          "dtype": "f8"
         },
         "yaxis": "y6"
        },
        {
         "name": "knn Validation",
         "type": "bar",
         "x": [
          "10",
          "20",
          "30",
          "40",
          "50",
          "60",
          "70",
          "80",
          "92"
         ],
         "xaxis": "x6",
         "y": {
          "bdata": "s34MW2HQ1z8j6wA2gn/YP+C1oqFi2tc/MtTLa/SN2D9NjWR4ms3ZP1Qt0XE/sNo/vbbWrG4s2z/XCi5GoYvbP+cDPUh6mtw/",
          "dtype": "f8"
         },
         "yaxis": "y6"
        }
       ],
       "layout": {
        "annotations": [
         {
          "font": {
           "size": 16
          },
          "showarrow": false,
          "text": "xgb",
          "x": 0.14444444444444446,
          "xanchor": "center",
          "xref": "paper",
          "y": 1,
          "yanchor": "bottom",
          "yref": "paper"
         },
         {
          "font": {
           "size": 16
          },
          "showarrow": false,
          "text": "ctb",
          "x": 0.5,
          "xanchor": "center",
          "xref": "paper",
          "y": 1,
          "yanchor": "bottom",
          "yref": "paper"
         },
         {
          "font": {
           "size": 16
          },
          "showarrow": false,
          "text": "lgb",
          "x": 0.8555555555555556,
          "xanchor": "center",
          "xref": "paper",
          "y": 1,
          "yanchor": "bottom",
          "yref": "paper"
         },
         {
          "font": {
           "size": 16
          },
          "showarrow": false,
          "text": "svr",
          "x": 0.14444444444444446,
          "xanchor": "center",
          "xref": "paper",
          "y": 0.375,
          "yanchor": "bottom",
          "yref": "paper"
         },
         {
          "font": {
           "size": 16
          },
          "showarrow": false,
          "text": "mlp",
          "x": 0.5,
          "xanchor": "center",
          "xref": "paper",
          "y": 0.375,
          "yanchor": "bottom",
          "yref": "paper"
         },
         {
          "font": {
           "size": 16
          },
          "showarrow": false,
          "text": "knn",
          "x": 0.8555555555555556,
          "xanchor": "center",
          "xref": "paper",
          "y": 0.375,
          "yanchor": "bottom",
          "yref": "paper"
         }
        ],
        "barmode": "group",
        "height": 800,
        "showlegend": true,
        "template": {
         "data": {
          "bar": [
           {
            "error_x": {
             "color": "#2a3f5f"
            },
            "error_y": {
             "color": "#2a3f5f"
            },
            "marker": {
             "line": {
              "color": "#E5ECF6",
              "width": 0.5
             },
             "pattern": {
              "fillmode": "overlay",
              "size": 10,
              "solidity": 0.2
             }
            },
            "type": "bar"
           }
          ],
          "barpolar": [
           {
            "marker": {
             "line": {
              "color": "#E5ECF6",
              "width": 0.5
             },
             "pattern": {
              "fillmode": "overlay",
              "size": 10,
              "solidity": 0.2
             }
            },
            "type": "barpolar"
           }
          ],
          "carpet": [
           {
            "aaxis": {
             "endlinecolor": "#2a3f5f",
             "gridcolor": "white",
             "linecolor": "white",
             "minorgridcolor": "white",
             "startlinecolor": "#2a3f5f"
            },
            "baxis": {
             "endlinecolor": "#2a3f5f",
             "gridcolor": "white",
             "linecolor": "white",
             "minorgridcolor": "white",
             "startlinecolor": "#2a3f5f"
            },
            "type": "carpet"
           }
          ],
          "choropleth": [
           {
            "colorbar": {
             "outlinewidth": 0,
             "ticks": ""
            },
            "type": "choropleth"
           }
          ],
          "contour": [
           {
            "colorbar": {
             "outlinewidth": 0,
             "ticks": ""
            },
            "colorscale": [
             [
              0,
              "#0d0887"
             ],
             [
              0.1111111111111111,
              "#46039f"
             ],
             [
              0.2222222222222222,
              "#7201a8"
             ],
             [
              0.3333333333333333,
              "#9c179e"
             ],
             [
              0.4444444444444444,
              "#bd3786"
             ],
             [
              0.5555555555555556,
              "#d8576b"
             ],
             [
              0.6666666666666666,
              "#ed7953"
             ],
             [
              0.7777777777777778,
              "#fb9f3a"
             ],
             [
              0.8888888888888888,
              "#fdca26"
             ],
             [
              1,
              "#f0f921"
             ]
            ],
            "type": "contour"
           }
          ],
          "contourcarpet": [
           {
            "colorbar": {
             "outlinewidth": 0,
             "ticks": ""
            },
            "type": "contourcarpet"
           }
          ],
          "heatmap": [
           {
            "colorbar": {
             "outlinewidth": 0,
             "ticks": ""
            },
            "colorscale": [
             [
              0,
              "#0d0887"
             ],
             [
              0.1111111111111111,
              "#46039f"
             ],
             [
              0.2222222222222222,
              "#7201a8"
             ],
             [
              0.3333333333333333,
              "#9c179e"
             ],
             [
              0.4444444444444444,
              "#bd3786"
             ],
             [
              0.5555555555555556,
              "#d8576b"
             ],
             [
              0.6666666666666666,
              "#ed7953"
             ],
             [
              0.7777777777777778,
              "#fb9f3a"
             ],
             [
              0.8888888888888888,
              "#fdca26"
             ],
             [
              1,
              "#f0f921"
             ]
            ],
            "type": "heatmap"
           }
          ],
          "histogram": [
           {
            "marker": {
             "pattern": {
              "fillmode": "overlay",
              "size": 10,
              "solidity": 0.2
             }
            },
            "type": "histogram"
           }
          ],
          "histogram2d": [
           {
            "colorbar": {
             "outlinewidth": 0,
             "ticks": ""
            },
            "colorscale": [
             [
              0,
              "#0d0887"
             ],
             [
              0.1111111111111111,
              "#46039f"
             ],
             [
              0.2222222222222222,
              "#7201a8"
             ],
             [
              0.3333333333333333,
              "#9c179e"
             ],
             [
              0.4444444444444444,
              "#bd3786"
             ],
             [
              0.5555555555555556,
              "#d8576b"
             ],
             [
              0.6666666666666666,
              "#ed7953"
             ],
             [
              0.7777777777777778,
              "#fb9f3a"
             ],
             [
              0.8888888888888888,
              "#fdca26"
             ],
             [
              1,
              "#f0f921"
             ]
            ],
            "type": "histogram2d"
           }
          ],
          "histogram2dcontour": [
           {
            "colorbar": {
             "outlinewidth": 0,
             "ticks": ""
            },
            "colorscale": [
             [
              0,
              "#0d0887"
             ],
             [
              0.1111111111111111,
              "#46039f"
             ],
             [
              0.2222222222222222,
              "#7201a8"
             ],
             [
              0.3333333333333333,
              "#9c179e"
             ],
             [
              0.4444444444444444,
              "#bd3786"
             ],
             [
              0.5555555555555556,
              "#d8576b"
             ],
             [
              0.6666666666666666,
              "#ed7953"
             ],
             [
              0.7777777777777778,
              "#fb9f3a"
             ],
             [
              0.8888888888888888,
              "#fdca26"
             ],
             [
              1,
              "#f0f921"
             ]
            ],
            "type": "histogram2dcontour"
           }
          ],
          "mesh3d": [
           {
            "colorbar": {
             "outlinewidth": 0,
             "ticks": ""
            },
            "type": "mesh3d"
           }
          ],
          "parcoords": [
           {
            "line": {
             "colorbar": {
              "outlinewidth": 0,
              "ticks": ""
             }
            },
            "type": "parcoords"
           }
          ],
          "pie": [
           {
            "automargin": true,
            "type": "pie"
           }
          ],
          "scatter": [
           {
            "fillpattern": {
             "fillmode": "overlay",
             "size": 10,
             "solidity": 0.2
            },
            "type": "scatter"
           }
          ],
          "scatter3d": [
           {
            "line": {
             "colorbar": {
              "outlinewidth": 0,
              "ticks": ""
             }
            },
            "marker": {
             "colorbar": {
              "outlinewidth": 0,
              "ticks": ""
             }
            },
            "type": "scatter3d"
           }
          ],
          "scattercarpet": [
           {
            "marker": {
             "colorbar": {
              "outlinewidth": 0,
              "ticks": ""
             }
            },
            "type": "scattercarpet"
           }
          ],
          "scattergeo": [
           {
            "marker": {
             "colorbar": {
              "outlinewidth": 0,
              "ticks": ""
             }
            },
            "type": "scattergeo"
           }
          ],
          "scattergl": [
           {
            "marker": {
             "colorbar": {
              "outlinewidth": 0,
              "ticks": ""
             }
            },
            "type": "scattergl"
           }
          ],
          "scattermap": [
           {
            "marker": {
             "colorbar": {
              "outlinewidth": 0,
              "ticks": ""
             }
            },
            "type": "scattermap"
           }
          ],
          "scattermapbox": [
           {
            "marker": {
             "colorbar": {
              "outlinewidth": 0,
              "ticks": ""
             }
            },
            "type": "scattermapbox"
           }
          ],
          "scatterpolar": [
           {
            "marker": {
             "colorbar": {
              "outlinewidth": 0,
              "ticks": ""
             }
            },
            "type": "scatterpolar"
           }
          ],
          "scatterpolargl": [
           {
            "marker": {
             "colorbar": {
              "outlinewidth": 0,
              "ticks": ""
             }
            },
            "type": "scatterpolargl"
           }
          ],
          "scatterternary": [
           {
            "marker": {
             "colorbar": {
              "outlinewidth": 0,
              "ticks": ""
             }
            },
            "type": "scatterternary"
           }
          ],
          "surface": [
           {
            "colorbar": {
             "outlinewidth": 0,
             "ticks": ""
            },
            "colorscale": [
             [
              0,
              "#0d0887"
             ],
             [
              0.1111111111111111,
              "#46039f"
             ],
             [
              0.2222222222222222,
              "#7201a8"
             ],
             [
              0.3333333333333333,
              "#9c179e"
             ],
             [
              0.4444444444444444,
              "#bd3786"
             ],
             [
              0.5555555555555556,
              "#d8576b"
             ],
             [
              0.6666666666666666,
              "#ed7953"
             ],
             [
              0.7777777777777778,
              "#fb9f3a"
             ],
             [
              0.8888888888888888,
              "#fdca26"
             ],
             [
              1,
              "#f0f921"
             ]
            ],
            "type": "surface"
           }
          ],
          "table": [
           {
            "cells": {
             "fill": {
              "color": "#EBF0F8"
             },
             "line": {
              "color": "white"
             }
            },
            "header": {
             "fill": {
              "color": "#C8D4E3"
             },
             "line": {
              "color": "white"
             }
            },
            "type": "table"
           }
          ]
         },
         "layout": {
          "annotationdefaults": {
           "arrowcolor": "#2a3f5f",
           "arrowhead": 0,
           "arrowwidth": 1
          },
          "autotypenumbers": "strict",
          "coloraxis": {
           "colorbar": {
            "outlinewidth": 0,
            "ticks": ""
           }
          },
          "colorscale": {
           "diverging": [
            [
             0,
             "#8e0152"
            ],
            [
             0.1,
             "#c51b7d"
            ],
            [
             0.2,
             "#de77ae"
            ],
            [
             0.3,
             "#f1b6da"
            ],
            [
             0.4,
             "#fde0ef"
            ],
            [
             0.5,
             "#f7f7f7"
            ],
            [
             0.6,
             "#e6f5d0"
            ],
            [
             0.7,
             "#b8e186"
            ],
            [
             0.8,
             "#7fbc41"
            ],
            [
             0.9,
             "#4d9221"
            ],
            [
             1,
             "#276419"
            ]
           ],
           "sequential": [
            [
             0,
             "#0d0887"
            ],
            [
             0.1111111111111111,
             "#46039f"
            ],
            [
             0.2222222222222222,
             "#7201a8"
            ],
            [
             0.3333333333333333,
             "#9c179e"
            ],
            [
             0.4444444444444444,
             "#bd3786"
            ],
            [
             0.5555555555555556,
             "#d8576b"
            ],
            [
             0.6666666666666666,
             "#ed7953"
            ],
            [
             0.7777777777777778,
             "#fb9f3a"
            ],
            [
             0.8888888888888888,
             "#fdca26"
            ],
            [
             1,
             "#f0f921"
            ]
           ],
           "sequentialminus": [
            [
             0,
             "#0d0887"
            ],
            [
             0.1111111111111111,
             "#46039f"
            ],
            [
             0.2222222222222222,
             "#7201a8"
            ],
            [
             0.3333333333333333,
             "#9c179e"
            ],
            [
             0.4444444444444444,
             "#bd3786"
            ],
            [
             0.5555555555555556,
             "#d8576b"
            ],
            [
             0.6666666666666666,
             "#ed7953"
            ],
            [
             0.7777777777777778,
             "#fb9f3a"
            ],
            [
             0.8888888888888888,
             "#fdca26"
            ],
            [
             1,
             "#f0f921"
            ]
           ]
          },
          "colorway": [
           "#636efa",
           "#EF553B",
           "#00cc96",
           "#ab63fa",
           "#FFA15A",
           "#19d3f3",
           "#FF6692",
           "#B6E880",
           "#FF97FF",
           "#FECB52"
          ],
          "font": {
           "color": "#2a3f5f"
          },
          "geo": {
           "bgcolor": "white",
           "lakecolor": "white",
           "landcolor": "#E5ECF6",
           "showlakes": true,
           "showland": true,
           "subunitcolor": "white"
          },
          "hoverlabel": {
           "align": "left"
          },
          "hovermode": "closest",
          "mapbox": {
           "style": "light"
          },
          "paper_bgcolor": "white",
          "plot_bgcolor": "#E5ECF6",
          "polar": {
           "angularaxis": {
            "gridcolor": "white",
            "linecolor": "white",
            "ticks": ""
           },
           "bgcolor": "#E5ECF6",
           "radialaxis": {
            "gridcolor": "white",
            "linecolor": "white",
            "ticks": ""
           }
          },
          "scene": {
           "xaxis": {
            "backgroundcolor": "#E5ECF6",
            "gridcolor": "white",
            "gridwidth": 2,
            "linecolor": "white",
            "showbackground": true,
            "ticks": "",
            "zerolinecolor": "white"
           },
           "yaxis": {
            "backgroundcolor": "#E5ECF6",
            "gridcolor": "white",
            "gridwidth": 2,
            "linecolor": "white",
            "showbackground": true,
            "ticks": "",
            "zerolinecolor": "white"
           },
           "zaxis": {
            "backgroundcolor": "#E5ECF6",
            "gridcolor": "white",
            "gridwidth": 2,
            "linecolor": "white",
            "showbackground": true,
            "ticks": "",
            "zerolinecolor": "white"
           }
          },
          "shapedefaults": {
           "line": {
            "color": "#2a3f5f"
           }
          },
          "ternary": {
           "aaxis": {
            "gridcolor": "white",
            "linecolor": "white",
            "ticks": ""
           },
           "baxis": {
            "gridcolor": "white",
            "linecolor": "white",
            "ticks": ""
           },
           "bgcolor": "#E5ECF6",
           "caxis": {
            "gridcolor": "white",
            "linecolor": "white",
            "ticks": ""
           }
          },
          "title": {
           "x": 0.05
          },
          "xaxis": {
           "automargin": true,
           "gridcolor": "white",
           "linecolor": "white",
           "ticks": "",
           "title": {
            "standoff": 15
           },
           "zerolinecolor": "white",
           "zerolinewidth": 2
          },
          "yaxis": {
           "automargin": true,
           "gridcolor": "white",
           "linecolor": "white",
           "ticks": "",
           "title": {
            "standoff": 15
           },
           "zerolinecolor": "white",
           "zerolinewidth": 2
          }
         }
        },
        "width": 1500,
        "xaxis": {
         "anchor": "y",
         "domain": [
          0,
          0.2888888888888889
         ]
        },
        "xaxis2": {
         "anchor": "y2",
         "domain": [
          0.35555555555555557,
          0.6444444444444445
         ]
        },
        "xaxis3": {
         "anchor": "y3",
         "domain": [
          0.7111111111111111,
          1
         ]
        },
        "xaxis4": {
         "anchor": "y4",
         "domain": [
          0,
          0.2888888888888889
         ]
        },
        "xaxis5": {
         "anchor": "y5",
         "domain": [
          0.35555555555555557,
          0.6444444444444445
         ]
        },
        "xaxis6": {
         "anchor": "y6",
         "domain": [
          0.7111111111111111,
          1
         ]
        },
        "yaxis": {
         "anchor": "x",
         "domain": [
          0.625,
          1
         ],
         "range": [
          0.23,
          0.46
         ]
        },
        "yaxis2": {
         "anchor": "x2",
         "domain": [
          0.625,
          1
         ],
         "range": [
          0.23,
          0.46
         ]
        },
        "yaxis3": {
         "anchor": "x3",
         "domain": [
          0.625,
          1
         ],
         "range": [
          0.23,
          0.46
         ]
        },
        "yaxis4": {
         "anchor": "x4",
         "domain": [
          0,
          0.375
         ],
         "range": [
          0.23,
          0.46
         ]
        },
        "yaxis5": {
         "anchor": "x5",
         "domain": [
          0,
          0.375
         ],
         "range": [
          0.23,
          0.46
         ]
        },
        "yaxis6": {
         "anchor": "x6",
         "domain": [
          0,
          0.375
         ],
         "range": [
          0.23,
          0.46
         ]
        }
       }
      }
     },
     "metadata": {},
     "output_type": "display_data"
    }
   ],
   "source": [
    "md.plot_model_scores(cv_scores, val_scores, feature_numbers, 3)"
   ]
  },
  {
   "cell_type": "markdown",
   "id": "f84d6b76",
   "metadata": {},
   "source": [
    "### 3.2 Stacking"
   ]
  },
  {
   "cell_type": "code",
   "execution_count": 51,
   "id": "2b260ae8",
   "metadata": {},
   "outputs": [],
   "source": [
    "from sklearn.metrics import root_mean_squared_error\n",
    "from sklearn.linear_model import Ridge\n",
    "\n",
    "model_selection = {\n",
    "    # 'xgb': 92,\n",
    "    'ctb': 50,\n",
    "    'lgb': 60,\n",
    "    'svr': 50,\n",
    "    'mlp': 50,\n",
    "    # 'knn': 10,\n",
    "}"
   ]
  },
  {
   "cell_type": "code",
   "execution_count": 47,
   "id": "f8cb2d74",
   "metadata": {},
   "outputs": [],
   "source": [
    "oof_predictions_train, oof_predictions_val = md.get_oof_predictions(model_selection, X_train, y_train, X_val)"
   ]
  },
  {
   "cell_type": "code",
   "execution_count": 48,
   "id": "b1ac715e",
   "metadata": {},
   "outputs": [
    {
     "name": "stdout",
     "output_type": "stream",
     "text": [
      "Processing Lasso.\n"
     ]
    },
    {
     "name": "stderr",
     "output_type": "stream",
     "text": [
      "/opt/miniconda3/envs/torch_study/lib/python3.11/site-packages/mlflow/tracking/metric_value_conversion_utils.py:53: FutureWarning:\n",
      "\n",
      "Calling float on a single element Series is deprecated and will raise a TypeError in the future. Use float(ser.iloc[0]) instead\n",
      "\n"
     ]
    },
    {
     "name": "stdout",
     "output_type": "stream",
     "text": [
      "🏃 View run Lasso at: http://127.0.0.1:8080/#/experiments/341249612524648412/runs/af725e07f9a443c6a202e381e214407d\n",
      "🧪 View experiment at: http://127.0.0.1:8080/#/experiments/341249612524648412\n",
      "Processing Ridge.\n"
     ]
    },
    {
     "name": "stderr",
     "output_type": "stream",
     "text": [
      "/opt/miniconda3/envs/torch_study/lib/python3.11/site-packages/mlflow/tracking/metric_value_conversion_utils.py:53: FutureWarning:\n",
      "\n",
      "Calling float on a single element Series is deprecated and will raise a TypeError in the future. Use float(ser.iloc[0]) instead\n",
      "\n"
     ]
    },
    {
     "name": "stdout",
     "output_type": "stream",
     "text": [
      "🏃 View run Ridge at: http://127.0.0.1:8080/#/experiments/341249612524648412/runs/42c2b360bf1147a9ab7f03b521d77343\n",
      "🧪 View experiment at: http://127.0.0.1:8080/#/experiments/341249612524648412\n",
      "Processing Elastic Net.\n"
     ]
    },
    {
     "name": "stderr",
     "output_type": "stream",
     "text": [
      "/opt/miniconda3/envs/torch_study/lib/python3.11/site-packages/mlflow/tracking/metric_value_conversion_utils.py:53: FutureWarning:\n",
      "\n",
      "Calling float on a single element Series is deprecated and will raise a TypeError in the future. Use float(ser.iloc[0]) instead\n",
      "\n"
     ]
    },
    {
     "name": "stdout",
     "output_type": "stream",
     "text": [
      "🏃 View run Elastic Net at: http://127.0.0.1:8080/#/experiments/341249612524648412/runs/f86575469d4445a1b4a502a669afdce2\n",
      "🧪 View experiment at: http://127.0.0.1:8080/#/experiments/341249612524648412\n",
      "Processing Support Vector Regressor.\n",
      "🏃 View run Support Vector Regressor at: http://127.0.0.1:8080/#/experiments/341249612524648412/runs/4bef85a2a21d4bea937bb3ea24093fb3\n",
      "🧪 View experiment at: http://127.0.0.1:8080/#/experiments/341249612524648412\n",
      "🏃 View run all at: http://127.0.0.1:8080/#/experiments/341249612524648412/runs/1c28133c7d6d4a3f8e9ab9e68ee857d0\n",
      "🧪 View experiment at: http://127.0.0.1:8080/#/experiments/341249612524648412\n"
     ]
    },
    {
     "name": "stderr",
     "output_type": "stream",
     "text": [
      "/opt/miniconda3/envs/torch_study/lib/python3.11/site-packages/mlflow/tracking/metric_value_conversion_utils.py:53: FutureWarning:\n",
      "\n",
      "Calling float on a single element Series is deprecated and will raise a TypeError in the future. Use float(ser.iloc[0]) instead\n",
      "\n"
     ]
    }
   ],
   "source": [
    "st_params = {}\n",
    "st_cv_scores = {}\n",
    "st_val_scores = {}\n",
    "st_studies = {}\n",
    "\n",
    "\n",
    "with mlflow.start_run(run_name='all'):\n",
    "    mlflow.set_tag('model', 'Stacking Regressor')\n",
    "    mlflow.log_input(dataset)\n",
    "    mlflow.log_params(model_selection)\n",
    "    \n",
    "    for key in md.META_MODELS:\n",
    "        with mlflow.start_run(nested=True, run_name=md.META_MODELS[key]['name']):\n",
    "            print(f\"Processing {md.META_MODELS[key]['name']}.\")\n",
    "\n",
    "            st_params[key], st_cv_scores[key], st_val_scores[key], st_studies[key] = (\n",
    "                md.optimize_and_evaluate_model(\n",
    "                    md.META_MODELS[key],\n",
    "                    oof_predictions_train,\n",
    "                    y_train,\n",
    "                    oof_predictions_val,\n",
    "                    y_val,\n",
    "                    model_selection,\n",
    "                    features_by_importance,\n",
    "                )\n",
    "            )\n",
    "            \n",
    "            mlflow.log_params(st_params[key])\n",
    "            mlflow.log_metric('best_avg_cv_score', st_cv_scores[key].mean())\n",
    "            mlflow.log_metric('best_std_cv_score', st_cv_scores[key].std())\n",
    "            mlflow.log_metric('best_val_scores', st_val_scores[key])\n",
    "            \n",
    "            mlflow.end_run()\n",
    "            \n",
    "    best_key = min(st_val_scores, key=lambda x: st_val_scores[x])\n",
    "    mlflow.log_param('best_final_estimator', md.META_MODELS[best_key]['name'])\n",
    "    mlflow.log_metric('best_avg_cv_score', st_cv_scores[best_key].mean())\n",
    "    mlflow.log_metric('best_std_cv_score', st_cv_scores[best_key].std())\n",
    "    mlflow.log_metric('best_val_scores', st_val_scores[best_key])    "
   ]
  },
  {
   "cell_type": "code",
   "execution_count": 53,
   "id": "3fc02325",
   "metadata": {},
   "outputs": [
    {
     "data": {
      "application/vnd.plotly.v1+json": {
       "config": {
        "plotlyServerURL": "https://plot.ly"
       },
       "data": [
        {
         "name": "lasso CV folds",
         "type": "bar",
         "x": [
          "fold 1",
          "fold 2",
          "fold 3",
          "fold 4",
          "fold 5"
         ],
         "xaxis": "x",
         "y": {
          "bdata": "fvjgDOQb2T+vliNyk0vUP+g5zwWuWNE/25GVZcYb0z9OdcDms0POPw==",
          "dtype": "f8"
         },
         "yaxis": "y"
        },
        {
         "name": "lasso Validation",
         "type": "bar",
         "x": [
          "Validation"
         ],
         "xaxis": "x",
         "y": [
          0.30272736943070544
         ],
         "yaxis": "y"
        },
        {
         "name": "ridge CV folds",
         "type": "bar",
         "x": [
          "fold 1",
          "fold 2",
          "fold 3",
          "fold 4",
          "fold 5"
         ],
         "xaxis": "x2",
         "y": {
          "bdata": "am/qTGgZ2T8Wo43TaknUP/N9H8ydVNE/tSzTm44d0z8SfYwMYVHOPw==",
          "dtype": "f8"
         },
         "yaxis": "y2"
        },
        {
         "name": "ridge Validation",
         "type": "bar",
         "x": [
          "Validation"
         ],
         "xaxis": "x2",
         "y": [
          0.3027047341823862
         ],
         "yaxis": "y2"
        },
        {
         "name": "elNet CV folds",
         "type": "bar",
         "x": [
          "fold 1",
          "fold 2",
          "fold 3",
          "fold 4",
          "fold 5"
         ],
         "xaxis": "x3",
         "y": {
          "bdata": "Nfcn4gkZ2T/QVCC/zEnUP3K/lfSBVNE/Rac0sCwd0z9t8lsrMFLOPw==",
          "dtype": "f8"
         },
         "yaxis": "y3"
        },
        {
         "name": "elNet Validation",
         "type": "bar",
         "x": [
          "Validation"
         ],
         "xaxis": "x3",
         "y": [
          0.30272525746966966
         ],
         "yaxis": "y3"
        },
        {
         "name": "svr CV folds",
         "type": "bar",
         "x": [
          "fold 1",
          "fold 2",
          "fold 3",
          "fold 4",
          "fold 5"
         ],
         "xaxis": "x4",
         "y": {
          "bdata": "Zw1vAis+2D+newvdo2DVP08as4vzQ9E/5SA8y2Lj0j+Xjk1G7B7OPw==",
          "dtype": "f8"
         },
         "yaxis": "y4"
        },
        {
         "name": "svr Validation",
         "type": "bar",
         "x": [
          "Validation"
         ],
         "xaxis": "x4",
         "y": [
          0.32793028396363494
         ],
         "yaxis": "y4"
        }
       ],
       "layout": {
        "annotations": [
         {
          "font": {
           "size": 16
          },
          "showarrow": false,
          "text": "lasso",
          "x": 0.225,
          "xanchor": "center",
          "xref": "paper",
          "y": 1,
          "yanchor": "bottom",
          "yref": "paper"
         },
         {
          "font": {
           "size": 16
          },
          "showarrow": false,
          "text": "ridge",
          "x": 0.775,
          "xanchor": "center",
          "xref": "paper",
          "y": 1,
          "yanchor": "bottom",
          "yref": "paper"
         },
         {
          "font": {
           "size": 16
          },
          "showarrow": false,
          "text": "elNet",
          "x": 0.225,
          "xanchor": "center",
          "xref": "paper",
          "y": 0.375,
          "yanchor": "bottom",
          "yref": "paper"
         },
         {
          "font": {
           "size": 16
          },
          "showarrow": false,
          "text": "svr",
          "x": 0.775,
          "xanchor": "center",
          "xref": "paper",
          "y": 0.375,
          "yanchor": "bottom",
          "yref": "paper"
         }
        ],
        "barmode": "group",
        "height": 600,
        "showlegend": true,
        "template": {
         "data": {
          "bar": [
           {
            "error_x": {
             "color": "#2a3f5f"
            },
            "error_y": {
             "color": "#2a3f5f"
            },
            "marker": {
             "line": {
              "color": "#E5ECF6",
              "width": 0.5
             },
             "pattern": {
              "fillmode": "overlay",
              "size": 10,
              "solidity": 0.2
             }
            },
            "type": "bar"
           }
          ],
          "barpolar": [
           {
            "marker": {
             "line": {
              "color": "#E5ECF6",
              "width": 0.5
             },
             "pattern": {
              "fillmode": "overlay",
              "size": 10,
              "solidity": 0.2
             }
            },
            "type": "barpolar"
           }
          ],
          "carpet": [
           {
            "aaxis": {
             "endlinecolor": "#2a3f5f",
             "gridcolor": "white",
             "linecolor": "white",
             "minorgridcolor": "white",
             "startlinecolor": "#2a3f5f"
            },
            "baxis": {
             "endlinecolor": "#2a3f5f",
             "gridcolor": "white",
             "linecolor": "white",
             "minorgridcolor": "white",
             "startlinecolor": "#2a3f5f"
            },
            "type": "carpet"
           }
          ],
          "choropleth": [
           {
            "colorbar": {
             "outlinewidth": 0,
             "ticks": ""
            },
            "type": "choropleth"
           }
          ],
          "contour": [
           {
            "colorbar": {
             "outlinewidth": 0,
             "ticks": ""
            },
            "colorscale": [
             [
              0,
              "#0d0887"
             ],
             [
              0.1111111111111111,
              "#46039f"
             ],
             [
              0.2222222222222222,
              "#7201a8"
             ],
             [
              0.3333333333333333,
              "#9c179e"
             ],
             [
              0.4444444444444444,
              "#bd3786"
             ],
             [
              0.5555555555555556,
              "#d8576b"
             ],
             [
              0.6666666666666666,
              "#ed7953"
             ],
             [
              0.7777777777777778,
              "#fb9f3a"
             ],
             [
              0.8888888888888888,
              "#fdca26"
             ],
             [
              1,
              "#f0f921"
             ]
            ],
            "type": "contour"
           }
          ],
          "contourcarpet": [
           {
            "colorbar": {
             "outlinewidth": 0,
             "ticks": ""
            },
            "type": "contourcarpet"
           }
          ],
          "heatmap": [
           {
            "colorbar": {
             "outlinewidth": 0,
             "ticks": ""
            },
            "colorscale": [
             [
              0,
              "#0d0887"
             ],
             [
              0.1111111111111111,
              "#46039f"
             ],
             [
              0.2222222222222222,
              "#7201a8"
             ],
             [
              0.3333333333333333,
              "#9c179e"
             ],
             [
              0.4444444444444444,
              "#bd3786"
             ],
             [
              0.5555555555555556,
              "#d8576b"
             ],
             [
              0.6666666666666666,
              "#ed7953"
             ],
             [
              0.7777777777777778,
              "#fb9f3a"
             ],
             [
              0.8888888888888888,
              "#fdca26"
             ],
             [
              1,
              "#f0f921"
             ]
            ],
            "type": "heatmap"
           }
          ],
          "histogram": [
           {
            "marker": {
             "pattern": {
              "fillmode": "overlay",
              "size": 10,
              "solidity": 0.2
             }
            },
            "type": "histogram"
           }
          ],
          "histogram2d": [
           {
            "colorbar": {
             "outlinewidth": 0,
             "ticks": ""
            },
            "colorscale": [
             [
              0,
              "#0d0887"
             ],
             [
              0.1111111111111111,
              "#46039f"
             ],
             [
              0.2222222222222222,
              "#7201a8"
             ],
             [
              0.3333333333333333,
              "#9c179e"
             ],
             [
              0.4444444444444444,
              "#bd3786"
             ],
             [
              0.5555555555555556,
              "#d8576b"
             ],
             [
              0.6666666666666666,
              "#ed7953"
             ],
             [
              0.7777777777777778,
              "#fb9f3a"
             ],
             [
              0.8888888888888888,
              "#fdca26"
             ],
             [
              1,
              "#f0f921"
             ]
            ],
            "type": "histogram2d"
           }
          ],
          "histogram2dcontour": [
           {
            "colorbar": {
             "outlinewidth": 0,
             "ticks": ""
            },
            "colorscale": [
             [
              0,
              "#0d0887"
             ],
             [
              0.1111111111111111,
              "#46039f"
             ],
             [
              0.2222222222222222,
              "#7201a8"
             ],
             [
              0.3333333333333333,
              "#9c179e"
             ],
             [
              0.4444444444444444,
              "#bd3786"
             ],
             [
              0.5555555555555556,
              "#d8576b"
             ],
             [
              0.6666666666666666,
              "#ed7953"
             ],
             [
              0.7777777777777778,
              "#fb9f3a"
             ],
             [
              0.8888888888888888,
              "#fdca26"
             ],
             [
              1,
              "#f0f921"
             ]
            ],
            "type": "histogram2dcontour"
           }
          ],
          "mesh3d": [
           {
            "colorbar": {
             "outlinewidth": 0,
             "ticks": ""
            },
            "type": "mesh3d"
           }
          ],
          "parcoords": [
           {
            "line": {
             "colorbar": {
              "outlinewidth": 0,
              "ticks": ""
             }
            },
            "type": "parcoords"
           }
          ],
          "pie": [
           {
            "automargin": true,
            "type": "pie"
           }
          ],
          "scatter": [
           {
            "fillpattern": {
             "fillmode": "overlay",
             "size": 10,
             "solidity": 0.2
            },
            "type": "scatter"
           }
          ],
          "scatter3d": [
           {
            "line": {
             "colorbar": {
              "outlinewidth": 0,
              "ticks": ""
             }
            },
            "marker": {
             "colorbar": {
              "outlinewidth": 0,
              "ticks": ""
             }
            },
            "type": "scatter3d"
           }
          ],
          "scattercarpet": [
           {
            "marker": {
             "colorbar": {
              "outlinewidth": 0,
              "ticks": ""
             }
            },
            "type": "scattercarpet"
           }
          ],
          "scattergeo": [
           {
            "marker": {
             "colorbar": {
              "outlinewidth": 0,
              "ticks": ""
             }
            },
            "type": "scattergeo"
           }
          ],
          "scattergl": [
           {
            "marker": {
             "colorbar": {
              "outlinewidth": 0,
              "ticks": ""
             }
            },
            "type": "scattergl"
           }
          ],
          "scattermap": [
           {
            "marker": {
             "colorbar": {
              "outlinewidth": 0,
              "ticks": ""
             }
            },
            "type": "scattermap"
           }
          ],
          "scattermapbox": [
           {
            "marker": {
             "colorbar": {
              "outlinewidth": 0,
              "ticks": ""
             }
            },
            "type": "scattermapbox"
           }
          ],
          "scatterpolar": [
           {
            "marker": {
             "colorbar": {
              "outlinewidth": 0,
              "ticks": ""
             }
            },
            "type": "scatterpolar"
           }
          ],
          "scatterpolargl": [
           {
            "marker": {
             "colorbar": {
              "outlinewidth": 0,
              "ticks": ""
             }
            },
            "type": "scatterpolargl"
           }
          ],
          "scatterternary": [
           {
            "marker": {
             "colorbar": {
              "outlinewidth": 0,
              "ticks": ""
             }
            },
            "type": "scatterternary"
           }
          ],
          "surface": [
           {
            "colorbar": {
             "outlinewidth": 0,
             "ticks": ""
            },
            "colorscale": [
             [
              0,
              "#0d0887"
             ],
             [
              0.1111111111111111,
              "#46039f"
             ],
             [
              0.2222222222222222,
              "#7201a8"
             ],
             [
              0.3333333333333333,
              "#9c179e"
             ],
             [
              0.4444444444444444,
              "#bd3786"
             ],
             [
              0.5555555555555556,
              "#d8576b"
             ],
             [
              0.6666666666666666,
              "#ed7953"
             ],
             [
              0.7777777777777778,
              "#fb9f3a"
             ],
             [
              0.8888888888888888,
              "#fdca26"
             ],
             [
              1,
              "#f0f921"
             ]
            ],
            "type": "surface"
           }
          ],
          "table": [
           {
            "cells": {
             "fill": {
              "color": "#EBF0F8"
             },
             "line": {
              "color": "white"
             }
            },
            "header": {
             "fill": {
              "color": "#C8D4E3"
             },
             "line": {
              "color": "white"
             }
            },
            "type": "table"
           }
          ]
         },
         "layout": {
          "annotationdefaults": {
           "arrowcolor": "#2a3f5f",
           "arrowhead": 0,
           "arrowwidth": 1
          },
          "autotypenumbers": "strict",
          "coloraxis": {
           "colorbar": {
            "outlinewidth": 0,
            "ticks": ""
           }
          },
          "colorscale": {
           "diverging": [
            [
             0,
             "#8e0152"
            ],
            [
             0.1,
             "#c51b7d"
            ],
            [
             0.2,
             "#de77ae"
            ],
            [
             0.3,
             "#f1b6da"
            ],
            [
             0.4,
             "#fde0ef"
            ],
            [
             0.5,
             "#f7f7f7"
            ],
            [
             0.6,
             "#e6f5d0"
            ],
            [
             0.7,
             "#b8e186"
            ],
            [
             0.8,
             "#7fbc41"
            ],
            [
             0.9,
             "#4d9221"
            ],
            [
             1,
             "#276419"
            ]
           ],
           "sequential": [
            [
             0,
             "#0d0887"
            ],
            [
             0.1111111111111111,
             "#46039f"
            ],
            [
             0.2222222222222222,
             "#7201a8"
            ],
            [
             0.3333333333333333,
             "#9c179e"
            ],
            [
             0.4444444444444444,
             "#bd3786"
            ],
            [
             0.5555555555555556,
             "#d8576b"
            ],
            [
             0.6666666666666666,
             "#ed7953"
            ],
            [
             0.7777777777777778,
             "#fb9f3a"
            ],
            [
             0.8888888888888888,
             "#fdca26"
            ],
            [
             1,
             "#f0f921"
            ]
           ],
           "sequentialminus": [
            [
             0,
             "#0d0887"
            ],
            [
             0.1111111111111111,
             "#46039f"
            ],
            [
             0.2222222222222222,
             "#7201a8"
            ],
            [
             0.3333333333333333,
             "#9c179e"
            ],
            [
             0.4444444444444444,
             "#bd3786"
            ],
            [
             0.5555555555555556,
             "#d8576b"
            ],
            [
             0.6666666666666666,
             "#ed7953"
            ],
            [
             0.7777777777777778,
             "#fb9f3a"
            ],
            [
             0.8888888888888888,
             "#fdca26"
            ],
            [
             1,
             "#f0f921"
            ]
           ]
          },
          "colorway": [
           "#636efa",
           "#EF553B",
           "#00cc96",
           "#ab63fa",
           "#FFA15A",
           "#19d3f3",
           "#FF6692",
           "#B6E880",
           "#FF97FF",
           "#FECB52"
          ],
          "font": {
           "color": "#2a3f5f"
          },
          "geo": {
           "bgcolor": "white",
           "lakecolor": "white",
           "landcolor": "#E5ECF6",
           "showlakes": true,
           "showland": true,
           "subunitcolor": "white"
          },
          "hoverlabel": {
           "align": "left"
          },
          "hovermode": "closest",
          "mapbox": {
           "style": "light"
          },
          "paper_bgcolor": "white",
          "plot_bgcolor": "#E5ECF6",
          "polar": {
           "angularaxis": {
            "gridcolor": "white",
            "linecolor": "white",
            "ticks": ""
           },
           "bgcolor": "#E5ECF6",
           "radialaxis": {
            "gridcolor": "white",
            "linecolor": "white",
            "ticks": ""
           }
          },
          "scene": {
           "xaxis": {
            "backgroundcolor": "#E5ECF6",
            "gridcolor": "white",
            "gridwidth": 2,
            "linecolor": "white",
            "showbackground": true,
            "ticks": "",
            "zerolinecolor": "white"
           },
           "yaxis": {
            "backgroundcolor": "#E5ECF6",
            "gridcolor": "white",
            "gridwidth": 2,
            "linecolor": "white",
            "showbackground": true,
            "ticks": "",
            "zerolinecolor": "white"
           },
           "zaxis": {
            "backgroundcolor": "#E5ECF6",
            "gridcolor": "white",
            "gridwidth": 2,
            "linecolor": "white",
            "showbackground": true,
            "ticks": "",
            "zerolinecolor": "white"
           }
          },
          "shapedefaults": {
           "line": {
            "color": "#2a3f5f"
           }
          },
          "ternary": {
           "aaxis": {
            "gridcolor": "white",
            "linecolor": "white",
            "ticks": ""
           },
           "baxis": {
            "gridcolor": "white",
            "linecolor": "white",
            "ticks": ""
           },
           "bgcolor": "#E5ECF6",
           "caxis": {
            "gridcolor": "white",
            "linecolor": "white",
            "ticks": ""
           }
          },
          "title": {
           "x": 0.05
          },
          "xaxis": {
           "automargin": true,
           "gridcolor": "white",
           "linecolor": "white",
           "ticks": "",
           "title": {
            "standoff": 15
           },
           "zerolinecolor": "white",
           "zerolinewidth": 2
          },
          "yaxis": {
           "automargin": true,
           "gridcolor": "white",
           "linecolor": "white",
           "ticks": "",
           "title": {
            "standoff": 15
           },
           "zerolinecolor": "white",
           "zerolinewidth": 2
          }
         }
        },
        "width": 1000,
        "xaxis": {
         "anchor": "y",
         "domain": [
          0,
          0.45
         ]
        },
        "xaxis2": {
         "anchor": "y2",
         "domain": [
          0.55,
          1
         ]
        },
        "xaxis3": {
         "anchor": "y3",
         "domain": [
          0,
          0.45
         ]
        },
        "xaxis4": {
         "anchor": "y4",
         "domain": [
          0.55,
          1
         ]
        },
        "yaxis": {
         "anchor": "x",
         "domain": [
          0.625,
          1
         ],
         "range": [
          0.23,
          0.46
         ]
        },
        "yaxis2": {
         "anchor": "x2",
         "domain": [
          0.625,
          1
         ],
         "range": [
          0.23,
          0.46
         ]
        },
        "yaxis3": {
         "anchor": "x3",
         "domain": [
          0,
          0.375
         ],
         "range": [
          0.23,
          0.46
         ]
        },
        "yaxis4": {
         "anchor": "x4",
         "domain": [
          0,
          0.375
         ],
         "range": [
          0.23,
          0.46
         ]
        }
       }
      }
     },
     "metadata": {},
     "output_type": "display_data"
    }
   ],
   "source": [
    "md.plot_stacking_scores(st_cv_scores, st_val_scores, mode='folds', items_per_row=2)"
   ]
  },
  {
   "cell_type": "markdown",
   "id": "6f213a0c",
   "metadata": {},
   "source": [
    "## 4. Predictions"
   ]
  },
  {
   "cell_type": "code",
   "execution_count": 38,
   "id": "285a1b3c",
   "metadata": {},
   "outputs": [],
   "source": [
    "X, y, X_test = dt.load_test_data()"
   ]
  },
  {
   "cell_type": "code",
   "execution_count": 42,
   "id": "5bbed521",
   "metadata": {},
   "outputs": [],
   "source": [
    "n = 50\n",
    "raw_predictions = pd.get_raw_predictions(md.SVR, params['svr'][str(n)], X[features_by_importance[:n]], y, X_test[features_by_importance[:n]])\n",
    "dt.prepare_submission(raw_predictions)"
   ]
  },
  {
   "cell_type": "code",
   "execution_count": 52,
   "id": "4febd283",
   "metadata": {},
   "outputs": [
    {
     "name": "stderr",
     "output_type": "stream",
     "text": [
      "/opt/miniconda3/envs/torch_study/lib/python3.11/site-packages/sklearn/utils/validation.py:2749: UserWarning:\n",
      "\n",
      "X does not have valid feature names, but LGBMRegressor was fitted with feature names\n",
      "\n",
      "/opt/miniconda3/envs/torch_study/lib/python3.11/site-packages/sklearn/utils/validation.py:2749: UserWarning:\n",
      "\n",
      "X does not have valid feature names, but LGBMRegressor was fitted with feature names\n",
      "\n",
      "/opt/miniconda3/envs/torch_study/lib/python3.11/site-packages/sklearn/utils/validation.py:2749: UserWarning:\n",
      "\n",
      "X does not have valid feature names, but LGBMRegressor was fitted with feature names\n",
      "\n",
      "/opt/miniconda3/envs/torch_study/lib/python3.11/site-packages/sklearn/utils/validation.py:2749: UserWarning:\n",
      "\n",
      "X does not have valid feature names, but LGBMRegressor was fitted with feature names\n",
      "\n",
      "/opt/miniconda3/envs/torch_study/lib/python3.11/site-packages/sklearn/utils/validation.py:2749: UserWarning:\n",
      "\n",
      "X does not have valid feature names, but LGBMRegressor was fitted with feature names\n",
      "\n",
      "/opt/miniconda3/envs/torch_study/lib/python3.11/site-packages/sklearn/utils/validation.py:2749: UserWarning:\n",
      "\n",
      "X does not have valid feature names, but LGBMRegressor was fitted with feature names\n",
      "\n"
     ]
    }
   ],
   "source": [
    "from sklearn.svm import SVR\n",
    "from sklearn.linear_model import Lasso, Ridge\n",
    "\n",
    "stack_regressor = md.create_stack_regressor(model_selection, Lasso(alpha=0.0021994031), features_by_importance)\n",
    "stack_regressor.fit(X, y)\n",
    "raw_predictions = stack_regressor.predict(X_test)\n",
    "dt.prepare_submission(raw_predictions)"
   ]
  }
 ],
 "metadata": {
  "kernelspec": {
   "display_name": "torch_study",
   "language": "python",
   "name": "python3"
  },
  "language_info": {
   "codemirror_mode": {
    "name": "ipython",
    "version": 3
   },
   "file_extension": ".py",
   "mimetype": "text/x-python",
   "name": "python",
   "nbconvert_exporter": "python",
   "pygments_lexer": "ipython3",
   "version": "3.11.8"
  }
 },
 "nbformat": 4,
 "nbformat_minor": 5
}
